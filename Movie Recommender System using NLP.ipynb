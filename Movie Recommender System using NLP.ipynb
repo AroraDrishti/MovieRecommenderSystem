{
 "cells": [
  {
   "cell_type": "markdown",
   "id": "6a380287",
   "metadata": {},
   "source": [
    "# MOVIE RECOMMENDER SYSTEM"
   ]
  },
  {
   "cell_type": "markdown",
   "id": "31563e54",
   "metadata": {},
   "source": [
    "#### Step 1: Define Research Goal\n",
    "To develop a content-based recommender system which recommends top 5 movies similar to a given movie."
   ]
  },
  {
   "cell_type": "code",
   "execution_count": 1,
   "id": "472690a5",
   "metadata": {},
   "outputs": [],
   "source": [
    "import numpy as np\n",
    "import pandas as pd\n",
    "import matplotlib.pyplot as plt\n",
    "import seaborn as sns"
   ]
  },
  {
   "cell_type": "code",
   "execution_count": 2,
   "id": "119ee20d",
   "metadata": {},
   "outputs": [],
   "source": [
    "pd.set_option('display.max_columns', None)"
   ]
  },
  {
   "cell_type": "code",
   "execution_count": 3,
   "id": "ce76c9c0",
   "metadata": {},
   "outputs": [],
   "source": [
    "import warnings\n",
    "warnings.filterwarnings('ignore')"
   ]
  },
  {
   "cell_type": "markdown",
   "id": "f0ab0ff0",
   "metadata": {},
   "source": [
    "#### Step 2: Data Collection\n",
    "The dataset has been taken from Kaggle.\n",
    "Link: https://www.kaggle.com/tmdb/tmdb-movie-metadata?select=tmdb_5000_movies.csv"
   ]
  },
  {
   "cell_type": "code",
   "execution_count": 4,
   "id": "d458d245",
   "metadata": {},
   "outputs": [],
   "source": [
    "movies = pd.read_csv('tmdb_5000_movies.csv')\n",
    "credits = pd.read_csv('tmdb_5000_credits.csv')"
   ]
  },
  {
   "cell_type": "markdown",
   "id": "cf25a4f2",
   "metadata": {},
   "source": [
    "#### Step 3: Exploratory Data Analysis\n",
    "1. Exploring the dataset(statistical measures, data types, shape, etc.)\n",
    "2. Exploring and visulaizing Numerical features\n",
    "3. Exploring and visulaizing Categorical features"
   ]
  },
  {
   "cell_type": "code",
   "execution_count": 5,
   "id": "0ce46727",
   "metadata": {},
   "outputs": [
    {
     "data": {
      "text/html": [
       "<div>\n",
       "<style scoped>\n",
       "    .dataframe tbody tr th:only-of-type {\n",
       "        vertical-align: middle;\n",
       "    }\n",
       "\n",
       "    .dataframe tbody tr th {\n",
       "        vertical-align: top;\n",
       "    }\n",
       "\n",
       "    .dataframe thead th {\n",
       "        text-align: right;\n",
       "    }\n",
       "</style>\n",
       "<table border=\"1\" class=\"dataframe\">\n",
       "  <thead>\n",
       "    <tr style=\"text-align: right;\">\n",
       "      <th></th>\n",
       "      <th>budget</th>\n",
       "      <th>genres</th>\n",
       "      <th>homepage</th>\n",
       "      <th>id</th>\n",
       "      <th>keywords</th>\n",
       "      <th>original_language</th>\n",
       "      <th>original_title</th>\n",
       "      <th>overview</th>\n",
       "      <th>popularity</th>\n",
       "      <th>production_companies</th>\n",
       "      <th>production_countries</th>\n",
       "      <th>release_date</th>\n",
       "      <th>revenue</th>\n",
       "      <th>runtime</th>\n",
       "      <th>spoken_languages</th>\n",
       "      <th>status</th>\n",
       "      <th>tagline</th>\n",
       "      <th>title</th>\n",
       "      <th>vote_average</th>\n",
       "      <th>vote_count</th>\n",
       "    </tr>\n",
       "  </thead>\n",
       "  <tbody>\n",
       "    <tr>\n",
       "      <th>0</th>\n",
       "      <td>237000000</td>\n",
       "      <td>[{\"id\": 28, \"name\": \"Action\"}, {\"id\": 12, \"nam...</td>\n",
       "      <td>http://www.avatarmovie.com/</td>\n",
       "      <td>19995</td>\n",
       "      <td>[{\"id\": 1463, \"name\": \"culture clash\"}, {\"id\":...</td>\n",
       "      <td>en</td>\n",
       "      <td>Avatar</td>\n",
       "      <td>In the 22nd century, a paraplegic Marine is di...</td>\n",
       "      <td>150.437577</td>\n",
       "      <td>[{\"name\": \"Ingenious Film Partners\", \"id\": 289...</td>\n",
       "      <td>[{\"iso_3166_1\": \"US\", \"name\": \"United States o...</td>\n",
       "      <td>2009-12-10</td>\n",
       "      <td>2787965087</td>\n",
       "      <td>162.0</td>\n",
       "      <td>[{\"iso_639_1\": \"en\", \"name\": \"English\"}, {\"iso...</td>\n",
       "      <td>Released</td>\n",
       "      <td>Enter the World of Pandora.</td>\n",
       "      <td>Avatar</td>\n",
       "      <td>7.2</td>\n",
       "      <td>11800</td>\n",
       "    </tr>\n",
       "    <tr>\n",
       "      <th>1</th>\n",
       "      <td>300000000</td>\n",
       "      <td>[{\"id\": 12, \"name\": \"Adventure\"}, {\"id\": 14, \"...</td>\n",
       "      <td>http://disney.go.com/disneypictures/pirates/</td>\n",
       "      <td>285</td>\n",
       "      <td>[{\"id\": 270, \"name\": \"ocean\"}, {\"id\": 726, \"na...</td>\n",
       "      <td>en</td>\n",
       "      <td>Pirates of the Caribbean: At World's End</td>\n",
       "      <td>Captain Barbossa, long believed to be dead, ha...</td>\n",
       "      <td>139.082615</td>\n",
       "      <td>[{\"name\": \"Walt Disney Pictures\", \"id\": 2}, {\"...</td>\n",
       "      <td>[{\"iso_3166_1\": \"US\", \"name\": \"United States o...</td>\n",
       "      <td>2007-05-19</td>\n",
       "      <td>961000000</td>\n",
       "      <td>169.0</td>\n",
       "      <td>[{\"iso_639_1\": \"en\", \"name\": \"English\"}]</td>\n",
       "      <td>Released</td>\n",
       "      <td>At the end of the world, the adventure begins.</td>\n",
       "      <td>Pirates of the Caribbean: At World's End</td>\n",
       "      <td>6.9</td>\n",
       "      <td>4500</td>\n",
       "    </tr>\n",
       "    <tr>\n",
       "      <th>2</th>\n",
       "      <td>245000000</td>\n",
       "      <td>[{\"id\": 28, \"name\": \"Action\"}, {\"id\": 12, \"nam...</td>\n",
       "      <td>http://www.sonypictures.com/movies/spectre/</td>\n",
       "      <td>206647</td>\n",
       "      <td>[{\"id\": 470, \"name\": \"spy\"}, {\"id\": 818, \"name...</td>\n",
       "      <td>en</td>\n",
       "      <td>Spectre</td>\n",
       "      <td>A cryptic message from Bond’s past sends him o...</td>\n",
       "      <td>107.376788</td>\n",
       "      <td>[{\"name\": \"Columbia Pictures\", \"id\": 5}, {\"nam...</td>\n",
       "      <td>[{\"iso_3166_1\": \"GB\", \"name\": \"United Kingdom\"...</td>\n",
       "      <td>2015-10-26</td>\n",
       "      <td>880674609</td>\n",
       "      <td>148.0</td>\n",
       "      <td>[{\"iso_639_1\": \"fr\", \"name\": \"Fran\\u00e7ais\"},...</td>\n",
       "      <td>Released</td>\n",
       "      <td>A Plan No One Escapes</td>\n",
       "      <td>Spectre</td>\n",
       "      <td>6.3</td>\n",
       "      <td>4466</td>\n",
       "    </tr>\n",
       "    <tr>\n",
       "      <th>3</th>\n",
       "      <td>250000000</td>\n",
       "      <td>[{\"id\": 28, \"name\": \"Action\"}, {\"id\": 80, \"nam...</td>\n",
       "      <td>http://www.thedarkknightrises.com/</td>\n",
       "      <td>49026</td>\n",
       "      <td>[{\"id\": 849, \"name\": \"dc comics\"}, {\"id\": 853,...</td>\n",
       "      <td>en</td>\n",
       "      <td>The Dark Knight Rises</td>\n",
       "      <td>Following the death of District Attorney Harve...</td>\n",
       "      <td>112.312950</td>\n",
       "      <td>[{\"name\": \"Legendary Pictures\", \"id\": 923}, {\"...</td>\n",
       "      <td>[{\"iso_3166_1\": \"US\", \"name\": \"United States o...</td>\n",
       "      <td>2012-07-16</td>\n",
       "      <td>1084939099</td>\n",
       "      <td>165.0</td>\n",
       "      <td>[{\"iso_639_1\": \"en\", \"name\": \"English\"}]</td>\n",
       "      <td>Released</td>\n",
       "      <td>The Legend Ends</td>\n",
       "      <td>The Dark Knight Rises</td>\n",
       "      <td>7.6</td>\n",
       "      <td>9106</td>\n",
       "    </tr>\n",
       "    <tr>\n",
       "      <th>4</th>\n",
       "      <td>260000000</td>\n",
       "      <td>[{\"id\": 28, \"name\": \"Action\"}, {\"id\": 12, \"nam...</td>\n",
       "      <td>http://movies.disney.com/john-carter</td>\n",
       "      <td>49529</td>\n",
       "      <td>[{\"id\": 818, \"name\": \"based on novel\"}, {\"id\":...</td>\n",
       "      <td>en</td>\n",
       "      <td>John Carter</td>\n",
       "      <td>John Carter is a war-weary, former military ca...</td>\n",
       "      <td>43.926995</td>\n",
       "      <td>[{\"name\": \"Walt Disney Pictures\", \"id\": 2}]</td>\n",
       "      <td>[{\"iso_3166_1\": \"US\", \"name\": \"United States o...</td>\n",
       "      <td>2012-03-07</td>\n",
       "      <td>284139100</td>\n",
       "      <td>132.0</td>\n",
       "      <td>[{\"iso_639_1\": \"en\", \"name\": \"English\"}]</td>\n",
       "      <td>Released</td>\n",
       "      <td>Lost in our world, found in another.</td>\n",
       "      <td>John Carter</td>\n",
       "      <td>6.1</td>\n",
       "      <td>2124</td>\n",
       "    </tr>\n",
       "  </tbody>\n",
       "</table>\n",
       "</div>"
      ],
      "text/plain": [
       "      budget                                             genres  \\\n",
       "0  237000000  [{\"id\": 28, \"name\": \"Action\"}, {\"id\": 12, \"nam...   \n",
       "1  300000000  [{\"id\": 12, \"name\": \"Adventure\"}, {\"id\": 14, \"...   \n",
       "2  245000000  [{\"id\": 28, \"name\": \"Action\"}, {\"id\": 12, \"nam...   \n",
       "3  250000000  [{\"id\": 28, \"name\": \"Action\"}, {\"id\": 80, \"nam...   \n",
       "4  260000000  [{\"id\": 28, \"name\": \"Action\"}, {\"id\": 12, \"nam...   \n",
       "\n",
       "                                       homepage      id  \\\n",
       "0                   http://www.avatarmovie.com/   19995   \n",
       "1  http://disney.go.com/disneypictures/pirates/     285   \n",
       "2   http://www.sonypictures.com/movies/spectre/  206647   \n",
       "3            http://www.thedarkknightrises.com/   49026   \n",
       "4          http://movies.disney.com/john-carter   49529   \n",
       "\n",
       "                                            keywords original_language  \\\n",
       "0  [{\"id\": 1463, \"name\": \"culture clash\"}, {\"id\":...                en   \n",
       "1  [{\"id\": 270, \"name\": \"ocean\"}, {\"id\": 726, \"na...                en   \n",
       "2  [{\"id\": 470, \"name\": \"spy\"}, {\"id\": 818, \"name...                en   \n",
       "3  [{\"id\": 849, \"name\": \"dc comics\"}, {\"id\": 853,...                en   \n",
       "4  [{\"id\": 818, \"name\": \"based on novel\"}, {\"id\":...                en   \n",
       "\n",
       "                             original_title  \\\n",
       "0                                    Avatar   \n",
       "1  Pirates of the Caribbean: At World's End   \n",
       "2                                   Spectre   \n",
       "3                     The Dark Knight Rises   \n",
       "4                               John Carter   \n",
       "\n",
       "                                            overview  popularity  \\\n",
       "0  In the 22nd century, a paraplegic Marine is di...  150.437577   \n",
       "1  Captain Barbossa, long believed to be dead, ha...  139.082615   \n",
       "2  A cryptic message from Bond’s past sends him o...  107.376788   \n",
       "3  Following the death of District Attorney Harve...  112.312950   \n",
       "4  John Carter is a war-weary, former military ca...   43.926995   \n",
       "\n",
       "                                production_companies  \\\n",
       "0  [{\"name\": \"Ingenious Film Partners\", \"id\": 289...   \n",
       "1  [{\"name\": \"Walt Disney Pictures\", \"id\": 2}, {\"...   \n",
       "2  [{\"name\": \"Columbia Pictures\", \"id\": 5}, {\"nam...   \n",
       "3  [{\"name\": \"Legendary Pictures\", \"id\": 923}, {\"...   \n",
       "4        [{\"name\": \"Walt Disney Pictures\", \"id\": 2}]   \n",
       "\n",
       "                                production_countries release_date     revenue  \\\n",
       "0  [{\"iso_3166_1\": \"US\", \"name\": \"United States o...   2009-12-10  2787965087   \n",
       "1  [{\"iso_3166_1\": \"US\", \"name\": \"United States o...   2007-05-19   961000000   \n",
       "2  [{\"iso_3166_1\": \"GB\", \"name\": \"United Kingdom\"...   2015-10-26   880674609   \n",
       "3  [{\"iso_3166_1\": \"US\", \"name\": \"United States o...   2012-07-16  1084939099   \n",
       "4  [{\"iso_3166_1\": \"US\", \"name\": \"United States o...   2012-03-07   284139100   \n",
       "\n",
       "   runtime                                   spoken_languages    status  \\\n",
       "0    162.0  [{\"iso_639_1\": \"en\", \"name\": \"English\"}, {\"iso...  Released   \n",
       "1    169.0           [{\"iso_639_1\": \"en\", \"name\": \"English\"}]  Released   \n",
       "2    148.0  [{\"iso_639_1\": \"fr\", \"name\": \"Fran\\u00e7ais\"},...  Released   \n",
       "3    165.0           [{\"iso_639_1\": \"en\", \"name\": \"English\"}]  Released   \n",
       "4    132.0           [{\"iso_639_1\": \"en\", \"name\": \"English\"}]  Released   \n",
       "\n",
       "                                          tagline  \\\n",
       "0                     Enter the World of Pandora.   \n",
       "1  At the end of the world, the adventure begins.   \n",
       "2                           A Plan No One Escapes   \n",
       "3                                 The Legend Ends   \n",
       "4            Lost in our world, found in another.   \n",
       "\n",
       "                                      title  vote_average  vote_count  \n",
       "0                                    Avatar           7.2       11800  \n",
       "1  Pirates of the Caribbean: At World's End           6.9        4500  \n",
       "2                                   Spectre           6.3        4466  \n",
       "3                     The Dark Knight Rises           7.6        9106  \n",
       "4                               John Carter           6.1        2124  "
      ]
     },
     "execution_count": 5,
     "metadata": {},
     "output_type": "execute_result"
    }
   ],
   "source": [
    "movies.head()"
   ]
  },
  {
   "cell_type": "code",
   "execution_count": 6,
   "id": "def39dc6",
   "metadata": {},
   "outputs": [
    {
     "data": {
      "text/html": [
       "<div>\n",
       "<style scoped>\n",
       "    .dataframe tbody tr th:only-of-type {\n",
       "        vertical-align: middle;\n",
       "    }\n",
       "\n",
       "    .dataframe tbody tr th {\n",
       "        vertical-align: top;\n",
       "    }\n",
       "\n",
       "    .dataframe thead th {\n",
       "        text-align: right;\n",
       "    }\n",
       "</style>\n",
       "<table border=\"1\" class=\"dataframe\">\n",
       "  <thead>\n",
       "    <tr style=\"text-align: right;\">\n",
       "      <th></th>\n",
       "      <th>movie_id</th>\n",
       "      <th>title</th>\n",
       "      <th>cast</th>\n",
       "      <th>crew</th>\n",
       "    </tr>\n",
       "  </thead>\n",
       "  <tbody>\n",
       "    <tr>\n",
       "      <th>0</th>\n",
       "      <td>19995</td>\n",
       "      <td>Avatar</td>\n",
       "      <td>[{\"cast_id\": 242, \"character\": \"Jake Sully\", \"...</td>\n",
       "      <td>[{\"credit_id\": \"52fe48009251416c750aca23\", \"de...</td>\n",
       "    </tr>\n",
       "    <tr>\n",
       "      <th>1</th>\n",
       "      <td>285</td>\n",
       "      <td>Pirates of the Caribbean: At World's End</td>\n",
       "      <td>[{\"cast_id\": 4, \"character\": \"Captain Jack Spa...</td>\n",
       "      <td>[{\"credit_id\": \"52fe4232c3a36847f800b579\", \"de...</td>\n",
       "    </tr>\n",
       "    <tr>\n",
       "      <th>2</th>\n",
       "      <td>206647</td>\n",
       "      <td>Spectre</td>\n",
       "      <td>[{\"cast_id\": 1, \"character\": \"James Bond\", \"cr...</td>\n",
       "      <td>[{\"credit_id\": \"54805967c3a36829b5002c41\", \"de...</td>\n",
       "    </tr>\n",
       "    <tr>\n",
       "      <th>3</th>\n",
       "      <td>49026</td>\n",
       "      <td>The Dark Knight Rises</td>\n",
       "      <td>[{\"cast_id\": 2, \"character\": \"Bruce Wayne / Ba...</td>\n",
       "      <td>[{\"credit_id\": \"52fe4781c3a36847f81398c3\", \"de...</td>\n",
       "    </tr>\n",
       "    <tr>\n",
       "      <th>4</th>\n",
       "      <td>49529</td>\n",
       "      <td>John Carter</td>\n",
       "      <td>[{\"cast_id\": 5, \"character\": \"John Carter\", \"c...</td>\n",
       "      <td>[{\"credit_id\": \"52fe479ac3a36847f813eaa3\", \"de...</td>\n",
       "    </tr>\n",
       "  </tbody>\n",
       "</table>\n",
       "</div>"
      ],
      "text/plain": [
       "   movie_id                                     title  \\\n",
       "0     19995                                    Avatar   \n",
       "1       285  Pirates of the Caribbean: At World's End   \n",
       "2    206647                                   Spectre   \n",
       "3     49026                     The Dark Knight Rises   \n",
       "4     49529                               John Carter   \n",
       "\n",
       "                                                cast  \\\n",
       "0  [{\"cast_id\": 242, \"character\": \"Jake Sully\", \"...   \n",
       "1  [{\"cast_id\": 4, \"character\": \"Captain Jack Spa...   \n",
       "2  [{\"cast_id\": 1, \"character\": \"James Bond\", \"cr...   \n",
       "3  [{\"cast_id\": 2, \"character\": \"Bruce Wayne / Ba...   \n",
       "4  [{\"cast_id\": 5, \"character\": \"John Carter\", \"c...   \n",
       "\n",
       "                                                crew  \n",
       "0  [{\"credit_id\": \"52fe48009251416c750aca23\", \"de...  \n",
       "1  [{\"credit_id\": \"52fe4232c3a36847f800b579\", \"de...  \n",
       "2  [{\"credit_id\": \"54805967c3a36829b5002c41\", \"de...  \n",
       "3  [{\"credit_id\": \"52fe4781c3a36847f81398c3\", \"de...  \n",
       "4  [{\"credit_id\": \"52fe479ac3a36847f813eaa3\", \"de...  "
      ]
     },
     "execution_count": 6,
     "metadata": {},
     "output_type": "execute_result"
    }
   ],
   "source": [
    "credits.head()"
   ]
  },
  {
   "cell_type": "code",
   "execution_count": 7,
   "id": "7ea912b1",
   "metadata": {},
   "outputs": [
    {
     "data": {
      "text/plain": [
       "(4803, 20)"
      ]
     },
     "execution_count": 7,
     "metadata": {},
     "output_type": "execute_result"
    }
   ],
   "source": [
    "movies.shape"
   ]
  },
  {
   "cell_type": "code",
   "execution_count": 8,
   "id": "e2dfbe8f",
   "metadata": {},
   "outputs": [
    {
     "data": {
      "text/plain": [
       "(4803, 4)"
      ]
     },
     "execution_count": 8,
     "metadata": {},
     "output_type": "execute_result"
    }
   ],
   "source": [
    "credits.shape"
   ]
  },
  {
   "cell_type": "code",
   "execution_count": 9,
   "id": "b9002daa",
   "metadata": {},
   "outputs": [
    {
     "name": "stdout",
     "output_type": "stream",
     "text": [
      "<class 'pandas.core.frame.DataFrame'>\n",
      "RangeIndex: 4803 entries, 0 to 4802\n",
      "Data columns (total 20 columns):\n",
      " #   Column                Non-Null Count  Dtype  \n",
      "---  ------                --------------  -----  \n",
      " 0   budget                4803 non-null   int64  \n",
      " 1   genres                4803 non-null   object \n",
      " 2   homepage              1712 non-null   object \n",
      " 3   id                    4803 non-null   int64  \n",
      " 4   keywords              4803 non-null   object \n",
      " 5   original_language     4803 non-null   object \n",
      " 6   original_title        4803 non-null   object \n",
      " 7   overview              4800 non-null   object \n",
      " 8   popularity            4803 non-null   float64\n",
      " 9   production_companies  4803 non-null   object \n",
      " 10  production_countries  4803 non-null   object \n",
      " 11  release_date          4802 non-null   object \n",
      " 12  revenue               4803 non-null   int64  \n",
      " 13  runtime               4801 non-null   float64\n",
      " 14  spoken_languages      4803 non-null   object \n",
      " 15  status                4803 non-null   object \n",
      " 16  tagline               3959 non-null   object \n",
      " 17  title                 4803 non-null   object \n",
      " 18  vote_average          4803 non-null   float64\n",
      " 19  vote_count            4803 non-null   int64  \n",
      "dtypes: float64(3), int64(4), object(13)\n",
      "memory usage: 750.6+ KB\n"
     ]
    }
   ],
   "source": [
    "movies.info()"
   ]
  },
  {
   "cell_type": "code",
   "execution_count": 10,
   "id": "e4d74ee7",
   "metadata": {},
   "outputs": [
    {
     "name": "stdout",
     "output_type": "stream",
     "text": [
      "<class 'pandas.core.frame.DataFrame'>\n",
      "RangeIndex: 4803 entries, 0 to 4802\n",
      "Data columns (total 4 columns):\n",
      " #   Column    Non-Null Count  Dtype \n",
      "---  ------    --------------  ----- \n",
      " 0   movie_id  4803 non-null   int64 \n",
      " 1   title     4803 non-null   object\n",
      " 2   cast      4803 non-null   object\n",
      " 3   crew      4803 non-null   object\n",
      "dtypes: int64(1), object(3)\n",
      "memory usage: 150.2+ KB\n"
     ]
    }
   ],
   "source": [
    "credits.info()"
   ]
  },
  {
   "cell_type": "code",
   "execution_count": 11,
   "id": "e4ed1705",
   "metadata": {},
   "outputs": [
    {
     "data": {
      "text/html": [
       "<div>\n",
       "<style scoped>\n",
       "    .dataframe tbody tr th:only-of-type {\n",
       "        vertical-align: middle;\n",
       "    }\n",
       "\n",
       "    .dataframe tbody tr th {\n",
       "        vertical-align: top;\n",
       "    }\n",
       "\n",
       "    .dataframe thead th {\n",
       "        text-align: right;\n",
       "    }\n",
       "</style>\n",
       "<table border=\"1\" class=\"dataframe\">\n",
       "  <thead>\n",
       "    <tr style=\"text-align: right;\">\n",
       "      <th></th>\n",
       "      <th>budget</th>\n",
       "      <th>id</th>\n",
       "      <th>popularity</th>\n",
       "      <th>revenue</th>\n",
       "      <th>runtime</th>\n",
       "      <th>vote_average</th>\n",
       "      <th>vote_count</th>\n",
       "    </tr>\n",
       "  </thead>\n",
       "  <tbody>\n",
       "    <tr>\n",
       "      <th>count</th>\n",
       "      <td>4.803000e+03</td>\n",
       "      <td>4803.000000</td>\n",
       "      <td>4803.000000</td>\n",
       "      <td>4.803000e+03</td>\n",
       "      <td>4801.000000</td>\n",
       "      <td>4803.000000</td>\n",
       "      <td>4803.000000</td>\n",
       "    </tr>\n",
       "    <tr>\n",
       "      <th>mean</th>\n",
       "      <td>2.904504e+07</td>\n",
       "      <td>57165.484281</td>\n",
       "      <td>21.492301</td>\n",
       "      <td>8.226064e+07</td>\n",
       "      <td>106.875859</td>\n",
       "      <td>6.092172</td>\n",
       "      <td>690.217989</td>\n",
       "    </tr>\n",
       "    <tr>\n",
       "      <th>std</th>\n",
       "      <td>4.072239e+07</td>\n",
       "      <td>88694.614033</td>\n",
       "      <td>31.816650</td>\n",
       "      <td>1.628571e+08</td>\n",
       "      <td>22.611935</td>\n",
       "      <td>1.194612</td>\n",
       "      <td>1234.585891</td>\n",
       "    </tr>\n",
       "    <tr>\n",
       "      <th>min</th>\n",
       "      <td>0.000000e+00</td>\n",
       "      <td>5.000000</td>\n",
       "      <td>0.000000</td>\n",
       "      <td>0.000000e+00</td>\n",
       "      <td>0.000000</td>\n",
       "      <td>0.000000</td>\n",
       "      <td>0.000000</td>\n",
       "    </tr>\n",
       "    <tr>\n",
       "      <th>25%</th>\n",
       "      <td>7.900000e+05</td>\n",
       "      <td>9014.500000</td>\n",
       "      <td>4.668070</td>\n",
       "      <td>0.000000e+00</td>\n",
       "      <td>94.000000</td>\n",
       "      <td>5.600000</td>\n",
       "      <td>54.000000</td>\n",
       "    </tr>\n",
       "    <tr>\n",
       "      <th>50%</th>\n",
       "      <td>1.500000e+07</td>\n",
       "      <td>14629.000000</td>\n",
       "      <td>12.921594</td>\n",
       "      <td>1.917000e+07</td>\n",
       "      <td>103.000000</td>\n",
       "      <td>6.200000</td>\n",
       "      <td>235.000000</td>\n",
       "    </tr>\n",
       "    <tr>\n",
       "      <th>75%</th>\n",
       "      <td>4.000000e+07</td>\n",
       "      <td>58610.500000</td>\n",
       "      <td>28.313505</td>\n",
       "      <td>9.291719e+07</td>\n",
       "      <td>118.000000</td>\n",
       "      <td>6.800000</td>\n",
       "      <td>737.000000</td>\n",
       "    </tr>\n",
       "    <tr>\n",
       "      <th>max</th>\n",
       "      <td>3.800000e+08</td>\n",
       "      <td>459488.000000</td>\n",
       "      <td>875.581305</td>\n",
       "      <td>2.787965e+09</td>\n",
       "      <td>338.000000</td>\n",
       "      <td>10.000000</td>\n",
       "      <td>13752.000000</td>\n",
       "    </tr>\n",
       "  </tbody>\n",
       "</table>\n",
       "</div>"
      ],
      "text/plain": [
       "             budget             id   popularity       revenue      runtime  \\\n",
       "count  4.803000e+03    4803.000000  4803.000000  4.803000e+03  4801.000000   \n",
       "mean   2.904504e+07   57165.484281    21.492301  8.226064e+07   106.875859   \n",
       "std    4.072239e+07   88694.614033    31.816650  1.628571e+08    22.611935   \n",
       "min    0.000000e+00       5.000000     0.000000  0.000000e+00     0.000000   \n",
       "25%    7.900000e+05    9014.500000     4.668070  0.000000e+00    94.000000   \n",
       "50%    1.500000e+07   14629.000000    12.921594  1.917000e+07   103.000000   \n",
       "75%    4.000000e+07   58610.500000    28.313505  9.291719e+07   118.000000   \n",
       "max    3.800000e+08  459488.000000   875.581305  2.787965e+09   338.000000   \n",
       "\n",
       "       vote_average    vote_count  \n",
       "count   4803.000000   4803.000000  \n",
       "mean       6.092172    690.217989  \n",
       "std        1.194612   1234.585891  \n",
       "min        0.000000      0.000000  \n",
       "25%        5.600000     54.000000  \n",
       "50%        6.200000    235.000000  \n",
       "75%        6.800000    737.000000  \n",
       "max       10.000000  13752.000000  "
      ]
     },
     "execution_count": 11,
     "metadata": {},
     "output_type": "execute_result"
    }
   ],
   "source": [
    "movies.describe()"
   ]
  },
  {
   "cell_type": "markdown",
   "id": "49b2fea2",
   "metadata": {},
   "source": [
    "Merging the two datasets on 'title'"
   ]
  },
  {
   "cell_type": "code",
   "execution_count": 12,
   "id": "79d07fcf",
   "metadata": {},
   "outputs": [],
   "source": [
    "df = movies.merge(credits, on='title')"
   ]
  },
  {
   "cell_type": "code",
   "execution_count": 13,
   "id": "f459ffb6",
   "metadata": {},
   "outputs": [
    {
     "data": {
      "text/html": [
       "<div>\n",
       "<style scoped>\n",
       "    .dataframe tbody tr th:only-of-type {\n",
       "        vertical-align: middle;\n",
       "    }\n",
       "\n",
       "    .dataframe tbody tr th {\n",
       "        vertical-align: top;\n",
       "    }\n",
       "\n",
       "    .dataframe thead th {\n",
       "        text-align: right;\n",
       "    }\n",
       "</style>\n",
       "<table border=\"1\" class=\"dataframe\">\n",
       "  <thead>\n",
       "    <tr style=\"text-align: right;\">\n",
       "      <th></th>\n",
       "      <th>budget</th>\n",
       "      <th>genres</th>\n",
       "      <th>homepage</th>\n",
       "      <th>id</th>\n",
       "      <th>keywords</th>\n",
       "      <th>original_language</th>\n",
       "      <th>original_title</th>\n",
       "      <th>overview</th>\n",
       "      <th>popularity</th>\n",
       "      <th>production_companies</th>\n",
       "      <th>production_countries</th>\n",
       "      <th>release_date</th>\n",
       "      <th>revenue</th>\n",
       "      <th>runtime</th>\n",
       "      <th>spoken_languages</th>\n",
       "      <th>status</th>\n",
       "      <th>tagline</th>\n",
       "      <th>title</th>\n",
       "      <th>vote_average</th>\n",
       "      <th>vote_count</th>\n",
       "      <th>movie_id</th>\n",
       "      <th>cast</th>\n",
       "      <th>crew</th>\n",
       "    </tr>\n",
       "  </thead>\n",
       "  <tbody>\n",
       "    <tr>\n",
       "      <th>0</th>\n",
       "      <td>237000000</td>\n",
       "      <td>[{\"id\": 28, \"name\": \"Action\"}, {\"id\": 12, \"nam...</td>\n",
       "      <td>http://www.avatarmovie.com/</td>\n",
       "      <td>19995</td>\n",
       "      <td>[{\"id\": 1463, \"name\": \"culture clash\"}, {\"id\":...</td>\n",
       "      <td>en</td>\n",
       "      <td>Avatar</td>\n",
       "      <td>In the 22nd century, a paraplegic Marine is di...</td>\n",
       "      <td>150.437577</td>\n",
       "      <td>[{\"name\": \"Ingenious Film Partners\", \"id\": 289...</td>\n",
       "      <td>[{\"iso_3166_1\": \"US\", \"name\": \"United States o...</td>\n",
       "      <td>2009-12-10</td>\n",
       "      <td>2787965087</td>\n",
       "      <td>162.0</td>\n",
       "      <td>[{\"iso_639_1\": \"en\", \"name\": \"English\"}, {\"iso...</td>\n",
       "      <td>Released</td>\n",
       "      <td>Enter the World of Pandora.</td>\n",
       "      <td>Avatar</td>\n",
       "      <td>7.2</td>\n",
       "      <td>11800</td>\n",
       "      <td>19995</td>\n",
       "      <td>[{\"cast_id\": 242, \"character\": \"Jake Sully\", \"...</td>\n",
       "      <td>[{\"credit_id\": \"52fe48009251416c750aca23\", \"de...</td>\n",
       "    </tr>\n",
       "    <tr>\n",
       "      <th>1</th>\n",
       "      <td>300000000</td>\n",
       "      <td>[{\"id\": 12, \"name\": \"Adventure\"}, {\"id\": 14, \"...</td>\n",
       "      <td>http://disney.go.com/disneypictures/pirates/</td>\n",
       "      <td>285</td>\n",
       "      <td>[{\"id\": 270, \"name\": \"ocean\"}, {\"id\": 726, \"na...</td>\n",
       "      <td>en</td>\n",
       "      <td>Pirates of the Caribbean: At World's End</td>\n",
       "      <td>Captain Barbossa, long believed to be dead, ha...</td>\n",
       "      <td>139.082615</td>\n",
       "      <td>[{\"name\": \"Walt Disney Pictures\", \"id\": 2}, {\"...</td>\n",
       "      <td>[{\"iso_3166_1\": \"US\", \"name\": \"United States o...</td>\n",
       "      <td>2007-05-19</td>\n",
       "      <td>961000000</td>\n",
       "      <td>169.0</td>\n",
       "      <td>[{\"iso_639_1\": \"en\", \"name\": \"English\"}]</td>\n",
       "      <td>Released</td>\n",
       "      <td>At the end of the world, the adventure begins.</td>\n",
       "      <td>Pirates of the Caribbean: At World's End</td>\n",
       "      <td>6.9</td>\n",
       "      <td>4500</td>\n",
       "      <td>285</td>\n",
       "      <td>[{\"cast_id\": 4, \"character\": \"Captain Jack Spa...</td>\n",
       "      <td>[{\"credit_id\": \"52fe4232c3a36847f800b579\", \"de...</td>\n",
       "    </tr>\n",
       "    <tr>\n",
       "      <th>2</th>\n",
       "      <td>245000000</td>\n",
       "      <td>[{\"id\": 28, \"name\": \"Action\"}, {\"id\": 12, \"nam...</td>\n",
       "      <td>http://www.sonypictures.com/movies/spectre/</td>\n",
       "      <td>206647</td>\n",
       "      <td>[{\"id\": 470, \"name\": \"spy\"}, {\"id\": 818, \"name...</td>\n",
       "      <td>en</td>\n",
       "      <td>Spectre</td>\n",
       "      <td>A cryptic message from Bond’s past sends him o...</td>\n",
       "      <td>107.376788</td>\n",
       "      <td>[{\"name\": \"Columbia Pictures\", \"id\": 5}, {\"nam...</td>\n",
       "      <td>[{\"iso_3166_1\": \"GB\", \"name\": \"United Kingdom\"...</td>\n",
       "      <td>2015-10-26</td>\n",
       "      <td>880674609</td>\n",
       "      <td>148.0</td>\n",
       "      <td>[{\"iso_639_1\": \"fr\", \"name\": \"Fran\\u00e7ais\"},...</td>\n",
       "      <td>Released</td>\n",
       "      <td>A Plan No One Escapes</td>\n",
       "      <td>Spectre</td>\n",
       "      <td>6.3</td>\n",
       "      <td>4466</td>\n",
       "      <td>206647</td>\n",
       "      <td>[{\"cast_id\": 1, \"character\": \"James Bond\", \"cr...</td>\n",
       "      <td>[{\"credit_id\": \"54805967c3a36829b5002c41\", \"de...</td>\n",
       "    </tr>\n",
       "    <tr>\n",
       "      <th>3</th>\n",
       "      <td>250000000</td>\n",
       "      <td>[{\"id\": 28, \"name\": \"Action\"}, {\"id\": 80, \"nam...</td>\n",
       "      <td>http://www.thedarkknightrises.com/</td>\n",
       "      <td>49026</td>\n",
       "      <td>[{\"id\": 849, \"name\": \"dc comics\"}, {\"id\": 853,...</td>\n",
       "      <td>en</td>\n",
       "      <td>The Dark Knight Rises</td>\n",
       "      <td>Following the death of District Attorney Harve...</td>\n",
       "      <td>112.312950</td>\n",
       "      <td>[{\"name\": \"Legendary Pictures\", \"id\": 923}, {\"...</td>\n",
       "      <td>[{\"iso_3166_1\": \"US\", \"name\": \"United States o...</td>\n",
       "      <td>2012-07-16</td>\n",
       "      <td>1084939099</td>\n",
       "      <td>165.0</td>\n",
       "      <td>[{\"iso_639_1\": \"en\", \"name\": \"English\"}]</td>\n",
       "      <td>Released</td>\n",
       "      <td>The Legend Ends</td>\n",
       "      <td>The Dark Knight Rises</td>\n",
       "      <td>7.6</td>\n",
       "      <td>9106</td>\n",
       "      <td>49026</td>\n",
       "      <td>[{\"cast_id\": 2, \"character\": \"Bruce Wayne / Ba...</td>\n",
       "      <td>[{\"credit_id\": \"52fe4781c3a36847f81398c3\", \"de...</td>\n",
       "    </tr>\n",
       "    <tr>\n",
       "      <th>4</th>\n",
       "      <td>260000000</td>\n",
       "      <td>[{\"id\": 28, \"name\": \"Action\"}, {\"id\": 12, \"nam...</td>\n",
       "      <td>http://movies.disney.com/john-carter</td>\n",
       "      <td>49529</td>\n",
       "      <td>[{\"id\": 818, \"name\": \"based on novel\"}, {\"id\":...</td>\n",
       "      <td>en</td>\n",
       "      <td>John Carter</td>\n",
       "      <td>John Carter is a war-weary, former military ca...</td>\n",
       "      <td>43.926995</td>\n",
       "      <td>[{\"name\": \"Walt Disney Pictures\", \"id\": 2}]</td>\n",
       "      <td>[{\"iso_3166_1\": \"US\", \"name\": \"United States o...</td>\n",
       "      <td>2012-03-07</td>\n",
       "      <td>284139100</td>\n",
       "      <td>132.0</td>\n",
       "      <td>[{\"iso_639_1\": \"en\", \"name\": \"English\"}]</td>\n",
       "      <td>Released</td>\n",
       "      <td>Lost in our world, found in another.</td>\n",
       "      <td>John Carter</td>\n",
       "      <td>6.1</td>\n",
       "      <td>2124</td>\n",
       "      <td>49529</td>\n",
       "      <td>[{\"cast_id\": 5, \"character\": \"John Carter\", \"c...</td>\n",
       "      <td>[{\"credit_id\": \"52fe479ac3a36847f813eaa3\", \"de...</td>\n",
       "    </tr>\n",
       "  </tbody>\n",
       "</table>\n",
       "</div>"
      ],
      "text/plain": [
       "      budget                                             genres  \\\n",
       "0  237000000  [{\"id\": 28, \"name\": \"Action\"}, {\"id\": 12, \"nam...   \n",
       "1  300000000  [{\"id\": 12, \"name\": \"Adventure\"}, {\"id\": 14, \"...   \n",
       "2  245000000  [{\"id\": 28, \"name\": \"Action\"}, {\"id\": 12, \"nam...   \n",
       "3  250000000  [{\"id\": 28, \"name\": \"Action\"}, {\"id\": 80, \"nam...   \n",
       "4  260000000  [{\"id\": 28, \"name\": \"Action\"}, {\"id\": 12, \"nam...   \n",
       "\n",
       "                                       homepage      id  \\\n",
       "0                   http://www.avatarmovie.com/   19995   \n",
       "1  http://disney.go.com/disneypictures/pirates/     285   \n",
       "2   http://www.sonypictures.com/movies/spectre/  206647   \n",
       "3            http://www.thedarkknightrises.com/   49026   \n",
       "4          http://movies.disney.com/john-carter   49529   \n",
       "\n",
       "                                            keywords original_language  \\\n",
       "0  [{\"id\": 1463, \"name\": \"culture clash\"}, {\"id\":...                en   \n",
       "1  [{\"id\": 270, \"name\": \"ocean\"}, {\"id\": 726, \"na...                en   \n",
       "2  [{\"id\": 470, \"name\": \"spy\"}, {\"id\": 818, \"name...                en   \n",
       "3  [{\"id\": 849, \"name\": \"dc comics\"}, {\"id\": 853,...                en   \n",
       "4  [{\"id\": 818, \"name\": \"based on novel\"}, {\"id\":...                en   \n",
       "\n",
       "                             original_title  \\\n",
       "0                                    Avatar   \n",
       "1  Pirates of the Caribbean: At World's End   \n",
       "2                                   Spectre   \n",
       "3                     The Dark Knight Rises   \n",
       "4                               John Carter   \n",
       "\n",
       "                                            overview  popularity  \\\n",
       "0  In the 22nd century, a paraplegic Marine is di...  150.437577   \n",
       "1  Captain Barbossa, long believed to be dead, ha...  139.082615   \n",
       "2  A cryptic message from Bond’s past sends him o...  107.376788   \n",
       "3  Following the death of District Attorney Harve...  112.312950   \n",
       "4  John Carter is a war-weary, former military ca...   43.926995   \n",
       "\n",
       "                                production_companies  \\\n",
       "0  [{\"name\": \"Ingenious Film Partners\", \"id\": 289...   \n",
       "1  [{\"name\": \"Walt Disney Pictures\", \"id\": 2}, {\"...   \n",
       "2  [{\"name\": \"Columbia Pictures\", \"id\": 5}, {\"nam...   \n",
       "3  [{\"name\": \"Legendary Pictures\", \"id\": 923}, {\"...   \n",
       "4        [{\"name\": \"Walt Disney Pictures\", \"id\": 2}]   \n",
       "\n",
       "                                production_countries release_date     revenue  \\\n",
       "0  [{\"iso_3166_1\": \"US\", \"name\": \"United States o...   2009-12-10  2787965087   \n",
       "1  [{\"iso_3166_1\": \"US\", \"name\": \"United States o...   2007-05-19   961000000   \n",
       "2  [{\"iso_3166_1\": \"GB\", \"name\": \"United Kingdom\"...   2015-10-26   880674609   \n",
       "3  [{\"iso_3166_1\": \"US\", \"name\": \"United States o...   2012-07-16  1084939099   \n",
       "4  [{\"iso_3166_1\": \"US\", \"name\": \"United States o...   2012-03-07   284139100   \n",
       "\n",
       "   runtime                                   spoken_languages    status  \\\n",
       "0    162.0  [{\"iso_639_1\": \"en\", \"name\": \"English\"}, {\"iso...  Released   \n",
       "1    169.0           [{\"iso_639_1\": \"en\", \"name\": \"English\"}]  Released   \n",
       "2    148.0  [{\"iso_639_1\": \"fr\", \"name\": \"Fran\\u00e7ais\"},...  Released   \n",
       "3    165.0           [{\"iso_639_1\": \"en\", \"name\": \"English\"}]  Released   \n",
       "4    132.0           [{\"iso_639_1\": \"en\", \"name\": \"English\"}]  Released   \n",
       "\n",
       "                                          tagline  \\\n",
       "0                     Enter the World of Pandora.   \n",
       "1  At the end of the world, the adventure begins.   \n",
       "2                           A Plan No One Escapes   \n",
       "3                                 The Legend Ends   \n",
       "4            Lost in our world, found in another.   \n",
       "\n",
       "                                      title  vote_average  vote_count  \\\n",
       "0                                    Avatar           7.2       11800   \n",
       "1  Pirates of the Caribbean: At World's End           6.9        4500   \n",
       "2                                   Spectre           6.3        4466   \n",
       "3                     The Dark Knight Rises           7.6        9106   \n",
       "4                               John Carter           6.1        2124   \n",
       "\n",
       "   movie_id                                               cast  \\\n",
       "0     19995  [{\"cast_id\": 242, \"character\": \"Jake Sully\", \"...   \n",
       "1       285  [{\"cast_id\": 4, \"character\": \"Captain Jack Spa...   \n",
       "2    206647  [{\"cast_id\": 1, \"character\": \"James Bond\", \"cr...   \n",
       "3     49026  [{\"cast_id\": 2, \"character\": \"Bruce Wayne / Ba...   \n",
       "4     49529  [{\"cast_id\": 5, \"character\": \"John Carter\", \"c...   \n",
       "\n",
       "                                                crew  \n",
       "0  [{\"credit_id\": \"52fe48009251416c750aca23\", \"de...  \n",
       "1  [{\"credit_id\": \"52fe4232c3a36847f800b579\", \"de...  \n",
       "2  [{\"credit_id\": \"54805967c3a36829b5002c41\", \"de...  \n",
       "3  [{\"credit_id\": \"52fe4781c3a36847f81398c3\", \"de...  \n",
       "4  [{\"credit_id\": \"52fe479ac3a36847f813eaa3\", \"de...  "
      ]
     },
     "execution_count": 13,
     "metadata": {},
     "output_type": "execute_result"
    }
   ],
   "source": [
    "df.head()"
   ]
  },
  {
   "cell_type": "code",
   "execution_count": 14,
   "id": "e2963b14",
   "metadata": {},
   "outputs": [
    {
     "data": {
      "text/plain": [
       "(4809, 23)"
      ]
     },
     "execution_count": 14,
     "metadata": {},
     "output_type": "execute_result"
    }
   ],
   "source": [
    "df.shape"
   ]
  },
  {
   "cell_type": "code",
   "execution_count": 15,
   "id": "074f6206",
   "metadata": {},
   "outputs": [
    {
     "data": {
      "text/plain": [
       "budget                    int64\n",
       "genres                   object\n",
       "homepage                 object\n",
       "id                        int64\n",
       "keywords                 object\n",
       "original_language        object\n",
       "original_title           object\n",
       "overview                 object\n",
       "popularity              float64\n",
       "production_companies     object\n",
       "production_countries     object\n",
       "release_date             object\n",
       "revenue                   int64\n",
       "runtime                 float64\n",
       "spoken_languages         object\n",
       "status                   object\n",
       "tagline                  object\n",
       "title                    object\n",
       "vote_average            float64\n",
       "vote_count                int64\n",
       "movie_id                  int64\n",
       "cast                     object\n",
       "crew                     object\n",
       "dtype: object"
      ]
     },
     "execution_count": 15,
     "metadata": {},
     "output_type": "execute_result"
    }
   ],
   "source": [
    "df.dtypes"
   ]
  },
  {
   "cell_type": "code",
   "execution_count": 16,
   "id": "27fb0174",
   "metadata": {},
   "outputs": [
    {
     "data": {
      "text/plain": [
       "Index(['budget', 'genres', 'homepage', 'id', 'keywords', 'original_language',\n",
       "       'original_title', 'overview', 'popularity', 'production_companies',\n",
       "       'production_countries', 'release_date', 'revenue', 'runtime',\n",
       "       'spoken_languages', 'status', 'tagline', 'title', 'vote_average',\n",
       "       'vote_count', 'movie_id', 'cast', 'crew'],\n",
       "      dtype='object')"
      ]
     },
     "execution_count": 16,
     "metadata": {},
     "output_type": "execute_result"
    }
   ],
   "source": [
    "df.columns"
   ]
  },
  {
   "cell_type": "code",
   "execution_count": 17,
   "id": "64151ab7",
   "metadata": {},
   "outputs": [
    {
     "name": "stdout",
     "output_type": "stream",
     "text": [
      "0           1039\n",
      "20000000     144\n",
      "30000000     128\n",
      "25000000     126\n",
      "40000000     123\n",
      "            ... \n",
      "650            1\n",
      "5600000        1\n",
      "22500000       1\n",
      "2159280        1\n",
      "22700000       1\n",
      "Name: budget, Length: 436, dtype: int64\n",
      "[{\"id\": 18, \"name\": \"Drama\"}]                                                                                                                                    372\n",
      "[{\"id\": 35, \"name\": \"Comedy\"}]                                                                                                                                   282\n",
      "[{\"id\": 18, \"name\": \"Drama\"}, {\"id\": 10749, \"name\": \"Romance\"}]                                                                                                  164\n",
      "[{\"id\": 35, \"name\": \"Comedy\"}, {\"id\": 10749, \"name\": \"Romance\"}]                                                                                                 144\n",
      "[{\"id\": 35, \"name\": \"Comedy\"}, {\"id\": 18, \"name\": \"Drama\"}]                                                                                                      142\n",
      "                                                                                                                                                                ... \n",
      "[{\"id\": 28, \"name\": \"Action\"}, {\"id\": 18, \"name\": \"Drama\"}, {\"id\": 27, \"name\": \"Horror\"}, {\"id\": 80, \"name\": \"Crime\"}, {\"id\": 53, \"name\": \"Thriller\"}]             1\n",
      "[{\"id\": 28, \"name\": \"Action\"}, {\"id\": 80, \"name\": \"Crime\"}, {\"id\": 18, \"name\": \"Drama\"}, {\"id\": 36, \"name\": \"History\"}, {\"id\": 53, \"name\": \"Thriller\"}]            1\n",
      "[{\"id\": 53, \"name\": \"Thriller\"}, {\"id\": 28, \"name\": \"Action\"}, {\"id\": 9648, \"name\": \"Mystery\"}]                                                                    1\n",
      "[{\"id\": 12, \"name\": \"Adventure\"}, {\"id\": 14, \"name\": \"Fantasy\"}, {\"id\": 28, \"name\": \"Action\"}, {\"id\": 37, \"name\": \"Western\"}, {\"id\": 53, \"name\": \"Thriller\"}]      1\n",
      "[{\"id\": 10770, \"name\": \"TV Movie\"}, {\"id\": 27, \"name\": \"Horror\"}]                                                                                                  1\n",
      "Name: genres, Length: 1175, dtype: int64\n",
      "http://www.missionimpossible.com/     4\n",
      "http://www.thehungergames.movie/      4\n",
      "http://www.kungfupanda.com/           3\n",
      "http://www.transformersmovie.com/     3\n",
      "http://www.thehobbit.com/             3\n",
      "                                     ..\n",
      "http://www.loveinthetime.com/         1\n",
      "http://www.starsuckersmovie.com       1\n",
      "http://www.hailcaesar-film.com/ww/    1\n",
      "http://www.theboynextdoorfilm.com/    1\n",
      "http://www.billandted.org/            1\n",
      "Name: homepage, Length: 1691, dtype: int64\n",
      "72710     2\n",
      "39269     2\n",
      "1255      2\n",
      "268       2\n",
      "2661      2\n",
      "         ..\n",
      "8885      1\n",
      "260778    1\n",
      "681       1\n",
      "299687    1\n",
      "9600      1\n",
      "Name: id, Length: 4803, dtype: int64\n",
      "[]                                                                                                                                                                                                                                                                                                                                                                                                                                                                                                                                                                                                                                                                                                                                                                                                                                                                                                        412\n",
      "[{\"id\": 10183, \"name\": \"independent film\"}]                                                                                                                                                                                                                                                                                                                                                                                                                                                                                                                                                                                                                                                                                                                                                                                                                                                                55\n",
      "[{\"id\": 187056, \"name\": \"woman director\"}]                                                                                                                                                                                                                                                                                                                                                                                                                                                                                                                                                                                                                                                                                                                                                                                                                                                                 42\n",
      "[{\"id\": 179431, \"name\": \"duringcreditsstinger\"}]                                                                                                                                                                                                                                                                                                                                                                                                                                                                                                                                                                                                                                                                                                                                                                                                                                                           15\n",
      "[{\"id\": 6075, \"name\": \"sport\"}]                                                                                                                                                                                                                                                                                                                                                                                                                                                                                                                                                                                                                                                                                                                                                                                                                                                                            13\n",
      "                                                                                                                                                                                                                                                                                                                                                                                                                                                                                                                                                                                                                                                                                                                                                                                                                                                                                                         ... \n",
      "[{\"id\": 258, \"name\": \"bomb\"}, {\"id\": 444, \"name\": \"taxi\"}, {\"id\": 483, \"name\": \"riddle\"}, {\"id\": 642, \"name\": \"robbery\"}, {\"id\": 703, \"name\": \"detective\"}, {\"id\": 720, \"name\": \"helicopter\"}, {\"id\": 1321, \"name\": \"gold\"}, {\"id\": 1552, \"name\": \"subway\"}, {\"id\": 3799, \"name\": \"ship\"}, {\"id\": 5572, \"name\": \"fistfight\"}, {\"id\": 6149, \"name\": \"police\"}, {\"id\": 9663, \"name\": \"sequel\"}, {\"id\": 9758, \"name\": \"deception\"}, {\"id\": 10950, \"name\": \"shootout\"}, {\"id\": 14512, \"name\": \"new york city\"}, {\"id\": 14601, \"name\": \"explosion\"}, {\"id\": 14819, \"name\": \"violence\"}, {\"id\": 15483, \"name\": \"car chase\"}, {\"id\": 18525, \"name\": \"fbi agent\"}, {\"id\": 177309, \"name\": \"simon says\"}, {\"id\": 187844, \"name\": \"flashback\"}, {\"id\": 188329, \"name\": \"dump truck\"}, {\"id\": 192707, \"name\": \"aqueduct\"}, {\"id\": 219404, \"name\": \"action hero\"}, {\"id\": 226838, \"name\": \"federal reserve bank\"}]      1\n",
      "[{\"id\": 1003, \"name\": \"photographer\"}, {\"id\": 2522, \"name\": \"grizzly bear\"}, {\"id\": 3593, \"name\": \"wilderness\"}, {\"id\": 3800, \"name\": \"airplane\"}, {\"id\": 4522, \"name\": \"supermodel\"}, {\"id\": 4811, \"name\": \"emergency landing\"}, {\"id\": 9937, \"name\": \"suspense\"}, {\"id\": 10349, \"name\": \"survival\"}, {\"id\": 10468, \"name\": \"bear\"}, {\"id\": 223059, \"name\": \"animal horror\"}]                                                                                                                                                                                                                                                                                                                                                                                                                                                                                                                              1\n",
      "[{\"id\": 172164, \"name\": \"consignment\"}]                                                                                                                                                                                                                                                                                                                                                                                                                                                                                                                                                                                                                                                                                                                                                                                                                                                                     1\n",
      "[{\"id\": 1599, \"name\": \"midlife crisis\"}, {\"id\": 5600, \"name\": \"daughter\"}, {\"id\": 5812, \"name\": \"bad boss\"}]                                                                                                                                                                                                                                                                                                                                                                                                                                                                                                                                                                                                                                                                                                                                                                                                1\n",
      "[{\"id\": 334, \"name\": \"flying\"}, {\"id\": 779, \"name\": \"martial arts\"}, {\"id\": 2063, \"name\": \"taskmaster\"}, {\"id\": 4575, \"name\": \"comb\"}, {\"id\": 4809, \"name\": \"tiger\"}, {\"id\": 5293, \"name\": \"desert thief\"}, {\"id\": 14604, \"name\": \"theft\"}, {\"id\": 18432, \"name\": \"female martial artist\"}]                                                                                                                                                                                                                                                                                                                                                                                                                                                                                                                                                                                                                 1\n",
      "Name: keywords, Length: 4222, dtype: int64\n",
      "en    4510\n",
      "fr      70\n",
      "es      32\n",
      "de      27\n",
      "zh      27\n",
      "hi      19\n",
      "ja      16\n",
      "it      14\n",
      "cn      12\n",
      "ko      12\n",
      "ru      11\n",
      "pt       9\n",
      "da       7\n",
      "sv       5\n",
      "fa       4\n",
      "nl       4\n",
      "th       3\n",
      "he       3\n",
      "ro       2\n",
      "cs       2\n",
      "id       2\n",
      "ar       2\n",
      "ta       2\n",
      "hu       1\n",
      "ky       1\n",
      "te       1\n",
      "is       1\n",
      "pl       1\n",
      "el       1\n",
      "af       1\n",
      "xx       1\n",
      "vi       1\n",
      "no       1\n",
      "nb       1\n",
      "tr       1\n",
      "sl       1\n",
      "ps       1\n",
      "Name: original_language, dtype: int64\n",
      "Out of the Blue                                            4\n",
      "Batman                                                     4\n",
      "괴물                                                         2\n",
      "The Host                                                   2\n",
      "Teenage Mutant Ninja Turtles II: The Secret of the Ooze    1\n",
      "                                                          ..\n",
      "Evan Almighty                                              1\n",
      "The Guard                                                  1\n",
      "The Craft                                                  1\n",
      "Princess Kaiulani                                          1\n",
      "Menace II Society                                          1\n",
      "Name: original_title, Length: 4801, dtype: int64\n",
      "Ordinary people find extraordinary courage in the face of madness. On 13–14 November 1990 that madness came to Aramoana, a small New Zealand seaside town, in the form of a lone gunman with a high-powered semi-automatic rifle. As he stalked his victims the terrified and confused residents were trapped for 24 hours while a handful of under-resourced and under-armed local policemen risked their lives trying to find him and save the survivors. Based on true events.                                                                                                                                                                                                                                                                                                                                                                                                                                                                                                  2\n",
      "The Dynamic Duo faces four super-villains who plan to hold the world for ransom with the help of a secret invention that instantly dehydrates people.                                                                                                                                                                                                                                                                                                                                                                                                                                                                                                                                                                                                                                                                                                                                                                                                                              2\n",
      "Gang-du is a dim-witted man working at his father's tiny snack bar near the Han River. One day, Gang-du's one and only daughter Hyun-seo comes back from school irritated. She is angry at her uncle, Nam-il, who visited her school as her guardian shamelessly drunk. Ignoring her father's excuses for Nam-il, Hyun-seo is soon engrossed in her aunt Nam-joo's archery tournament on TV. Meanwhile, outside of the snack bar, people are fascinated by an unidentified object hanging onto a bridge. In an instant, the object reveals itself as a terrifying creature turning the riverbank into a gruesome sea of blood¡¦ Amid the chaos, Hyun-seo is helplessly snatched up by the creature right before Gang-du's eyes. These unforeseen circumstances render the government powerless to act. But receiving a call of help from Hyun-seo, the once-ordinary citizen Gang-du and his family are thrust into a battle with the monster to rescue their beloved Hyun-seo.    2\n",
      "Dennis Hopper is a hard-drinking truck driver who loses control of his truck under the influence and slams it into a busload of screaming children. After serving his five year jail sentence, Hopper finds his daughter, Cebe (Linda Manz), the love of his live, grown into a rebellious punk in a backwater town, having barely been looked after by her junkie mon (Sharron Farrell). Cebe's hopes of once again becoming a \"normal\" family painfully proves to be doomed, as she desperately tries to hold everyone together. Hopper's loose, naturalistic style and sympathetic, yet critical attitude infuses the drama with a painful power that finally erupts in a devastating and thrillling conclusion.                                                                                                                                                                                                                                                                2\n",
      "A parasitic alien soul is injected into the body of Melanie Stryder. Instead of carrying out her race's mission of taking over the Earth, \"Wanda\" (as she comes to be called) forms a bond with her host and sets out to aid other free humans.                                                                                                                                                                                                                                                                                                                                                                                                                                                                                                                                                                                                                                                                                                                                    2\n",
      "                                                                                                                                                                                                                                                                                                                                                                                                                                                                                                                                                                                                                                                                                                                                                                                                                                                                                                                                                                                  ..\n",
      "Red Riding Hood is training in the group of Sister Hoods, when she and the Wolf are called to examine the sudden mysterious disappearance of Hansel and Gretel.                                                                                                                                                                                                                                                                                                                                                                                                                                                                                                                                                                                                                                                                                                                                                                                                                    1\n",
      "As four friends prepare for life after high school, different challenges bring about turning points in each of their lives. The dramas unfold and resolve at their local rollerskating rink, Cascade.                                                                                                                                                                                                                                                                                                                                                                                                                                                                                                                                                                                                                                                                                                                                                                              1\n",
      "A burglar falls for an heiress as she dies in his arms. When he learns that he has the gift of reincarnation, he sets out to save her.                                                                                                                                                                                                                                                                                                                                                                                                                                                                                                                                                                                                                                                                                                                                                                                                                                             1\n",
      "Sarah Nolan is a newly divorced woman cautiously rediscovering romance with the enthusiastic but often misguided help of her well-meaning family. As she braves a series of hilarious disastrous mismatches and first dates, Sarah begins to trust her own instincts again and learns that, no matter what, it's never a good idea to give up on love.                                                                                                                                                                                                                                                                                                                                                                                                                                                                                                                                                                                                                             1\n",
      "Professional driver Frank Martin is living in Miami, where he is temporarily filling in for a friend as the chauffeur for a government narcotics control policymaker and his family. The young boy in the family is targeted for kidnapping, and Frank immediately becomes involved in protecting the child and exposing the kidnappers.                                                                                                                                                                                                                                                                                                                                                                                                                                                                                                                                                                                                                                           1\n",
      "Name: overview, Length: 4800, dtype: int64\n",
      "44.104469     2\n",
      "42.933027     2\n",
      "8.902102      2\n",
      "27.655270     2\n",
      "9.815394      2\n",
      "             ..\n",
      "3.637857      1\n",
      "27.940093     1\n",
      "14.905357     1\n",
      "115.597753    1\n",
      "0.033883      1\n",
      "Name: popularity, Length: 4802, dtype: int64\n",
      "[]                                                                                                                                                                                                                                                                                             352\n",
      "[{\"name\": \"Paramount Pictures\", \"id\": 4}]                                                                                                                                                                                                                                                       58\n",
      "[{\"name\": \"Universal Pictures\", \"id\": 33}]                                                                                                                                                                                                                                                      45\n",
      "[{\"name\": \"New Line Cinema\", \"id\": 12}]                                                                                                                                                                                                                                                         38\n",
      "[{\"name\": \"Columbia Pictures\", \"id\": 5}]                                                                                                                                                                                                                                                        37\n",
      "                                                                                                                                                                                                                                                                                              ... \n",
      "[{\"name\": \"Dino de Laurentiis Cinematografica\", \"id\": 1216}]                                                                                                                                                                                                                                     1\n",
      "[{\"name\": \"Fox 2000 Pictures\", \"id\": 711}, {\"name\": \"Temple Hill Entertainment\", \"id\": 12292}]                                                                                                                                                                                                   1\n",
      "[{\"name\": \"Dune Entertainment\", \"id\": 444}, {\"name\": \"Firm Films\", \"id\": 1838}, {\"name\": \"Collision Entertainment\", \"id\": 2179}, {\"name\": \"Abandon Entertainment\", \"id\": 2724}, {\"name\": \"Foxtor Productions\", \"id\": 2725}, {\"name\": \"Depth Entertainment\", \"id\": 11995}]                        1\n",
      "[{\"name\": \"Python (Monty) Pictures Limited\", \"id\": 416}, {\"name\": \"Michael White Productions\", \"id\": 463}, {\"name\": \"National Film Trustee Company\", \"id\": 464}, {\"name\": \"Twickenham Film Studios\", \"id\": 465}]                                                                                 1\n",
      "[{\"name\": \"Twentieth Century Fox Film Corporation\", \"id\": 306}, {\"name\": \"Dune Entertainment\", \"id\": 444}, {\"name\": \"Dune Entertainment III\", \"id\": 6332}, {\"name\": \"Chernin Entertainment\", \"id\": 7076}, {\"name\": \"Walden Media\", \"id\": 10221}, {\"name\": \"Face Productions\", \"id\": 48638}]      1\n",
      "Name: production_companies, Length: 3697, dtype: int64\n",
      "[{\"iso_3166_1\": \"US\", \"name\": \"United States of America\"}]                                                                                                                                                                                                                         2979\n",
      "[{\"iso_3166_1\": \"GB\", \"name\": \"United Kingdom\"}, {\"iso_3166_1\": \"US\", \"name\": \"United States of America\"}]                                                                                                                                                                          182\n",
      "[]                                                                                                                                                                                                                                                                                  174\n",
      "[{\"iso_3166_1\": \"GB\", \"name\": \"United Kingdom\"}]                                                                                                                                                                                                                                    131\n",
      "[{\"iso_3166_1\": \"DE\", \"name\": \"Germany\"}, {\"iso_3166_1\": \"US\", \"name\": \"United States of America\"}]                                                                                                                                                                                 119\n",
      "                                                                                                                                                                                                                                                                                   ... \n",
      "[{\"iso_3166_1\": \"FR\", \"name\": \"France\"}, {\"iso_3166_1\": \"US\", \"name\": \"United States of America\"}, {\"iso_3166_1\": \"GB\", \"name\": \"United Kingdom\"}]                                                                                                                                    1\n",
      "[{\"iso_3166_1\": \"FR\", \"name\": \"France\"}, {\"iso_3166_1\": \"DE\", \"name\": \"Germany\"}, {\"iso_3166_1\": \"IT\", \"name\": \"Italy\"}, {\"iso_3166_1\": \"NL\", \"name\": \"Netherlands\"}, {\"iso_3166_1\": \"GB\", \"name\": \"United Kingdom\"}, {\"iso_3166_1\": \"US\", \"name\": \"United States of America\"}]       1\n",
      "[{\"iso_3166_1\": \"DE\", \"name\": \"Germany\"}, {\"iso_3166_1\": \"JP\", \"name\": \"Japan\"}, {\"iso_3166_1\": \"GB\", \"name\": \"United Kingdom\"}, {\"iso_3166_1\": \"US\", \"name\": \"United States of America\"}]                                                                                            1\n",
      "[{\"iso_3166_1\": \"BE\", \"name\": \"Belgium\"}, {\"iso_3166_1\": \"CN\", \"name\": \"China\"}, {\"iso_3166_1\": \"FR\", \"name\": \"France\"}]                                                                                                                                                              1\n",
      "[{\"iso_3166_1\": \"BR\", \"name\": \"Brazil\"}, {\"iso_3166_1\": \"PE\", \"name\": \"Peru\"}, {\"iso_3166_1\": \"US\", \"name\": \"United States of America\"}]                                                                                                                                              1\n",
      "Name: production_countries, Length: 469, dtype: int64\n",
      "2006-01-01    10\n",
      "2002-01-01     8\n",
      "2014-12-25     7\n",
      "2013-07-18     7\n",
      "1999-10-22     7\n",
      "              ..\n",
      "1998-04-08     1\n",
      "2008-06-04     1\n",
      "2008-11-20     1\n",
      "2012-09-23     1\n",
      "2009-02-05     1\n",
      "Name: release_date, Length: 3280, dtype: int64\n",
      "0            1430\n",
      "7000000         6\n",
      "8000000         6\n",
      "100000000       5\n",
      "10000000        5\n",
      "             ... \n",
      "30987695        1\n",
      "30016165        1\n",
      "85498534        1\n",
      "30426096        1\n",
      "55003135        1\n",
      "Name: revenue, Length: 3297, dtype: int64\n",
      "90.0     163\n",
      "100.0    149\n",
      "98.0     140\n",
      "97.0     133\n",
      "95.0     123\n",
      "        ... \n",
      "59.0       1\n",
      "60.0       1\n",
      "63.0       1\n",
      "194.0      1\n",
      "219.0      1\n",
      "Name: runtime, Length: 156, dtype: int64\n",
      "[{\"iso_639_1\": \"en\", \"name\": \"English\"}]                                                                                                                                                                                                                                                                                            3175\n",
      "[{\"iso_639_1\": \"en\", \"name\": \"English\"}, {\"iso_639_1\": \"es\", \"name\": \"Espa\\u00f1ol\"}]                                                                                                                                                                                                                                                127\n",
      "[{\"iso_639_1\": \"en\", \"name\": \"English\"}, {\"iso_639_1\": \"fr\", \"name\": \"Fran\\u00e7ais\"}]                                                                                                                                                                                                                                               115\n",
      "[]                                                                                                                                                                                                                                                                                                                                    86\n",
      "[{\"iso_639_1\": \"es\", \"name\": \"Espa\\u00f1ol\"}, {\"iso_639_1\": \"en\", \"name\": \"English\"}]                                                                                                                                                                                                                                                 54\n",
      "                                                                                                                                                                                                                                                                                                                                    ... \n",
      "[{\"iso_639_1\": \"af\", \"name\": \"Afrikaans\"}, {\"iso_639_1\": \"en\", \"name\": \"English\"}, {\"iso_639_1\": \"zu\", \"name\": \"isiZulu\"}]                                                                                                                                                                                                             1\n",
      "[{\"iso_639_1\": \"fr\", \"name\": \"Fran\\u00e7ais\"}, {\"iso_639_1\": \"en\", \"name\": \"English\"}, {\"iso_639_1\": \"ja\", \"name\": \"\\u65e5\\u672c\\u8a9e\"}]                                                                                                                                                                                              1\n",
      "[{\"iso_639_1\": \"la\", \"name\": \"Latin\"}, {\"iso_639_1\": \"ro\", \"name\": \"Rom\\u00e2n\\u0103\"}, {\"iso_639_1\": \"bg\", \"name\": \"\\u0431\\u044a\\u043b\\u0433\\u0430\\u0440\\u0441\\u043a\\u0438 \\u0435\\u0437\\u0438\\u043a\"}, {\"iso_639_1\": \"el\", \"name\": \"\\u03b5\\u03bb\\u03bb\\u03b7\\u03bd\\u03b9\\u03ba\\u03ac\"}, {\"iso_639_1\": \"en\", \"name\": \"English\"}]       1\n",
      "[{\"iso_639_1\": \"en\", \"name\": \"English\"}, {\"iso_639_1\": \"zh\", \"name\": \"\\u666e\\u901a\\u8bdd\"}, {\"iso_639_1\": \"sa\", \"name\": \"\"}]                                                                                                                                                                                                           1\n",
      "[{\"iso_639_1\": \"cs\", \"name\": \"\\u010cesk\\u00fd\"}, {\"iso_639_1\": \"en\", \"name\": \"English\"}, {\"iso_639_1\": \"pt\", \"name\": \"Portugu\\u00eas\"}]                                                                                                                                                                                                1\n",
      "Name: spoken_languages, Length: 544, dtype: int64\n",
      "Released           4801\n",
      "Rumored               5\n",
      "Post Production       3\n",
      "Name: status, dtype: int64\n",
      "Based on a true story.                                                               3\n",
      "One way in. No way out.                                                              2\n",
      "He's Here Big As Life In A Real Bat-Epic                                             2\n",
      "The true story of a small town massacre                                              2\n",
      "One ordinary couple. One little white lie.                                           2\n",
      "                                                                                    ..\n",
      "It's not the hills.                                                                  1\n",
      "There's more to family than what you see.                                            1\n",
      "A romantic comedy about two brothers... and the one thing that came between them.    1\n",
      "Every dream has a price.                                                             1\n",
      "Right place. Wrong time.                                                             1\n",
      "Name: tagline, Length: 3944, dtype: int64\n",
      "Batman                    4\n",
      "The Host                  4\n",
      "Out of the Blue           4\n",
      "My Bloody Valentine       1\n",
      "Cheaper by the Dozen 2    1\n",
      "                         ..\n",
      "The Guard                 1\n",
      "The Craft                 1\n",
      "Princess Kaiulani         1\n",
      "Zombieland                1\n",
      "Menace II Society         1\n",
      "Name: title, Length: 4800, dtype: int64\n",
      "6.0    217\n",
      "6.5    217\n",
      "6.7    214\n",
      "6.3    207\n",
      "6.1    202\n",
      "      ... \n",
      "9.5      1\n",
      "2.6      1\n",
      "2.7      1\n",
      "0.5      1\n",
      "9.3      1\n",
      "Name: vote_average, Length: 71, dtype: int64\n",
      "0       62\n",
      "1       53\n",
      "2       46\n",
      "4       43\n",
      "3       41\n",
      "        ..\n",
      "1389     1\n",
      "5487     1\n",
      "1401     1\n",
      "3452     1\n",
      "2039     1\n",
      "Name: vote_count, Length: 1609, dtype: int64\n",
      "72710     2\n",
      "39269     2\n",
      "1255      2\n",
      "268       2\n",
      "2661      2\n",
      "         ..\n",
      "8885      1\n",
      "260778    1\n",
      "681       1\n",
      "299687    1\n",
      "9600      1\n",
      "Name: movie_id, Length: 4803, dtype: int64\n",
      "[]                                                                                                                                                                                                                                                                                                                                                                                                                                                                                                                                                                                                                                                                                                                                                                                                                                                                                                                                                                                                                                                                                                                                                                                                                                                                                                                                                                                                                                                                                                                                                                                                                                                                                                                                                                                                                                                                                                                                                                                                                                                                                                                                                                                                                                                                                                                                                                                                                                                                                                                                                                                                                                                                                                                                                                                                                                                                                                                                                                                                                                                                                                                                                                                                                                                                                                                                                                                                                                                                                                                                                                                                                                                                                                                                                                                                                                                                                                                                                                                                                                                                                                                                                                                                                                                                                                                                                                                                                                                                                                                                                                                                                                                                                                                                                                                                                                                                                                                                                                                                                                                                                                                                                                                                                                                                                                                                                                                                                                                                                                                                                                                                                                                                  43\n",
      "[{\"cast_id\": 52, \"character\": \"Melanie Stryder / Wanda\", \"credit_id\": \"52fe487bc3a368484e0fa99d\", \"gender\": 1, \"id\": 36592, \"name\": \"Saoirse Ronan\", \"order\": 0}, {\"cast_id\": 11, \"character\": \"The Seeker / Lacey\", \"credit_id\": \"52fe487bc3a368484e0fa8eb\", \"gender\": 1, \"id\": 9824, \"name\": \"Diane Kruger\", \"order\": 1}, {\"cast_id\": 12, \"character\": \"Ian O'Shea\", \"credit_id\": \"52fe487bc3a368484e0fa8ef\", \"gender\": 2, \"id\": 105727, \"name\": \"Jake Abel\", \"order\": 2}, {\"cast_id\": 13, \"character\": \"Jeb Stryder\", \"credit_id\": \"52fe487bc3a368484e0fa8f3\", \"gender\": 2, \"id\": 227, \"name\": \"William Hurt\", \"order\": 3}, {\"cast_id\": 14, \"character\": \"Maggie Stryder\", \"credit_id\": \"52fe487bc3a368484e0fa8f7\", \"gender\": 1, \"id\": 3713, \"name\": \"Frances Fisher\", \"order\": 4}, {\"cast_id\": 15, \"character\": \"Jared Howe\", \"credit_id\": \"52fe487bc3a368484e0fa8fb\", \"gender\": 2, \"id\": 232396, \"name\": \"Max Irons\", \"order\": 5}, {\"cast_id\": 16, \"character\": \"Jamie Stryder\", \"credit_id\": \"52fe487bc3a368484e0fa8ff\", \"gender\": 2, \"id\": 77334, \"name\": \"Chandler Canterbury\", \"order\": 6}, {\"cast_id\": 17, \"character\": \"Kyle O'Shea\", \"credit_id\": \"52fe487bc3a368484e0fa903\", \"gender\": 2, \"id\": 467645, \"name\": \"Boyd Holbrook\", \"order\": 7}, {\"cast_id\": 20, \"character\": \"Seeker Reed\", \"credit_id\": \"52fe487bc3a368484e0fa913\", \"gender\": 0, \"id\": 936403, \"name\": \"Stephen Rider\", \"order\": 8}, {\"cast_id\": 22, \"character\": \"Wanda\", \"credit_id\": \"52fe487bc3a368484e0fa91d\", \"gender\": 1, \"id\": 70456, \"name\": \"Emily Browning\", \"order\": 9}, {\"cast_id\": 27, \"character\": \"Soul Fleur\", \"credit_id\": \"52fe487bc3a368484e0fa939\", \"gender\": 1, \"id\": 35198, \"name\": \"Rachel Roberts\", \"order\": 10}, {\"cast_id\": 28, \"character\": \"Soul Anshu\", \"credit_id\": \"52fe487bc3a368484e0fa93d\", \"gender\": 0, \"id\": 1273231, \"name\": \"Shyaam Karra\", \"order\": 11}, {\"cast_id\": 29, \"character\": \"Soul Winters\", \"credit_id\": \"52fe487bc3a368484e0fa941\", \"gender\": 0, \"id\": 1273232, \"name\": \"Brent Wendell Williams\", \"order\": 12}, {\"cast_id\": 30, \"character\": \"Soul Lake\", \"credit_id\": \"52fe487bc3a368484e0fa945\", \"gender\": 0, \"id\": 1273233, \"name\": \"Jhil McEntyre\", \"order\": 13}, {\"cast_id\": 31, \"character\": \"Soul Nafisa\", \"credit_id\": \"52fe487bc3a368484e0fa949\", \"gender\": 0, \"id\": 1273234, \"name\": \"Jalen Coleman\", \"order\": 14}, {\"cast_id\": 32, \"character\": \"Seeker Song\", \"credit_id\": \"52fe487bc3a368484e0fa94d\", \"gender\": 0, \"id\": 1181296, \"name\": \"Jaylen Moore\", \"order\": 15}, {\"cast_id\": 33, \"character\": \"Seeker Sands\", \"credit_id\": \"52fe487bc3a368484e0fa951\", \"gender\": 0, \"id\": 1273235, \"name\": \"Stephen Conroy\", \"order\": 16}, {\"cast_id\": 34, \"character\": \"Seeker Wolfe\", \"credit_id\": \"52fe487bc3a368484e0fa955\", \"gender\": 0, \"id\": 1273236, \"name\": \"Michael L. Parker\", \"order\": 17}, {\"cast_id\": 35, \"character\": \"Seeker Waverley\", \"credit_id\": \"52fe487bc3a368484e0fa959\", \"gender\": 0, \"id\": 92058, \"name\": \"Phil Austin\", \"order\": 18}, {\"cast_id\": 36, \"character\": \"Healer Fords\", \"credit_id\": \"52fe487bc3a368484e0fa95d\", \"gender\": 2, \"id\": 16460, \"name\": \"Marcus Lyle Brown\", \"order\": 19}, {\"cast_id\": 37, \"character\": \"Trevor Stryder\", \"credit_id\": \"52fe487bc3a368484e0fa961\", \"gender\": 2, \"id\": 129868, \"name\": \"J.D. Evermore\", \"order\": 20}, {\"cast_id\": 38, \"character\": \"Soul Raines\", \"credit_id\": \"52fe487bc3a368484e0fa965\", \"gender\": 0, \"id\": 1273237, \"name\": \"John Wilmot\", \"order\": 21}, {\"cast_id\": 39, \"character\": \"Seeker Pavo\", \"credit_id\": \"52fe487bc3a368484e0fa969\", \"gender\": 0, \"id\": 1273238, \"name\": \"Evan Cleaver\", \"order\": 22}, {\"cast_id\": 40, \"character\": \"Brandt\", \"credit_id\": \"52fe487bc3a368484e0fa96d\", \"gender\": 0, \"id\": 1273239, \"name\": \"Mustafa Harris\", \"order\": 23}, {\"cast_id\": 41, \"character\": \"Doc\", \"credit_id\": \"52fe487bc3a368484e0fa971\", \"gender\": 2, \"id\": 42317, \"name\": \"Scott Lawrence\", \"order\": 24}, {\"cast_id\": 42, \"character\": \"Wes\", \"credit_id\": \"52fe487bc3a368484e0fa975\", \"gender\": 0, \"id\": 176491, \"name\": \"Shawn Carter Peterson\", \"order\": 25}, {\"cast_id\": 43, \"character\": \"Lily\", \"credit_id\": \"52fe487bc3a368484e0fa979\", \"gender\": 0, \"id\": 1123886, \"name\": \"Raeden Greer\", \"order\": 26}, {\"cast_id\": 44, \"character\": \"Seeker Hawke\", \"credit_id\": \"52fe487bc3a368484e0fa97d\", \"gender\": 0, \"id\": 1112417, \"name\": \"Tatanka Means\", \"order\": 27}, {\"cast_id\": 46, \"character\": \"Seeker Summers\", \"credit_id\": \"52fe487bc3a368484e0fa985\", \"gender\": 0, \"id\": 79211, \"name\": \"David House\", \"order\": 29}, {\"cast_id\": 47, \"character\": \"Soul Pearle\", \"credit_id\": \"52fe487bc3a368484e0fa989\", \"gender\": 0, \"id\": 1273240, \"name\": \"Ruby Lou Smith\", \"order\": 30}, {\"cast_id\": 48, \"character\": \"Healer Skye\", \"credit_id\": \"52fe487bc3a368484e0fa98d\", \"gender\": 1, \"id\": 946356, \"name\": \"Andrea Frankle\", \"order\": 31}, {\"cast_id\": 49, \"character\": \"Seeker Nova\", \"credit_id\": \"52fe487bc3a368484e0fa991\", \"gender\": 0, \"id\": 1049735, \"name\": \"Yohance Myles\", \"order\": 32}, {\"cast_id\": 50, \"character\": \"Seeker Burns\", \"credit_id\": \"52fe487bc3a368484e0fa995\", \"gender\": 2, \"id\": 558466, \"name\": \"Alex Russell\", \"order\": 33}, {\"cast_id\": 51, \"character\": \"Nate\", \"credit_id\": \"52fe487bc3a368484e0fa999\", \"gender\": 2, \"id\": 71913, \"name\": \"Bokeem Woodbine\", \"order\": 34}, {\"cast_id\": 56, \"character\": \"Seeker Dawn\", \"credit_id\": \"56a12cdcc3a36858e500fde3\", \"gender\": 0, \"id\": 1369033, \"name\": \"Stacey Carino\", \"order\": 35}, {\"cast_id\": 57, \"character\": \"Seeker Zephyr\", \"credit_id\": \"56a12dc0c3a3683413005c66\", \"gender\": 0, \"id\": 1566669, \"name\": \"Erik Schultz\", \"order\": 36}]     2\n",
      "[{\"cast_id\": 5, \"character\": \"Jack Napier/The Joker\", \"credit_id\": \"52fe422fc3a36847f800aa05\", \"gender\": 2, \"id\": 514, \"name\": \"Jack Nicholson\", \"order\": 0}, {\"cast_id\": 4, \"character\": \"Bruce Wayne/Batman\", \"credit_id\": \"52fe422fc3a36847f800aa01\", \"gender\": 2, \"id\": 2232, \"name\": \"Michael Keaton\", \"order\": 1}, {\"cast_id\": 6, \"character\": \"Vicki Vale\", \"credit_id\": \"52fe422fc3a36847f800aa09\", \"gender\": 1, \"id\": 326, \"name\": \"Kim Basinger\", \"order\": 2}, {\"cast_id\": 7, \"character\": \"Alfred\", \"credit_id\": \"52fe422fc3a36847f800aa0d\", \"gender\": 2, \"id\": 3796, \"name\": \"Michael Gough\", \"order\": 3}, {\"cast_id\": 8, \"character\": \"Commissioner James Gordon\", \"credit_id\": \"52fe422fc3a36847f800aa11\", \"gender\": 2, \"id\": 3798, \"name\": \"Pat Hingle\", \"order\": 4}, {\"cast_id\": 9, \"character\": \"Harvey Dent\", \"credit_id\": \"52fe422fc3a36847f800aa15\", \"gender\": 0, \"id\": 3799, \"name\": \"Billy Dee Williams\", \"order\": 5}, {\"cast_id\": 10, \"character\": \"Carl Grissom\", \"credit_id\": \"52fe422fc3a36847f800aa19\", \"gender\": 2, \"id\": 3785, \"name\": \"Jack Palance\", \"order\": 6}, {\"cast_id\": 11, \"character\": \"Alicia Grissom\", \"credit_id\": \"52fe422fc3a36847f800aa1d\", \"gender\": 1, \"id\": 3800, \"name\": \"Jerry Hall\", \"order\": 7}, {\"cast_id\": 12, \"character\": \"Bob the Goon\", \"credit_id\": \"52fe422fc3a36847f800aa21\", \"gender\": 2, \"id\": 3801, \"name\": \"Tracey Walter\", \"order\": 8}, {\"cast_id\": 13, \"character\": \"Mayor\", \"credit_id\": \"52fe422fc3a36847f800aa25\", \"gender\": 2, \"id\": 3802, \"name\": \"Lee Wallace\", \"order\": 9}, {\"cast_id\": 14, \"character\": \"Eckhardt\", \"credit_id\": \"52fe422fc3a36847f800aa29\", \"gender\": 2, \"id\": 663, \"name\": \"William Hootkins\", \"order\": 10}, {\"cast_id\": 15, \"character\": \"Rotelli\", \"credit_id\": \"52fe422fc3a36847f800aa2d\", \"gender\": 0, \"id\": 3803, \"name\": \"Edwin Craig\", \"order\": 11}, {\"cast_id\": 24, \"character\": \"Alexander Knox\", \"credit_id\": \"52fe4230c3a36847f800aa61\", \"gender\": 2, \"id\": 4040, \"name\": \"Robert Wuhl\", \"order\": 12}, {\"cast_id\": 26, \"character\": \"Crimelord #1\", \"credit_id\": \"57f8030e92514116aa000cc6\", \"gender\": 2, \"id\": 1257821, \"name\": \"Vincent Wong\", \"order\": 13}, {\"cast_id\": 27, \"character\": \"Goon\", \"credit_id\": \"58932a45c3a3686d17004caf\", \"gender\": 2, \"id\": 79502, \"name\": \"Richard Strange\", \"order\": 14}, {\"cast_id\": 28, \"character\": \"Nic\", \"credit_id\": \"58932a649251416eeb0047de\", \"gender\": 2, \"id\": 8399, \"name\": \"Christopher Fairbank\", \"order\": 15}, {\"cast_id\": 29, \"character\": \"TV Director\", \"credit_id\": \"58932a739251416ef8004e1f\", \"gender\": 2, \"id\": 120833, \"name\": \"Richard Durden\", \"order\": 16}, {\"cast_id\": 30, \"character\": \"Lawyer\", \"credit_id\": \"58932a8bc3a3686d1c004b39\", \"gender\": 0, \"id\": 17072, \"name\": \"Sam Douglas\", \"order\": 17}, {\"cast_id\": 31, \"character\": \"Doctor\", \"credit_id\": \"598643679251413d39006b53\", \"gender\": 2, \"id\": 140148, \"name\": \"Steve Plytas\", \"order\": 18}]                                                                                                                                                                                                                                                                                                                                                                                                                                                                                                                                                                                                                                                                                                                                                                                                                                                                                                                                                                                                                                                                                                                                                                                                                                                                                                                                                                                                                                                                                                                                                                                                                                                                                                                                                                                                                                                                                                                                                                                                                                                                                                                                                                                                                                                                                                                                                                                                                                                                                                                                                                                                                                                                                                                                  2\n",
      "[{\"cast_id\": 17, \"character\": \"Batman / Bruce Wayne\", \"credit_id\": \"52fe4363c3a36847f80509cf\", \"gender\": 2, \"id\": 26847, \"name\": \"Adam West\", \"order\": 0}, {\"cast_id\": 20, \"character\": \"Robin / Dick Grayson\", \"credit_id\": \"52fe4363c3a36847f80509d3\", \"gender\": 2, \"id\": 35192, \"name\": \"Burt Ward\", \"order\": 1}, {\"cast_id\": 13, \"character\": \"The Catwoman / Kitka\", \"credit_id\": \"52fe4363c3a36847f80509bf\", \"gender\": 1, \"id\": 16108, \"name\": \"Lee Meriwether\", \"order\": 2}, {\"cast_id\": 1, \"character\": \"The Joker\", \"credit_id\": \"52fe4363c3a36847f805097d\", \"gender\": 2, \"id\": 4355, \"name\": \"Cesar Romero\", \"order\": 3}, {\"cast_id\": 11, \"character\": \"The Penguin\", \"credit_id\": \"52fe4363c3a36847f80509b7\", \"gender\": 2, \"id\": 16523, \"name\": \"Burgess Meredith\", \"order\": 4}, {\"cast_id\": 12, \"character\": \"The Riddler\", \"credit_id\": \"52fe4363c3a36847f80509bb\", \"gender\": 2, \"id\": 291, \"name\": \"Frank Gorshin\", \"order\": 5}, {\"cast_id\": 15, \"character\": \"Alfred\", \"credit_id\": \"52fe4363c3a36847f80509c7\", \"gender\": 2, \"id\": 6933, \"name\": \"Alan Napier\", \"order\": 6}, {\"cast_id\": 14, \"character\": \"Commissioner Gordon\", \"credit_id\": \"52fe4363c3a36847f80509c3\", \"gender\": 2, \"id\": 27733, \"name\": \"Neil Hamilton\", \"order\": 7}, {\"cast_id\": 16, \"character\": \"Chief O'Hara\", \"credit_id\": \"52fe4363c3a36847f80509cb\", \"gender\": 2, \"id\": 27734, \"name\": \"Stafford Repp\", \"order\": 8}, {\"cast_id\": 21, \"character\": \"Aunt Harriet Cooper\", \"credit_id\": \"54f5785b9251412ba9001148\", \"gender\": 1, \"id\": 43824, \"name\": \"Madge Blake\", \"order\": 9}, {\"cast_id\": 22, \"character\": \"Commodore Schmidlapp\", \"credit_id\": \"54f579479251412ba7001129\", \"gender\": 2, \"id\": 3364, \"name\": \"Reginald Denny\", \"order\": 10}, {\"cast_id\": 23, \"character\": \"Vice Admiral Fangschliester\", \"credit_id\": \"54f57a00c3a3683500001318\", \"gender\": 2, \"id\": 78776, \"name\": \"Milton Frome\", \"order\": 11}, {\"cast_id\": 24, \"character\": \"Bluebeard\", \"credit_id\": \"54f57c0f9251412ba700124c\", \"gender\": 2, \"id\": 1214919, \"name\": \"Gil Perkins\", \"order\": 12}, {\"cast_id\": 25, \"character\": \"Morgan\", \"credit_id\": \"54f57e6ec3a36834fd0013d7\", \"gender\": 2, \"id\": 14256, \"name\": \"Dick Crockett\", \"order\": 13}, {\"cast_id\": 26, \"character\": \"Quetch\", \"credit_id\": \"54f580da9251412bac0014ae\", \"gender\": 2, \"id\": 100799, \"name\": \"George Sawaya\", \"order\": 14}, {\"cast_id\": 28, \"character\": \"President Lyndon B. Johnson\", \"credit_id\": \"58968ca392514129c800d801\", \"gender\": 2, \"id\": 145535, \"name\": \"Van Williams\", \"order\": 15}, {\"cast_id\": 29, \"character\": \"Man\", \"credit_id\": \"58968cdcc3a36808ae00f87c\", \"gender\": 0, \"id\": 102933, \"name\": \"Jack LaLanne\", \"order\": 16}, {\"cast_id\": 27, \"character\": \"Cop\", \"credit_id\": \"55d2a940c3a368694e000a4c\", \"gender\": 0, \"id\": 1208039, \"name\": \"Arthur Tovey\", \"order\": 17}]                                                                                                                                                                                                                                                                                                                                                                                                                                                                                                                                                                                                                                                                                                                                                                                                                                                                                                                                                                                                                                                                                                                                                                                                                                                                                                                                                                                                                                                                                                                                                                                                                                                                                                                                                                                                                                                                                                                                                                                                                                                                                                                                                                                                                                                                                                                                                                                                                                                                                                                                                                                                                                                                                                                                                                                                                              2\n",
      "[{\"cast_id\": 3, \"character\": \"Park Gang-du\", \"credit_id\": \"52fe42eac3a36847f802ca31\", \"gender\": 2, \"id\": 20738, \"name\": \"Song Kang-ho\", \"order\": 0}, {\"cast_id\": 5, \"character\": \"Park Nam-il\", \"credit_id\": \"52fe42eac3a36847f802ca39\", \"gender\": 2, \"id\": 21687, \"name\": \"Park Hae-il\", \"order\": 2}, {\"cast_id\": 6, \"character\": \"Park Nam-joo\", \"credit_id\": \"52fe42eac3a36847f802ca3d\", \"gender\": 1, \"id\": 21688, \"name\": \"Bae Doona\", \"order\": 3}, {\"cast_id\": 7, \"character\": \"Park Hyun-seo\", \"credit_id\": \"52fe42eac3a36847f802ca41\", \"gender\": 0, \"id\": 21689, \"name\": \"Ko Ah-sung\", \"order\": 4}, {\"cast_id\": 15, \"character\": \"Park Hie-bong\", \"credit_id\": \"56169cd49251410d80012453\", \"gender\": 0, \"id\": 116180, \"name\": \"Byun Hee-bong\", \"order\": 5}, {\"cast_id\": 18, \"character\": \"American Doctor\", \"credit_id\": \"5776a94592514174d2001e5d\", \"gender\": 2, \"id\": 6914, \"name\": \"Scott Wilson\", \"order\": 6}, {\"cast_id\": 20, \"character\": \"US Doctor trying to operate Gang-Du\", \"credit_id\": \"5956a8fbc3a3680d73061d61\", \"gender\": 2, \"id\": 138988, \"name\": \"Paul Lazar\", \"order\": 7}]                                                                                                                                                                                                                                                                                                                                                                                                                                                                                                                                                                                                                                                                                                                                                                                                                                                                                                                                                                                                                                                                                                                                                                                                                                                                                                                                                                                                                                                                                                                                                                                                                                                                                                                                                                                                                                                                                                                                                                                                                                                                                                                                                                                                                                                                                                                                                                                                                                                                                                                                                                                                                                                                                                                                                                                                                                                                                                                                                                                                                                                                                                                                                                                                                                                                                                                                                                                                                                                                                                                                                                                                                                                                                                                                                                                                                                                                                                                                                                                                                                                                                                                                                                                                                                                                                                                                                                                                                                                                                                                                                                 2\n",
      "                                                                                                                                                                                                                                                                                                                                                                                                                                                                                                                                                                                                                                                                                                                                                                                                                                                                                                                                                                                                                                                                                                                                                                                                                                                                                                                                                                                                                                                                                                                                                                                                                                                                                                                                                                                                                                                                                                                                                                                                                                                                                                                                                                                                                                                                                                                                                                                                                                                                                                                                                                                                                                                                                                                                                                                                                                                                                                                                                                                                                                                                                                                                                                                                                                                                                                                                                                                                                                                                                                                                                                                                                                                                                                                                                                                                                                                                                                                                                                                                                                                                                                                                                                                                                                                                                                                                                                                                                                                                                                                                                                                                                                                                                                                                                                                                                                                                                                                                                                                                                                                                                                                                                                                                                                                                                                                                                                                                                                                                                                                                                                                                                                                                    ..\n",
      "[{\"cast_id\": 6, \"character\": \"Dylan Dog\", \"credit_id\": \"52fe466cc3a36847f80fe26d\", \"gender\": 2, \"id\": 17271, \"name\": \"Brandon Routh\", \"order\": 0}, {\"cast_id\": 7, \"character\": \"Gabriel\", \"credit_id\": \"52fe466cc3a36847f80fe271\", \"gender\": 2, \"id\": 53, \"name\": \"Peter Stormare\", \"order\": 1}, {\"cast_id\": 8, \"character\": \"Marcus\", \"credit_id\": \"52fe466cc3a36847f80fe275\", \"gender\": 0, \"id\": 53492, \"name\": \"Sam Huntington\", \"order\": 2}, {\"cast_id\": 9, \"character\": \"Vargus\", \"credit_id\": \"52fe466cc3a36847f80fe279\", \"gender\": 2, \"id\": 17637, \"name\": \"Taye Diggs\", \"order\": 3}, {\"cast_id\": 10, \"character\": \"Elizabeth\", \"credit_id\": \"52fe466cc3a36847f80fe27d\", \"gender\": 1, \"id\": 70785, \"name\": \"Anita Briem\", \"order\": 4}, {\"cast_id\": 11, \"character\": \"Wolfgang\", \"credit_id\": \"52fe466cc3a36847f80fe281\", \"gender\": 0, \"id\": 90031, \"name\": \"Kurt Angle\", \"order\": 5}, {\"cast_id\": 21, \"character\": \"Rosenberg\", \"credit_id\": \"52fe466cc3a36847f80fe2bb\", \"gender\": 2, \"id\": 141226, \"name\": \"Andrew Sensenig\", \"order\": 6}, {\"cast_id\": 22, \"character\": \"Bob the Mechanic\", \"credit_id\": \"52fe466cc3a36847f80fe2bf\", \"gender\": 2, \"id\": 215887, \"name\": \"Randal Reeder\", \"order\": 7}, {\"cast_id\": 23, \"character\": \"Ally\", \"credit_id\": \"52fe466cc3a36847f80fe2c3\", \"gender\": 0, \"id\": 568045, \"name\": \"Courtney J. Clark\", \"order\": 8}, {\"cast_id\": 24, \"character\": \"Go Go Dancer\", \"credit_id\": \"52fe466cc3a36847f80fe2c7\", \"gender\": 0, \"id\": 568046, \"name\": \"Gabrielle Chapin\", \"order\": 9}, {\"cast_id\": 25, \"character\": \"Kelly\", \"credit_id\": \"52fe466cc3a36847f80fe2cb\", \"gender\": 0, \"id\": 568047, \"name\": \"Kimberly Whalen\", \"order\": 10}, {\"cast_id\": 26, \"character\": \"Trueblood Vampire\", \"credit_id\": \"52fe466cc3a36847f80fe2cf\", \"gender\": 0, \"id\": 568048, \"name\": \"Courtney Shay Young\", \"order\": 11}, {\"cast_id\": 27, \"character\": \"Lorca\", \"credit_id\": \"52fe466cc3a36847f80fe2d3\", \"gender\": 2, \"id\": 568049, \"name\": \"James H\\u00e9bert\", \"order\": 12}, {\"cast_id\": 28, \"character\": \"Borelli\", \"credit_id\": \"52fe466cc3a36847f80fe2d7\", \"gender\": 2, \"id\": 94182, \"name\": \"Marco St. John\", \"order\": 13}]                                                                                                                                                                                                                                                                                                                                                                                                                                                                                                                                                                                                                                                                                                                                                                                                                                                                                                                                                                                                                                                                                                                                                                                                                                                                                                                                                                                                                                                                                                                                                                                                                                                                                                                                                                                                                                                                                                                                                                                                                                                                                                                                                                                                                                                                                                                                                                                                                                                                                                                                                                                                                                                                                                                                                                                                                                                                                                                                                                                                                                                                                                                                                                                                                                                                                                                                                                                                                                                                                                             1\n",
      "[{\"cast_id\": 8, \"character\": \"Conan\", \"credit_id\": \"52fe4511c3a36847f80ba66f\", \"gender\": 2, \"id\": 1100, \"name\": \"Arnold Schwarzenegger\", \"order\": 0}, {\"cast_id\": 9, \"character\": \"Zula\", \"credit_id\": \"52fe4511c3a36847f80ba673\", \"gender\": 1, \"id\": 10661, \"name\": \"Grace Jones\", \"order\": 1}, {\"cast_id\": 10, \"character\": \"Bombaata\", \"credit_id\": \"52fe4511c3a36847f80ba677\", \"gender\": 2, \"id\": 58181, \"name\": \"Wilt Chamberlain\", \"order\": 2}, {\"cast_id\": 11, \"character\": \"Malak\", \"credit_id\": \"52fe4511c3a36847f80ba67b\", \"gender\": 2, \"id\": 3801, \"name\": \"Tracey Walter\", \"order\": 3}, {\"cast_id\": 12, \"character\": \"Akiro 'The Wizard'\", \"credit_id\": \"52fe4511c3a36847f80ba67f\", \"gender\": 2, \"id\": 10134, \"name\": \"Mako\", \"order\": 4}, {\"cast_id\": 13, \"character\": \"Queen Taramis\", \"credit_id\": \"52fe4511c3a36847f80ba683\", \"gender\": 1, \"id\": 31364, \"name\": \"Sarah Douglas\", \"order\": 5}, {\"cast_id\": 14, \"character\": \"Princess Jehnna\", \"credit_id\": \"52fe4511c3a36847f80ba687\", \"gender\": 1, \"id\": 46423, \"name\": \"Olivia d'Abo\", \"order\": 6}, {\"cast_id\": 15, \"character\": \"Man Ape / Toth-Amon\", \"credit_id\": \"52fe4511c3a36847f80ba68b\", \"gender\": 2, \"id\": 10942, \"name\": \"Pat Roach\", \"order\": 7}, {\"cast_id\": 16, \"character\": \"Grand Vizier\", \"credit_id\": \"52fe4511c3a36847f80ba68f\", \"gender\": 2, \"id\": 9596, \"name\": \"Jeff Corey\", \"order\": 8}, {\"cast_id\": 17, \"character\": \"Togra\", \"credit_id\": \"52fe4511c3a36847f80ba693\", \"gender\": 2, \"id\": 20761, \"name\": \"Sven-Ole Thorsen\", \"order\": 9}, {\"cast_id\": 67, \"character\": \"Dagoth\", \"credit_id\": \"57c7149092514138d2009345\", \"gender\": 0, \"id\": 25504, \"name\": \"Andr\\u00e9 the Giant\", \"order\": 10}]                                                                                                                                                                                                                                                                                                                                                                                                                                                                                                                                                                                                                                                                                                                                                                                                                                                                                                                                                                                                                                                                                                                                                                                                                                                                                                                                                                                                                                                                                                                                                                                                                                                                                                                                                                                                                                                                                                                                                                                                                                                                                                                                                                                                                                                                                                                                                                                                                                                                                                                                                                                                                                                                                                                                                                                                                                                                                                                                                                                                                                                                                                                                                                                                                                                                                                                                                                                                                                                                                                                                                                                                                                                                                                                                                                                                                                                                                                                                                                           1\n",
      "[{\"cast_id\": 1, \"character\": \"Sethe\", \"credit_id\": \"52fe47199251416c91069f31\", \"gender\": 1, \"id\": 13309, \"name\": \"Oprah Winfrey\", \"order\": 0}, {\"cast_id\": 2, \"character\": \"Paul D Garner\", \"credit_id\": \"52fe47199251416c91069f35\", \"gender\": 2, \"id\": 2047, \"name\": \"Danny Glover\", \"order\": 1}, {\"cast_id\": 3, \"character\": \"Beloved\", \"credit_id\": \"52fe47199251416c91069f39\", \"gender\": 1, \"id\": 9030, \"name\": \"Thandie Newton\", \"order\": 2}, {\"cast_id\": 6, \"character\": \"Younger Sethe\", \"credit_id\": \"52fe47199251416c91069f3d\", \"gender\": 0, \"id\": 64908, \"name\": \"Lisa Gay Hamilton\", \"order\": 5}, {\"cast_id\": 7, \"character\": \"Stamp Paid\", \"credit_id\": \"52fe47199251416c91069f41\", \"gender\": 2, \"id\": 8354, \"name\": \"Albert Hall\", \"order\": 6}, {\"cast_id\": 8, \"character\": \"Ella\", \"credit_id\": \"52fe47199251416c91069f45\", \"gender\": 1, \"id\": 43853, \"name\": \"Irma P. Hall\", \"order\": 7}, {\"cast_id\": 9, \"character\": \"Denver\", \"credit_id\": \"52fe47199251416c91069f49\", \"gender\": 1, \"id\": 55314, \"name\": \"Kimberly Elise\", \"order\": 8}, {\"cast_id\": 10, \"character\": \"Baby Suggs, aka Grandma Baby\", \"credit_id\": \"52fe47199251416c91069f4d\", \"gender\": 1, \"id\": 32774, \"name\": \"Beah Richards\", \"order\": 9}, {\"cast_id\": 21, \"character\": \"Grace\", \"credit_id\": \"58bd6fb09251413435001e34\", \"gender\": 0, \"id\": 1770964, \"name\": \"Vertamae Grosvenor\", \"order\": 10}]                                                                                                                                                                                                                                                                                                                                                                                                                                                                                                                                                                                                                                                                                                                                                                                                                                                                                                                                                                                                                                                                                                                                                                                                                                                                                                                                                                                                                                                                                                                                                                                                                                                                                                                                                                                                                                                                                                                                                                                                                                                                                                                                                                                                                                                                                                                                                                                                                                                                                                                                                                                                                                                                                                                                                                                                                                                                                                                                                                                                                                                                                                                                                                                                                                                                                                                                                                                                                                                                                                                                                                                                                                                                                                                                                                                                                                                                                                                                                                                                                                                                                                                                                                                                                                                                                1\n",
      "[{\"cast_id\": 4, \"character\": \"Michael Peterson (Charles Bronson)\", \"credit_id\": \"52fe47849251416c7509c3eb\", \"gender\": 2, \"id\": 2524, \"name\": \"Tom Hardy\", \"order\": 0}, {\"cast_id\": 5, \"character\": \"Paul Daniels\", \"credit_id\": \"52fe47849251416c7509c3ef\", \"gender\": 2, \"id\": 23776, \"name\": \"Matt King\", \"order\": 1}, {\"cast_id\": 6, \"character\": \"Phil\", \"credit_id\": \"52fe47849251416c7509c3f3\", \"gender\": 2, \"id\": 19775, \"name\": \"James Lance\", \"order\": 2}, {\"cast_id\": 7, \"character\": \"Irene\", \"credit_id\": \"52fe47849251416c7509c3f7\", \"gender\": 1, \"id\": 125718, \"name\": \"Kelly Adams\", \"order\": 3}, {\"cast_id\": 25, \"character\": \"Julie\", \"credit_id\": \"52fe47849251416c7509c45f\", \"gender\": 0, \"id\": 1117431, \"name\": \"Katy Barker\", \"order\": 4}, {\"cast_id\": 26, \"character\": \"Charlie's Mum\", \"credit_id\": \"52fe47849251416c7509c463\", \"gender\": 1, \"id\": 190405, \"name\": \"Amanda Burton\", \"order\": 5}, {\"cast_id\": 27, \"character\": \"Charlie's Dad\", \"credit_id\": \"52fe47849251416c7509c467\", \"gender\": 0, \"id\": 476761, \"name\": \"Andrew Forbes\", \"order\": 6}, {\"cast_id\": 28, \"character\": \"Webber\", \"credit_id\": \"52fe47849251416c7509c46b\", \"gender\": 0, \"id\": 1117432, \"name\": \"Jon House\", \"order\": 7}, {\"cast_id\": 29, \"character\": \"Alison\", \"credit_id\": \"52fe47849251416c7509c46f\", \"gender\": 0, \"id\": 1105701, \"name\": \"Juliet Oldfield\", \"order\": 8}, {\"cast_id\": 31, \"character\": \"Andy Love / Friendly Screw\", \"credit_id\": \"52fe47849251416c7509c477\", \"gender\": 0, \"id\": 106385, \"name\": \"Mark Powley\", \"order\": 10}, {\"cast_id\": 32, \"character\": \"Uncle Jack\", \"credit_id\": \"52fe47849251416c7509c47b\", \"gender\": 2, \"id\": 79648, \"name\": \"Hugh Ross\", \"order\": 11}, {\"cast_id\": 33, \"character\": \"Workshop Supervisor\", \"credit_id\": \"52fe47849251416c7509c47f\", \"gender\": 0, \"id\": 1117433, \"name\": \"Andrew St. John\", \"order\": 12}, {\"cast_id\": 34, \"character\": \"John White\", \"credit_id\": \"52fe47849251416c7509c483\", \"gender\": 2, \"id\": 143181, \"name\": \"Joe Tucker\", \"order\": 13}, {\"cast_id\": 35, \"character\": \"Jewellery Shop Assistant 1\", \"credit_id\": \"52fe47849251416c7509c487\", \"gender\": 0, \"id\": 1264495, \"name\": \"Tracy Wiles\", \"order\": 14}, {\"cast_id\": 24, \"character\": \"Hysterical Screw\", \"credit_id\": \"52fe47849251416c7509c45b\", \"gender\": 0, \"id\": 1117430, \"name\": \"Luing Andrews\", \"order\": 15}, {\"cast_id\": 36, \"character\": \"Prison Governor\", \"credit_id\": \"54db0fdcc3a36812240010e8\", \"gender\": 2, \"id\": 8547, \"name\": \"Jonny Phillips\", \"order\": 16}]                                                                                                                                                                                                                                                                                                                                                                                                                                                                                                                                                                                                                                                                                                                                                                                                                                                                                                                                                                                                                                                                                                                                                                                                                                                                                                                                                                                                                                                                                                                                                                                                                                                                                                                                                                                                                                                                                                                                                                                                                                                                                                                                                                                                                                                                                                                                                                                                                                                                                                                                                                                                                                                                                                                                                                                                                                                                                                                                                                                                                                                                                                                                               1\n",
      "[{\"cast_id\": 2, \"character\": \"Kalyani\", \"credit_id\": \"52fe4480c3a36847f8099fb7\", \"gender\": 1, \"id\": 52969, \"name\": \"Lisa Ray\", \"order\": 0}, {\"cast_id\": 3, \"character\": \"Chuyia\", \"credit_id\": \"52fe4480c3a36847f8099fbb\", \"gender\": 1, \"id\": 52970, \"name\": \"Sarala\", \"order\": 1}, {\"cast_id\": 4, \"character\": \"Narayan\", \"credit_id\": \"52fe4480c3a36847f8099fbf\", \"gender\": 2, \"id\": 52971, \"name\": \"John Abraham\", \"order\": 2}, {\"cast_id\": 14, \"character\": \"Shakuntala\", \"credit_id\": \"53bff73cc3a3684ce90050f9\", \"gender\": 1, \"id\": 230632, \"name\": \"Seema Biswas\", \"order\": 3}, {\"cast_id\": 6, \"character\": \"Bhagavati, Narayan's Mother\", \"credit_id\": \"52fe4480c3a36847f8099fc7\", \"gender\": 1, \"id\": 52973, \"name\": \"Waheeda Rehman\", \"order\": 5}, {\"cast_id\": 8, \"character\": \"Rabindra\", \"credit_id\": \"52fe4480c3a36847f8099fcf\", \"gender\": 2, \"id\": 43416, \"name\": \"Vinay Pathak\", \"order\": 6}, {\"cast_id\": 9, \"character\": \"Snehalata\", \"credit_id\": \"52fe4480c3a36847f8099fd3\", \"gender\": 1, \"id\": 52975, \"name\": \"Rishma Malik\", \"order\": 7}, {\"cast_id\": 15, \"character\": \"Madhumati\", \"credit_id\": \"55af9f549251411e1100c9b3\", \"gender\": 0, \"id\": 1325553, \"name\": \"Manorama\", \"order\": 8}, {\"cast_id\": 16, \"character\": \"Gulabi\", \"credit_id\": \"57de337292514178550071e0\", \"gender\": 2, \"id\": 52974, \"name\": \"Raghuvir Yadav\", \"order\": 9}]                                                                                                                                                                                                                                                                                                                                                                                                                                                                                                                                                                                                                                                                                                                                                                                                                                                                                                                                                                                                                                                                                                                                                                                                                                                                                                                                                                                                                                                                                                                                                                                                                                                                                                                                                                                                                                                                                                                                                                                                                                                                                                                                                                                                                                                                                                                                                                                                                                                                                                                                                                                                                                                                                                                                                                                                                                                                                                                                                                                                                                                                                                                                                                                                                                                                                                                                                                                                                                                                                                                                                                                                                                                                                                                                                                                                                                                                                                                                                                                                                                                                                                                                                                                                                                                                                                        1\n",
      "Name: cast, Length: 4761, dtype: int64\n",
      "[]                                                                                                                                                                                                                                                                                                                                                                                                                                                                                                                                                                                                                                                                                                                                                                                                                                                                                                                                                                                                                                                                                                                                                                                                                                                                                                                                                                                                                                                                                                                                                                                                                                                                                                                                                                                                                                                                                                                                                                                                                                                                                                                                                                                                                                                                                                                                                                                                                                                                                                                                                                                                                                                                                                                                                                                                                                                                                                                                                                                                                                                                                                                                                                                                                                                                                                                                                                                                                                                                                                                                                                                                                                                                                                                                                                                                                                                                                                                                                                                                                                                                                                                                                                                                                                                                                                                                                                                                                                                                                                                                                                                                                                                                                                                                                                                                                                                                                                                                                                                                                                                                                                                                                                                                                                                                                                                                                                                                                                                                                                                                                                                                                                                                                                                                                                                                                                                                                                                                                                                                                                                                                                                                                                                                                                                                                                                                                                                                                                                                                                                                                                                                                                                                                                                                                                                                                                                                                                                                                                                                                                                                                                                                                                                                                                                                                                                                                                                                                                                                                                                                                                                                                                                                                                                                                                                                                                                                                                                                                                                                                                                                                                                                                                                                                                                                                                                                                                                                                                                                                                                                                                                                                                                                                                                                                                                                                                                                                                                                                                                                                                                                                                                                                                                                                                                                                                                                                                                                                                                                                                                                                                                                                                                                                                                                                                                                                                                                                                                                                                                                                                                                                                                                                                                                                                                                                                                                                                                                                                                                                                                                                                                                                                                                                                                                                                                                                                                                                                                                                                                                                                                                                                                                                                                                                                                                                                                                                                                                                                                                                                                                                                                                                                                                                                                                                                                                                                                                                                                                                                                                                                                                                                                                                                                                                                                                                                                                                                                                                                                                                                                                                                                                                                                                                                                                                                                                                                                                                                                                                                                                                                                                                                                                                                                                                                                                                                                                                                                                                                                                                                                                                                                                                                                                                                                                                                                                                                                                                                                                                                                                                                                                                                                                                                                                                                                                                                                                                                                                                                                                                                                                                                                                                                                                                                                                                                                                                                                                                                                                                                                                                                                                                                                                                                                                                                                                                                                                                                                                                                                                                                                                                                                                                                                                                                                                                                                                                                                                                                                                                                                                                                                                                                                                                                                                                                                                                                                                                                                                                                                                                                                                                                                                                                                                                                                                                                                                                                                                                                                                                                                                                                                                                                                         28\n",
      "[{\"credit_id\": \"52fe43c19251416c7501cceb\", \"department\": \"Art\", \"gender\": 2, \"id\": 1317, \"job\": \"Production Design\", \"name\": \"Philip Ivey\"}, {\"credit_id\": \"52fe43c09251416c7501ccbb\", \"department\": \"Production\", \"gender\": 2, \"id\": 65595, \"job\": \"Producer\", \"name\": \"Timothy White\"}, {\"credit_id\": \"52fe43c09251416c7501ccc1\", \"department\": \"Writing\", \"gender\": 0, \"id\": 67107, \"job\": \"Author\", \"name\": \"Bill O'Brien\"}, {\"credit_id\": \"52fe43c19251416c7501ccc7\", \"department\": \"Directing\", \"gender\": 2, \"id\": 67106, \"job\": \"Director\", \"name\": \"Robert Sarkies\"}, {\"credit_id\": \"52fe43c19251416c7501cd5f\", \"department\": \"Writing\", \"gender\": 2, \"id\": 67106, \"job\": \"Author\", \"name\": \"Robert Sarkies\"}, {\"credit_id\": \"52fe43c19251416c7501cccd\", \"department\": \"Production\", \"gender\": 0, \"id\": 67110, \"job\": \"Producer\", \"name\": \"Steven O'Meagher\"}, {\"credit_id\": \"52fe43c19251416c7501ccd3\", \"department\": \"Production\", \"gender\": 2, \"id\": 67111, \"job\": \"Producer\", \"name\": \"Tim White\"}, {\"credit_id\": \"52fe43c19251416c7501ccd9\", \"department\": \"Writing\", \"gender\": 0, \"id\": 67109, \"job\": \"Author\", \"name\": \"Graeme Tetley\"}, {\"credit_id\": \"52fe43c19251416c7501ccdf\", \"department\": \"Camera\", \"gender\": 0, \"id\": 67113, \"job\": \"Director of Photography\", \"name\": \"Greig Fraser\"}, {\"credit_id\": \"52fe43c19251416c7501cce5\", \"department\": \"Sound\", \"gender\": 1, \"id\": 67112, \"job\": \"Original Music Composer\", \"name\": \"Victoria Kelly\"}, {\"credit_id\": \"52fe43c19251416c7501ccf1\", \"department\": \"Art\", \"gender\": 0, \"id\": 67114, \"job\": \"Art Direction\", \"name\": \"David Kolff\"}, {\"credit_id\": \"52fe43c19251416c7501ccfb\", \"department\": \"Costume & Make-Up\", \"gender\": 0, \"id\": 67116, \"job\": \"Costume Design\", \"name\": \"Lesley Burkes-Harding\"}, {\"credit_id\": \"52fe43c19251416c7501cd01\", \"department\": \"Art\", \"gender\": 0, \"id\": 67115, \"job\": \"Art Direction\", \"name\": \"Ken Turner\"}, {\"credit_id\": \"52fe43c19251416c7501cd07\", \"department\": \"Editing\", \"gender\": 0, \"id\": 67118, \"job\": \"Editor\", \"name\": \"Annie Collins\"}, {\"credit_id\": \"52fe43c19251416c7501cd0d\", \"department\": \"Production\", \"gender\": 0, \"id\": 67117, \"job\": \"Casting\", \"name\": \"Rachael Bullock\"}, {\"credit_id\": \"5881eb6b925141303400bca8\", \"department\": \"Crew\", \"gender\": 0, \"id\": 1079558, \"job\": \"Stunt Coordinator\", \"name\": \"Augie Davis\"}]                                                                                                                                                                                                                                                                                                                                                                                                                                                                                                                                                                                                                                                                                                                                                                                                                                                                                                                                                                                                                                                                                                                                                                                                                                                                                                                                                                                                                                                                                                                                                                                                                                                                                                                                                                                                                                                                                                                                                                                                                                                                                                                                                                                                                                                                                                                                                                                                                                                                                                                                                                                                                                                                                                                                                                                                                                                                                                                                                                                                                                                                                                                                                                                                                                                                                                                                                                                                                                                                                                                                                                                                                                                                                                                                                                                                                                                                                                                                                                                                                                                                                                                                                                                                                                                                                                                                                                                                                                                                                                                                                                                                                                                                                                                                                                                                                                                                                                                                                                                                                                                                                                                                                                                                                                                                                                                                                                                                                                                                                                                                                                                                                                                                                                                                                                                                                                                                                                                                                                                                                                                                                                                                                                                                                                                                                                                                                                                                                                                                                                                                                                                                                                                                                                                                                                                                                                                                                                                                                                                                                                                                                                                                                                                                                                                                                                                                                                                                                                                                                                                                                                                                                                                                                                                                                                                                                                                                                                                                                                                                                                                                                                                                                                                                                                                                                                                                                                                                                                                                                                                                                                                                                                                                                                                                                                                                                                                                                                                                                                                                                                                                                                                                                                                                                                                                                                                                                                                                                                                                                                                                                                                                                                                                                                                                                                                                                                                                                                                                                                                                                                                                                                                                                                                                                                                                                                                                                                                                                                                                                                                                                                                                                                                                                                                                                                                                                                                                                                                                                                                                                                                                                                                                                                                                                                                                                                                                                                                                                                                                                                                                                                                                                                                                                                                                                                                                                                                                                                                                                                                                                                                                                                                                                                                                                                                                                                                                                                                                                                                                                                                                                                                                                                                                                                                                                                                                                                                                                                                                                                                                                                                                                                                                                                                                                                                                                                                                                                                                                                                                                                                                                                                                                                                                                                                                                                                                                                                                                                                                                                                                                                                                                                                                                                                                                                                                                                                                                                                                                                                                                                                                                                                                                                                                                                                                                             2\n",
      "[{\"credit_id\": \"52fe487bc3a368484e0fa919\", \"department\": \"Production\", \"gender\": 2, \"id\": 3498, \"job\": \"Executive Producer\", \"name\": \"Bill Johnson\"}, {\"credit_id\": \"52fe487bc3a368484e0fa923\", \"department\": \"Production\", \"gender\": 1, \"id\": 6044, \"job\": \"Casting\", \"name\": \"Mindy Marin\"}, {\"credit_id\": \"52fe487bc3a368484e0fa8e7\", \"department\": \"Production\", \"gender\": 2, \"id\": 6468, \"job\": \"Producer\", \"name\": \"Nick Wechsler\"}, {\"credit_id\": \"52fe487bc3a368484e0fa90f\", \"department\": \"Writing\", \"gender\": 2, \"id\": 8685, \"job\": \"Screenplay\", \"name\": \"Andrew Niccol\"}, {\"credit_id\": \"52fe487bc3a368484e0fa8bd\", \"department\": \"Directing\", \"gender\": 2, \"id\": 8685, \"job\": \"Director\", \"name\": \"Andrew Niccol\"}, {\"credit_id\": \"52fe487bc3a368484e0fa935\", \"department\": \"Sound\", \"gender\": 2, \"id\": 8576, \"job\": \"Music\", \"name\": \"Antonio Pinto\"}, {\"credit_id\": \"58c9c82bc3a36841b6000136\", \"department\": \"Camera\", \"gender\": 2, \"id\": 13000, \"job\": \"Director of Photography\", \"name\": \"Roberto Schaefer\"}, {\"credit_id\": \"52fe487bc3a368484e0fa8c9\", \"department\": \"Production\", \"gender\": 2, \"id\": 20567, \"job\": \"Executive Producer\", \"name\": \"Marc Butan\"}, {\"credit_id\": \"52fe487bc3a368484e0fa8cf\", \"department\": \"Production\", \"gender\": 0, \"id\": 56856, \"job\": \"Producer\", \"name\": \"Stephenie Meyer\"}, {\"credit_id\": \"52fe487bc3a368484e0fa909\", \"department\": \"Writing\", \"gender\": 0, \"id\": 56856, \"job\": \"Novel\", \"name\": \"Stephenie Meyer\"}, {\"credit_id\": \"52fe487bc3a368484e0fa8e1\", \"department\": \"Production\", \"gender\": 2, \"id\": 62238, \"job\": \"Executive Producer\", \"name\": \"Jim Seibel\"}, {\"credit_id\": \"52fe487bc3a368484e0fa8c3\", \"department\": \"Production\", \"gender\": 2, \"id\": 71556, \"job\": \"Executive Producer\", \"name\": \"Ray Angelic\"}, {\"credit_id\": \"52fe487bc3a368484e0fa9a3\", \"department\": \"Costume & Make-Up\", \"gender\": 1, \"id\": 406204, \"job\": \"Makeup Department Head\", \"name\": \"Ve Neill\"}, {\"credit_id\": \"52fe487bc3a368484e0fa8d5\", \"department\": \"Production\", \"gender\": 0, \"id\": 566958, \"job\": \"Producer\", \"name\": \"Paula Mae Schwartz\"}, {\"credit_id\": \"52fe487bc3a368484e0fa8db\", \"department\": \"Production\", \"gender\": 0, \"id\": 566962, \"job\": \"Producer\", \"name\": \"Steve Schwartz\"}, {\"credit_id\": \"5526d4e79251417165002568\", \"department\": \"Art\", \"gender\": 1, \"id\": 963843, \"job\": \"Art Direction\", \"name\": \"Priscilla Elliott\"}, {\"credit_id\": \"553fd52bc3a3683c74000066\", \"department\": \"Visual Effects\", \"gender\": 2, \"id\": 1119658, \"job\": \"VFX Artist\", \"name\": \"Harold Parker\"}, {\"credit_id\": \"52fe487bc3a368484e0fa929\", \"department\": \"Costume & Make-Up\", \"gender\": 1, \"id\": 1193620, \"job\": \"Costume Design\", \"name\": \"Erin Benach\"}, {\"credit_id\": \"5723e6d1c3a3681347000f47\", \"department\": \"Costume & Make-Up\", \"gender\": 0, \"id\": 1304298, \"job\": \"Makeup Artist\", \"name\": \"Melanie Deforrest\"}]                                                                                                                                                                                                                                                                                                                                                                                                                                                                                                                                                                                                                                                                                                                                                                                                                                                                                                                                                                                                                                                                                                                                                                                                                                                                                                                                                                                                                                                                                                                                                                                                                                                                                                                                                                                                                                                                                                                                                                                                                                                                                                                                                                                                                                                                                                                                                                                                                                                                                                                                                                                                                                                                                                                                                                                                                                                                                                                                                                                                                                                                                                                                                                                                                                                                                                                                                                                                                                                                                                                                                                                                                                                                                                                                                                                                                                                                                                                                                                                                                                                                                                                                                                                                                                                                                                                                                                                                                                                                                                                                                                                                                                                                                                                                                                                                                                                                                                                                                                                                                                                                                                                                                                                                                                                                                                                                                                                                                                                                                                                                                                                                                                                                                                                                                                                                                                                                                                                                                                                                                                                                                                                                                                                                                                                                                                                                                                                                                                                                                                                                                                                                                                                                                                                                                                                                                                                                                                                                                                                                                                                                                                                                                                                                                                                                                                                                                                                                                                                                                                                                                                                                                                                                                                                                                                                                                                                                                                                                                                                                                                                                                                                                                                                                                                                                                                                                                                                                                                                                                                                                                                                                                                                                                                                                                                                                                                                                                                                                                                                                                                                                                                                                                                                                                                                                                                                                                                                                                                                                                                                                                                                                                                                                                                                                                                                                                                                                                                                                                                                                                                                                                                                                                                                                                                                                                                                                                                                                                                                                                                                                                                                                                                                                                                                                                                                                                                                                                                                                                                                                                                                                                                                                                                                                                                                                                                                                                                                                                                                                                                                                                                                                                                                                                                                                                                                                                                                                                                                                                                                                                                                                                                                                                                                                                                                                                                                                                                                                                                                                                                                                                                                                                                                                                                                                                                                                                                                                                                                                                                                                                                                                                                                                                                                                                                                                                                                                                                                                                                                                                                                                                                                                                                                                                                                                                                                                                                                                                                                                                                                                                                                                                                                                                                                                                                          2\n",
      "[{\"credit_id\": \"52fe47099251416c9106826f\", \"department\": \"Directing\", \"gender\": 2, \"id\": 2778, \"job\": \"Director\", \"name\": \"Dennis Hopper\"}, {\"credit_id\": \"5691ef9192514115c2000c5e\", \"department\": \"Writing\", \"gender\": 2, \"id\": 2778, \"job\": \"Writer\", \"name\": \"Dennis Hopper\"}, {\"credit_id\": \"5691efc8c3a3684cff000d66\", \"department\": \"Production\", \"gender\": 2, \"id\": 8955, \"job\": \"Executive Producer\", \"name\": \"Paul Lewis\"}, {\"credit_id\": \"5691f02992514115ce000de8\", \"department\": \"Art\", \"gender\": 2, \"id\": 9823, \"job\": \"Set Decoration\", \"name\": \"Peter Young\"}, {\"credit_id\": \"5691f03292514115c8000dbc\", \"department\": \"Costume & Make-Up\", \"gender\": 0, \"id\": 16550, \"job\": \"Hairstylist\", \"name\": \"Salli Bailey\"}, {\"credit_id\": \"5691f04c92514115ce000def\", \"department\": \"Costume & Make-Up\", \"gender\": 0, \"id\": 16550, \"job\": \"Makeup Artist\", \"name\": \"Salli Bailey\"}, {\"credit_id\": \"5691f00bc3a3684d04000db4\", \"department\": \"Art\", \"gender\": 0, \"id\": 32772, \"job\": \"Production Design\", \"name\": \"Leon Ericksen\"}, {\"credit_id\": \"5691f056c3a3684cf6000d57\", \"department\": \"Directing\", \"gender\": 2, \"id\": 1121654, \"job\": \"Assistant Director\", \"name\": \"Jacques Hubert\"}, {\"credit_id\": \"5691efefc3a3684d04000da9\", \"department\": \"Camera\", \"gender\": 0, \"id\": 1377622, \"job\": \"Director of Photography\", \"name\": \"Marc Champion\"}, {\"credit_id\": \"5691efe3c3a3684cf6000d46\", \"department\": \"Sound\", \"gender\": 0, \"id\": 1379159, \"job\": \"Original Music Composer\", \"name\": \"Tom Lavin\"}, {\"credit_id\": \"5691efb692514115c8000da1\", \"department\": \"Production\", \"gender\": 0, \"id\": 1394644, \"job\": \"Producer\", \"name\": \"Jean Gontier\"}, {\"credit_id\": \"5691f000c3a3684cff000d75\", \"department\": \"Production\", \"gender\": 1, \"id\": 1397151, \"job\": \"Casting\", \"name\": \"Lindsay Walker\"}, {\"credit_id\": \"5691ef80c3a3684d08000d86\", \"department\": \"Writing\", \"gender\": 0, \"id\": 1561092, \"job\": \"Writer\", \"name\": \"Leonard Yakir\"}, {\"credit_id\": \"5691efd992514115ce000ddc\", \"department\": \"Production\", \"gender\": 0, \"id\": 1561092, \"job\": \"Producer\", \"name\": \"Leonard Yakir\"}, {\"credit_id\": \"5691ef89c3a3684d0b000c21\", \"department\": \"Writing\", \"gender\": 0, \"id\": 1561093, \"job\": \"Writer\", \"name\": \"Brenda Nielson\"}, {\"credit_id\": \"5691efa6c3a3684cff000d5e\", \"department\": \"Writing\", \"gender\": 0, \"id\": 1561094, \"job\": \"Writer\", \"name\": \"Gary Jules Jouvenat\"}, {\"credit_id\": \"5691efbe92514115bf000cef\", \"department\": \"Production\", \"gender\": 0, \"id\": 1561094, \"job\": \"Producer\", \"name\": \"Gary Jules Jouvenat\"}, {\"credit_id\": \"5691efd192514115bf000cf4\", \"department\": \"Production\", \"gender\": 0, \"id\": 1561095, \"job\": \"Associate Producer\", \"name\": \"Aaron Sadovnick\"}, {\"credit_id\": \"5691eff7c3a3684cff000d70\", \"department\": \"Editing\", \"gender\": 0, \"id\": 1561096, \"job\": \"Editor\", \"name\": \"Doris Dyck\"}, {\"credit_id\": \"5691f013c3a3684d04000db8\", \"department\": \"Art\", \"gender\": 0, \"id\": 1561097, \"job\": \"Art Direction\", \"name\": \"David Hiscox\"}]                                                                                                                                                                                                                                                                                                                                                                                                                                                                                                                                                                                                                                                                                                                                                                                                                                                                                                                                                                                                                                                                                                                                                                                                                                                                                                                                                                                                                                                                                                                                                                                                                                                                                                                                                                                                                                                                                                                                                                                                                                                                                                                                                                                                                                                                                                                                                                                                                                                                                                                                                                                                                                                                                                                                                                                                                                                                                                                                                                                                                                                                                                                                                                                                                                                                                                                                                                                                                                                                                                                                                                                                                                                                                                                                                                                                                                                                                                                                                                                                                                                                                                                                                                                                                                                                                                                                                                                                                                                                                                                                                                                                                                                                                                                                                                                                                                                                                                                                                                                                                                                                                                                                                                                                                                                                                                                                                                                                                                                                                                                                                                                                                                                                                                                                                                                                                                                                                                                                                                                                                                                                                                                                                                                                                                                                                                                                                                                                                                                                                                                                                                                                                                                                                                                                                                                                                                                                                                                                                                                                                                                                                                                                                                                                                                                                                                                                                                                                                                                                                                                                                                                                                                                                                                                                                                                                                                                                                                                                                                                                                                                                                                                                                                                                                                                                                                                                                                                                                                                                                                                                                                                                                                                                                                                                                                                                                                                                                                                                                                                                                                                                                                                                                                                                                                                                                                                                                                                                                                                                                                                                                                                                                                                                                                                                                                                                                                                                                                                                                                                                                                                                                                                                                                                                                                                                                                                                                                                                                                                                                                                                                                                                                                                                                                                                                                                                                                                                                                                                                                                                                                                                                                                                                                                                                                                                                                                                                                                                                                                                                                                                                                                                                                                                                                                                                                                                                                                                                                                                                                                                                                                                                                                                                                                                                                                                                                                                                                                                                                                                                                                                                                                                                                                                                                                                                                                                                                                                                                                                                                                                                                                                                                                                                                                                                                                                                                                                                                                                                                                                                                                                                                                                                                                                                                                                                                                                                                                                                                                                                                                                                                                                                                                     2\n",
      "[{\"credit_id\": \"52fe422fc3a36847f800aa4b\", \"department\": \"Editing\", \"gender\": 2, \"id\": 244, \"job\": \"Editor\", \"name\": \"Ray Lovejoy\"}, {\"credit_id\": \"52fe422fc3a36847f800aa3f\", \"department\": \"Camera\", \"gender\": 2, \"id\": 293, \"job\": \"Director of Photography\", \"name\": \"Roger Pratt\"}, {\"credit_id\": \"52fe422fc3a36847f800a9f1\", \"department\": \"Directing\", \"gender\": 2, \"id\": 510, \"job\": \"Director\", \"name\": \"Tim Burton\"}, {\"credit_id\": \"52fe422fc3a36847f800aa45\", \"department\": \"Sound\", \"gender\": 2, \"id\": 531, \"job\": \"Original Music Composer\", \"name\": \"Danny Elfman\"}, {\"credit_id\": \"52fe422fc3a36847f800a9fd\", \"department\": \"Writing\", \"gender\": 0, \"id\": 913, \"job\": \"Screenplay\", \"name\": \"Warren Skaaren\"}, {\"credit_id\": \"52fe422fc3a36847f800a9f7\", \"department\": \"Writing\", \"gender\": 2, \"id\": 3794, \"job\": \"Characters\", \"name\": \"Bob Kane\"}, {\"credit_id\": \"52fe422fc3a36847f800aa33\", \"department\": \"Production\", \"gender\": 2, \"id\": 3804, \"job\": \"Producer\", \"name\": \"Peter Guber\"}, {\"credit_id\": \"52fe422fc3a36847f800aa39\", \"department\": \"Production\", \"gender\": 2, \"id\": 3805, \"job\": \"Producer\", \"name\": \"Jon Peters\"}, {\"credit_id\": \"52fe422fc3a36847f800aa51\", \"department\": \"Production\", \"gender\": 1, \"id\": 3806, \"job\": \"Casting\", \"name\": \"Marion Dougherty\"}, {\"credit_id\": \"52fe4230c3a36847f800aa57\", \"department\": \"Art\", \"gender\": 2, \"id\": 3807, \"job\": \"Production Design\", \"name\": \"Anton Furst\"}, {\"credit_id\": \"52fe4230c3a36847f800aa5d\", \"department\": \"Writing\", \"gender\": 2, \"id\": 3795, \"job\": \"Screenplay\", \"name\": \"Sam Hamm\"}, {\"credit_id\": \"570ede8992514102af000bff\", \"department\": \"Production\", \"gender\": 2, \"id\": 10949, \"job\": \"Executive Producer\", \"name\": \"Michael Uslan\"}]                                                                                                                                                                                                                                                                                                                                                                                                                                                                                                                                                                                                                                                                                                                                                                                                                                                                                                                                                                                                                                                                                                                                                                                                                                                                                                                                                                                                                                                                                                                                                                                                                                                                                                                                                                                                                                                                                                                                                                                                                                                                                                                                                                                                                                                                                                                                                                                                                                                                                                                                                                                                                                                                                                                                                                                                                                                                                                                                                                                                                                                                                                                                                                                                                                                                                                                                                                                                                                                                                                                                                                                                                                                                                                                                                                                                                                                                                                                                                                                                                                                                                                                                                                                                                                                                                                                                                                                                                                                                                                                                                                                                                                                                                                                                                                                                                                                                                                                                                                                                                                                                                                                                                                                                                                                                                                                                                                                                                                                                                                                                                                                                                                                                                                                                                                                                                                                                                                                                                                                                                                                                                                                                                                                                                                                                                                                                                                                                                                                                                                                                                                                                                                                                                                                                                                                                                                                                                                                                                                                                                                                                                                                                                                                                                                                                                                                                                                                                                                                                                                                                                                                                                                                                                                                                                                                                                                                                                                                                                                                                                                                                                                                                                                                                                                                                                                                                                                                                                                                                                                                                                                                                                                                                                                                                                                                                                                                                                                                                                                                                                                                                                                                                                                                                                                                                                                                                                                                                                                                                                                                                                                                                                                                                                                                                                                                                                                                                                                                                                                                                                                                                                                                                                                                                                                                                                                                                                                                                                                                                                                                                                                                                                                                                                                                                                                                                                                                                                                                                                                                                                                                                                                                                                                                                                                                                                                                                                                                                                                                                                                                                                                                                                                                                                                                                                                                                                                                                                                                                                                                                                                                                                                                                                                                                                                                                                                                                                                                                                                                                                                                                                                                                                                                                                                                                                                                                                                                                                                                                                                                                                                                                                                                                                                                                                                                                                                                                                                                                                                                                                                                                                                                                                                                                                                                                                                                                                                                                                                                                                                                                                                                                                                                                                                                                                                                                                                                                                                                                                                                                                                                                                                                                                                                                                                                                                                                                                                                                                                                                                                                                                                                                                                                                                                                                                                                                                                                                                                              2\n",
      "                                                                                                                                                                                                                                                                                                                                                                                                                                                                                                                                                                                                                                                                                                                                                                                                                                                                                                                                                                                                                                                                                                                                                                                                                                                                                                                                                                                                                                                                                                                                                                                                                                                                                                                                                                                                                                                                                                                                                                                                                                                                                                                                                                                                                                                                                                                                                                                                                                                                                                                                                                                                                                                                                                                                                                                                                                                                                                                                                                                                                                                                                                                                                                                                                                                                                                                                                                                                                                                                                                                                                                                                                                                                                                                                                                                                                                                                                                                                                                                                                                                                                                                                                                                                                                                                                                                                                                                                                                                                                                                                                                                                                                                                                                                                                                                                                                                                                                                                                                                                                                                                                                                                                                                                                                                                                                                                                                                                                                                                                                                                                                                                                                                                                                                                                                                                                                                                                                                                                                                                                                                                                                                                                                                                                                                                                                                                                                                                                                                                                                                                                                                                                                                                                                                                                                                                                                                                                                                                                                                                                                                                                                                                                                                                                                                                                                                                                                                                                                                                                                                                                                                                                                                                                                                                                                                                                                                                                                                                                                                                                                                                                                                                                                                                                                                                                                                                                                                                                                                                                                                                                                                                                                                                                                                                                                                                                                                                                                                                                                                                                                                                                                                                                                                                                                                                                                                                                                                                                                                                                                                                                                                                                                                                                                                                                                                                                                                                                                                                                                                                                                                                                                                                                                                                                                                                                                                                                                                                                                                                                                                                                                                                                                                                                                                                                                                                                                                                                                                                                                                                                                                                                                                                                                                                                                                                                                                                                                                                                                                                                                                                                                                                                                                                                                                                                                                                                                                                                                                                                                                                                                                                                                                                                                                                                                                                                                                                                                                                                                                                                                                                                                                                                                                                                                                                                                                                                                                                                                                                                                                                                                                                                                                                                                                                                                                                                                                                                                                                                                                                                                                                                                                                                                                                                                                                                                                                                                                                                                                                                                                                                                                                                                                                                                                                                                                                                                                                                                                                                                                                                                                                                                                                                                                                                                                                                                                                                                                                                                                                                                                                                                                                                                                                                                                                                                                                                                                                                                                                                                                                                                                                                                                                                                                                                                                                                                                                                                                                                                                                                                                                                                                                                                                                                                                                                                                                                                                                                                                                                                                                                                                                                                                                                                                                                                                                                                                                                                                                                                                                                                                                                                                                                                                           ..\n",
      "[{\"credit_id\": \"52fe446c9251416c75034365\", \"department\": \"Sound\", \"gender\": 2, \"id\": 5359, \"job\": \"Original Music Composer\", \"name\": \"Mychael Danna\"}, {\"credit_id\": \"52fe446c9251416c7503436b\", \"department\": \"Camera\", \"gender\": 2, \"id\": 6117, \"job\": \"Director of Photography\", \"name\": \"Declan Quinn\"}, {\"credit_id\": \"52fe446c9251416c75034347\", \"department\": \"Production\", \"gender\": 1, \"id\": 6371, \"job\": \"Executive Producer\", \"name\": \"Pippa Cross\"}, {\"credit_id\": \"52fe446c9251416c75034323\", \"department\": \"Directing\", \"gender\": 1, \"id\": 6495, \"job\": \"Director\", \"name\": \"Mira Nair\"}, {\"credit_id\": \"52fe446c9251416c75034371\", \"department\": \"Editing\", \"gender\": 0, \"id\": 6504, \"job\": \"Editor\", \"name\": \"Allyson C. Johnson\"}, {\"credit_id\": \"52fe446c9251416c75034335\", \"department\": \"Writing\", \"gender\": 2, \"id\": 10747, \"job\": \"Screenplay\", \"name\": \"Julian Fellowes\"}, {\"credit_id\": \"52fe446c9251416c75034359\", \"department\": \"Production\", \"gender\": 1, \"id\": 20063, \"job\": \"Producer\", \"name\": \"Donna Gigliotti\"}, {\"credit_id\": \"52fe446c9251416c7503434d\", \"department\": \"Production\", \"gender\": 0, \"id\": 20774, \"job\": \"Producer\", \"name\": \"Janette Day\"}, {\"credit_id\": \"52fe446c9251416c7503435f\", \"department\": \"Production\", \"gender\": 2, \"id\": 21217, \"job\": \"Executive Producer\", \"name\": \"Jonathan Lynn\"}, {\"credit_id\": \"52fe446c9251416c7503433b\", \"department\": \"Writing\", \"gender\": 2, \"id\": 31061, \"job\": \"Novel\", \"name\": \"William Makepeace Thackeray\"}, {\"credit_id\": \"52fe446c9251416c75034353\", \"department\": \"Production\", \"gender\": 1, \"id\": 38804, \"job\": \"Producer\", \"name\": \"Lydia Dean Pilcher\"}, {\"credit_id\": \"52fe446c9251416c75034329\", \"department\": \"Writing\", \"gender\": 2, \"id\": 70086, \"job\": \"Screenplay\", \"name\": \"Matthew Faulk\"}, {\"credit_id\": \"52fe446c9251416c7503432f\", \"department\": \"Writing\", \"gender\": 2, \"id\": 70087, \"job\": \"Screenplay\", \"name\": \"Mark Skeet\"}, {\"credit_id\": \"52fe446c9251416c75034341\", \"department\": \"Production\", \"gender\": 2, \"id\": 70088, \"job\": \"Executive Producer\", \"name\": \"Howard Cohen\"}]                                                                                                                                                                                                                                                                                                                                                                                                                                                                                                                                                                                                                                                                                                                                                                                                                                                                                                                                                                                                                                                                                                                                                                                                                                                                                                                                                                                                                                                                                                                                                                                                                                                                                                                                                                                                                                                                                                                                                                                                                                                                                                                                                                                                                                                                                                                                                                                                                                                                                                                                                                                                                                                                                                                                                                                                                                                                                                                                                                                                                                                                                                                                                                                                                                                                                                                                                                                                                                                                                                                                                                                                                                                                                                                                                                                                                                                                                                                                                                                                                                                                                                                                                                                                                                                                                                                                                                                                                                                                                                                                                                                                                                                                                                                                                                                                                                                                                                                                                                                                                                                                                                                                                                                                                                                                                                                                                                                                                                                                                                                                                                                                                                                                                                                                                                                                                                                                                                                                                                                                                                                                                                                                                                                                                                                                                                                                                                                                                                                                                                                                                                                                                                                                                                                                                                                                                                                                                                                                                                                                                                                                                                                                                                                                                                                                                                                                                                                                                                                                                                                                                                                                                                                                                                                                                                                                                                                                                                                                                                                                                                                                                                                                                                                                                                                                                                                                                                                                                                                                                                                                                                                                                                                                                                                                                                                                                                                                                                                                                                                                                                                                                                                                                                                                                                                                                                                                                                                                                                                                                                                                                                                                                                                                                                                                                                                                                                                                                                                                                                                                                                                                                                                                                                                                                                                                                                                                                                                                                                                                                                                                                                                                                                                                                                                                                                                                                                                                                                                                                                                                                                                                                                                                                                                                                                                                                                                                                                                                                                                                                                                                                                                                                                                                                                                                                                                                                                                                                                                                                                                                                                                                                                                                                                                                                                                                                                                                                                                                                                                                                                                                                                                                                                                                                                                                                                                                                                                                                                                                                                                                                                                                                                                                                                                                                                                                                                                                                                                                                                                                                                                                                                                                                                                                                                                                                                                                                                                                                                                                                                                                                                                                                                                                                                                                                                                                                                                                                                                                                                                                                                                                                                                                                                                                                                                                                                                                                                                                                                                                                                                                                        1\n",
      "[{\"credit_id\": \"58d034b8c3a3683efe002318\", \"department\": \"Crew\", \"gender\": 2, \"id\": 1705, \"job\": \"Creative Consultant\", \"name\": \"Ted Elliott\"}, {\"credit_id\": \"58d0322892514151bd002339\", \"department\": \"Crew\", \"gender\": 2, \"id\": 947, \"job\": \"Executive Music Producer\", \"name\": \"Hans Zimmer\"}, {\"credit_id\": \"5727e58f9251414d73000815\", \"department\": \"Crew\", \"gender\": 2, \"id\": 493, \"job\": \"Thanks\", \"name\": \"Michael Kahn\"}, {\"credit_id\": \"58d0340dc3a3683f130028b2\", \"department\": \"Sound\", \"gender\": 0, \"id\": 671, \"job\": \"Supervising Sound Editor\", \"name\": \"Richard L. Anderson\"}, {\"credit_id\": \"52fe44c7c3a36847f80a9ac9\", \"department\": \"Writing\", \"gender\": 0, \"id\": 3288, \"job\": \"Screenplay\", \"name\": \"Chris Weitz\"}, {\"credit_id\": \"52fe44c7c3a36847f80a9acf\", \"department\": \"Writing\", \"gender\": 2, \"id\": 3289, \"job\": \"Screenplay\", \"name\": \"Paul Weitz\"}, {\"credit_id\": \"5642807fc3a3686a62000dc7\", \"department\": \"Sound\", \"gender\": 2, \"id\": 5132, \"job\": \"Music Editor\", \"name\": \"Bob Badami\"}, {\"credit_id\": \"52fe44c8c3a36847f80a9ae7\", \"department\": \"Sound\", \"gender\": 2, \"id\": 5553, \"job\": \"Original Music Composer\", \"name\": \"Harry Gregson-Williams\"}, {\"credit_id\": \"52fe44c8c3a36847f80a9aed\", \"department\": \"Sound\", \"gender\": 2, \"id\": 11098, \"job\": \"Original Music Composer\", \"name\": \"John Powell\"}, {\"credit_id\": \"52fe44c7c3a36847f80a9adb\", \"department\": \"Production\", \"gender\": 0, \"id\": 12106, \"job\": \"Producer\", \"name\": \"Aron Warner\"}, {\"credit_id\": \"5574684dc3a36824d8001ca0\", \"department\": \"Production\", \"gender\": 1, \"id\": 12065, \"job\": \"Executive Producer\", \"name\": \"Penney Finkelman Cox\"}, {\"credit_id\": \"55746858c3a36824d8001ca3\", \"department\": \"Production\", \"gender\": 1, \"id\": 12066, \"job\": \"Executive Producer\", \"name\": \"Sandra Rabins\"}, {\"credit_id\": \"5727e4d0c3a3685bd9003d2b\", \"department\": \"Production\", \"gender\": 0, \"id\": 12067, \"job\": \"Production Manager\", \"name\": \"Jane Hartwell\"}, {\"credit_id\": \"5574687bc3a368234c001b3a\", \"department\": \"Production\", \"gender\": 0, \"id\": 12090, \"job\": \"Casting\", \"name\": \"Leslee Feldman\"}, {\"credit_id\": \"5727e5ae9251414dcc0007a2\", \"department\": \"Crew\", \"gender\": 2, \"id\": 12087, \"job\": \"Thanks\", \"name\": \"David Lipman\"}, {\"credit_id\": \"52fe44c7c3a36847f80a9ab7\", \"department\": \"Directing\", \"gender\": 2, \"id\": 18863, \"job\": \"Director\", \"name\": \"Eric Darnell\"}, {\"credit_id\": \"58d0320792514151bd002317\", \"department\": \"Crew\", \"gender\": 2, \"id\": 20739, \"job\": \"Choreographer\", \"name\": \"Adam Shankman\"}, {\"credit_id\": \"52fe44c7c3a36847f80a9ad5\", \"department\": \"Production\", \"gender\": 2, \"id\": 32532, \"job\": \"Producer\", \"name\": \"Brad Lewis\"}, {\"credit_id\": \"52fe44c7c3a36847f80a9abd\", \"department\": \"Directing\", \"gender\": 2, \"id\": 52870, \"job\": \"Director\", \"name\": \"Tim Johnson\"}, {\"credit_id\": \"52fe44c7c3a36847f80a9ac3\", \"department\": \"Writing\", \"gender\": 2, \"id\": 56268, \"job\": \"Screenplay\", \"name\": \"Todd Alcott\"}, {\"credit_id\": \"52fe44c7c3a36847f80a9ae1\", \"department\": \"Production\", \"gender\": 0, \"id\": 56269, \"job\": \"Producer\", \"name\": \"Patty Wooton\"}, {\"credit_id\": \"52fe44c8c3a36847f80a9af3\", \"department\": \"Editing\", \"gender\": 0, \"id\": 56270, \"job\": \"Editor\", \"name\": \"Stan Webb\"}, {\"credit_id\": \"58d031ac925141519500250f\", \"department\": \"Art\", \"gender\": 0, \"id\": 64444, \"job\": \"Production Illustrator\", \"name\": \"Shannon Jeffries\"}, {\"credit_id\": \"58d033c8c3a3683ee3002642\", \"department\": \"Sound\", \"gender\": 0, \"id\": 143915, \"job\": \"Sound Editor\", \"name\": \"Julia Evershade\"}, {\"credit_id\": \"5727e48c92514103870033c2\", \"department\": \"Production\", \"gender\": 1, \"id\": 574003, \"job\": \"Production Supervisor\", \"name\": \"Denise Nolan Cascino\"}, {\"credit_id\": \"58d03299c3a3683f3a002263\", \"department\": \"Crew\", \"gender\": 0, \"id\": 933498, \"job\": \"Systems Administrators & Support\", \"name\": \"Michael Cutler\"}, {\"credit_id\": \"5727e65e92514158a10006e4\", \"department\": \"Crew\", \"gender\": 0, \"id\": 935634, \"job\": \"Thanks\", \"name\": \"Nina Jacobson\"}, {\"credit_id\": \"557468639251413fd2001891\", \"department\": \"Production\", \"gender\": 2, \"id\": 986011, \"job\": \"Executive Producer\", \"name\": \"Carl Rosendahl\"}, {\"credit_id\": \"5727e81cc3a3687a00000811\", \"department\": \"Visual Effects\", \"gender\": 0, \"id\": 1049272, \"job\": \"Animation\", \"name\": \"Adam Valdez\"}, {\"credit_id\": \"5727e545c3a3684b58000a3a\", \"department\": \"Production\", \"gender\": 0, \"id\": 1096416, \"job\": \"Casting\", \"name\": \"Sandy Holt\"}, {\"credit_id\": \"564280f3c3a3686a5f000d28\", \"department\": \"Sound\", \"gender\": 0, \"id\": 1264811, \"job\": \"Music Editor\", \"name\": \"Jennifer Nash\"}, {\"credit_id\": \"5727e5c7c3a3683188000271\", \"department\": \"Crew\", \"gender\": 0, \"id\": 1264811, \"job\": \"Thanks\", \"name\": \"Jennifer Nash\"}, {\"credit_id\": \"5727e4ac9251414df3000872\", \"department\": \"Crew\", \"gender\": 1, \"id\": 1339432, \"job\": \"Post Production Supervisor\", \"name\": \"Erica Frauman\"}, {\"credit_id\": \"58d033eac3a3683eef0023e4\", \"department\": \"Sound\", \"gender\": 0, \"id\": 1341781, \"job\": \"Sound Mixer\", \"name\": \"Gregg Landaker\"}, {\"credit_id\": \"56428130c3a3686a55000f82\", \"department\": \"Sound\", \"gender\": 2, \"id\": 1352979, \"job\": \"Music Editor\", \"name\": \"Adam Milo Smalley\"}, {\"credit_id\": \"5536c294c3a36815ac003421\", \"department\": \"Visual Effects\", \"gender\": 0, \"id\": 1353148, \"job\": \"Animation\", \"name\": \"Justin Kohn\"}, {\"credit_id\": \"5727e560c3a368587100464a\", \"department\": \"Production\", \"gender\": 1, \"id\": 1377373, \"job\": \"Casting\", \"name\": \"Christi Soper\"}, {\"credit_id\": \"58d033a4c3a3683f2b0024a0\", \"department\": \"Sound\", \"gender\": 0, \"id\": 1398947, \"job\": \"Foley\", \"name\": \"Linda Lew\"}, {\"credit_id\": \"58d032ed9251415195002659\", \"department\": \"Editing\", \"gender\": 2, \"id\": 1400536, \"job\": \"First Assistant Editor\", \"name\": \"Devon Miller\"}, {\"credit_id\": \"564281169251412fd1000e79\", \"department\": \"Sound\", \"gender\": 2, \"id\": 1404546, \"job\": \"Music Editor\", \"name\": \"Brian Richards\"}, {\"credit_id\": \"5727e643c3a3682dee00190a\", \"department\": \"Crew\", \"gender\": 0, \"id\": 1404749, \"job\": \"Thanks\", \"name\": \"Brad Reinke\"}, {\"credit_id\": \"58d03265c3a3683f3a00222a\", \"department\": \"Sound\", \"gender\": 2, \"id\": 1410568, \"job\": \"Sound Recordist\", \"name\": \"Frank Fleming\"}, {\"credit_id\": \"58d03473c3a3683ee30026e9\", \"department\": \"Visual Effects\", \"gender\": 0, \"id\": 1416298, \"job\": \"Visual Effects Supervisor\", \"name\": \"Ken Bielenberg\"}, {\"credit_id\": \"58d0349cc3a3683f2b00259f\", \"department\": \"Crew\", \"gender\": 0, \"id\": 1440822, \"job\": \"Special Sound Effects\", \"name\": \"John Pospisil\"}, {\"credit_id\": \"5525825292514171cb0091d0\", \"department\": \"Writing\", \"gender\": 0, \"id\": 1450347, \"job\": \"Storyboard\", \"name\": \"Mike Cachuela\"}, {\"credit_id\": \"5727e83ec3a3684b58000a90\", \"department\": \"Art\", \"gender\": 0, \"id\": 1454757, \"job\": \"Sculptor\", \"name\": \"Damon Bard\"}, {\"credit_id\": \"58d034e092514151da0027c0\", \"department\": \"Sound\", \"gender\": 2, \"id\": 1531504, \"job\": \"Sound\", \"name\": \"Mark Jan Wlodarkiewicz\"}, {\"credit_id\": \"5727e694925141544300468d\", \"department\": \"Editing\", \"gender\": 0, \"id\": 1552873, \"job\": \"Color Timer\", \"name\": \"Terry Claborn\"}, {\"credit_id\": \"58d031e6c3a3683eb300266b\", \"department\": \"Crew\", \"gender\": 0, \"id\": 1586922, \"job\": \"Additional Music\", \"name\": \"Gavin Greenaway\"}, {\"credit_id\": \"5727e42ec3a3684b58000a19\", \"department\": \"Art\", \"gender\": 0, \"id\": 1595460, \"job\": \"Production Design\", \"name\": \"John Bell\"}, {\"credit_id\": \"58d0324ec3a3683f3a002214\", \"department\": \"Crew\", \"gender\": 0, \"id\": 1677816, \"job\": \"Production Controller\", \"name\": \"Gary L. Wohlleben\"}, {\"credit_id\": \"58d032dac3a3683efe00214c\", \"department\": \"Editing\", \"gender\": 0, \"id\": 1678655, \"job\": \"Editorial Coordinator\", \"name\": \"Carol Norton\"}, {\"credit_id\": \"58d03281c3a3683eef002282\", \"department\": \"Crew\", \"gender\": 0, \"id\": 1748683, \"job\": \"Supervising Animator\", \"name\": \"Rex Grignon\"}, {\"credit_id\": \"58d024dbc3a3683f2b001622\", \"department\": \"Art\", \"gender\": 0, \"id\": 1780681, \"job\": \"Art Direction\", \"name\": \"Kendal Cronkhite\"}, {\"credit_id\": \"58d031d3c3a3683eb300264e\", \"department\": \"Art\", \"gender\": 0, \"id\": 1780705, \"job\": \"Set Designer\", \"name\": \"Don Weinger\"}, {\"credit_id\": \"58d032b3925141519100263b\", \"department\": \"Directing\", \"gender\": 0, \"id\": 1780706, \"job\": \"Layout\", \"name\": \"James Buckhouse\"}, {\"credit_id\": \"58d03305925141518d0027df\", \"department\": \"Lighting\", \"gender\": 0, \"id\": 1780707, \"job\": \"Lighting Artist\", \"name\": \"Annmarie Koenig\"}, {\"credit_id\": \"58d03355c3a3683f2b002447\", \"department\": \"Lighting\", \"gender\": 0, \"id\": 1780708, \"job\": \"Lighting Supervisor\", \"name\": \"Craig Ring\"}, {\"credit_id\": \"58d03371925141518900268e\", \"department\": \"Production\", \"gender\": 0, \"id\": 1780709, \"job\": \"Production Coordinator\", \"name\": \"Jennifer Dahlman\"}, {\"credit_id\": \"58d0338392514151950026fa\", \"department\": \"Production\", \"gender\": 0, \"id\": 1780710, \"job\": \"Researcher\", \"name\": \"Rahul Chandrakant Thakkar\"}, {\"credit_id\": \"58d03395c3a3683f3a002358\", \"department\": \"Sound\", \"gender\": 0, \"id\": 1780711, \"job\": \"Assistant Sound Editor\", \"name\": \"Sonny Pettijohn\"}, {\"credit_id\": \"58d033b9c3a3683eb30028a3\", \"department\": \"Sound\", \"gender\": 0, \"id\": 1780712, \"job\": \"Orchestrator\", \"name\": \"Marcy Dicterow-Vaj\"}, {\"credit_id\": \"58d0342cc3a3683f130028d7\", \"department\": \"Visual Effects\", \"gender\": 0, \"id\": 1780713, \"job\": \"3D Modeller\", \"name\": \"Stephen Sobisky\"}, {\"credit_id\": \"58d0344d9251415189002777\", \"department\": \"Visual Effects\", \"gender\": 0, \"id\": 1780714, \"job\": \"Visual Effects\", \"name\": \"Nick Foster\"}, {\"credit_id\": \"58d03464925141518d002960\", \"department\": \"Visual Effects\", \"gender\": 0, \"id\": 1780715, \"job\": \"Visual Effects Coordinator\", \"name\": \"Jennifer Freeman\"}, {\"credit_id\": \"58d0350fc3a3683eb3002a12\", \"department\": \"Crew\", \"gender\": 0, \"id\": 1780716, \"job\": \"Supervising Technical Director\", \"name\": \"George Bruder\"}]                                                                                                                                                                                                                                                                                                                                                                                                                                                                                                                                                                                                                                                                                                                                                                                                                                                                                                                                                                                                                                                                                                                                                                                                                                                                                                                                                                                                                                                                                                                                                                                                                                                                                                                                                                                                                                                                                                                                                                                                                                                                                                                                                                                                                                                                                                                                                                                                                                                                                                                                                                                                                                                                                                                                                                                                                                                                                                                                                                                                                                                                                                                                                                                                                                                                                                                                                                                                                                                                                                                                                                                                                                                                                                                                                                                                                                                                                                                                                                                                                                                                                                                                                                                                                                                                                                                                                                                                                                                                                                                                                                                                                                                                                                                                                                                                                                                                                                                                                                                                                                                                                                                                                                                                                                                                                                                                                                                                                                                                                                                                                                                                                                                                                                                                                                                                                                                                                                                                                                                                                                                                                                                                                                                                                                                                                                                                                                                                                                                                                                                                                                                                                                                                                                                                                                                                                                                                                                                                                                                                                                                                                                       1\n",
      "[{\"credit_id\": \"5578b667c3a3682a7500041a\", \"department\": \"Editing\", \"gender\": 2, \"id\": 898, \"job\": \"Editor\", \"name\": \"Mark Goldblatt\"}, {\"credit_id\": \"59160cbd925141580d022bdf\", \"department\": \"Sound\", \"gender\": 0, \"id\": 900, \"job\": \"Sound Designer\", \"name\": \"Christopher Boyes\"}, {\"credit_id\": \"59160c4e92514159c1021f30\", \"department\": \"Sound\", \"gender\": 2, \"id\": 1305, \"job\": \"Music Editor\", \"name\": \"Bill Abbott\"}, {\"credit_id\": \"5578b67f925141376b000446\", \"department\": \"Editing\", \"gender\": 2, \"id\": 2484, \"job\": \"Editor\", \"name\": \"Steven Rosenblum\"}, {\"credit_id\": \"5915f415c3a3683a93020470\", \"department\": \"Costume & Make-Up\", \"gender\": 1, \"id\": 2519, \"job\": \"Costume Design\", \"name\": \"Sanja Milkovic Hays\"}, {\"credit_id\": \"5578b64ec3a3682a6e000409\", \"department\": \"Sound\", \"gender\": 2, \"id\": 7229, \"job\": \"Original Music Composer\", \"name\": \"Marco Beltrami\"}, {\"credit_id\": \"59160d6ec3a3683fb6020fcc\", \"department\": \"Visual Effects\", \"gender\": 2, \"id\": 10631, \"job\": \"Special Effects Supervisor\", \"name\": \"John Frazier\"}, {\"credit_id\": \"5578b68a92514137680003f6\", \"department\": \"Production\", \"gender\": 1, \"id\": 6347, \"job\": \"Casting\", \"name\": \"Margery Simkin\"}, {\"credit_id\": \"5578b65cc3a3682a620004df\", \"department\": \"Camera\", \"gender\": 2, \"id\": 6800, \"job\": \"Director of Photography\", \"name\": \"David Tattersall\"}, {\"credit_id\": \"52fe44779251416c75035c9b\", \"department\": \"Directing\", \"gender\": 2, \"id\": 7256, \"job\": \"Director\", \"name\": \"Lee Tamahori\"}, {\"credit_id\": \"5915f3a0c3a36840aa01ebbc\", \"department\": \"Art\", \"gender\": 0, \"id\": 7535, \"job\": \"Set Decoration\", \"name\": \"Hilton Rosemarin\"}, {\"credit_id\": \"5915f37892514105da018d47\", \"department\": \"Art\", \"gender\": 1, \"id\": 20586, \"job\": \"Art Direction\", \"name\": \"Stella Vaccaro\"}, {\"credit_id\": \"5915ffea925141580d021f3b\", \"department\": \"Sound\", \"gender\": 0, \"id\": 8168, \"job\": \"Sound Recordist\", \"name\": \"Brian Magerkurth\"}, {\"credit_id\": \"52fe44779251416c75035cbf\", \"department\": \"Production\", \"gender\": 0, \"id\": 8277, \"job\": \"Producer\", \"name\": \"Arne Schmidt\"}, {\"credit_id\": \"591600d9925141583c021c49\", \"department\": \"Production\", \"gender\": 1, \"id\": 8288, \"job\": \"Unit Production Manager\", \"name\": \"Debra James\"}, {\"credit_id\": \"52fe44779251416c75035ca1\", \"department\": \"Writing\", \"gender\": 2, \"id\": 11092, \"job\": \"Screenplay\", \"name\": \"Simon Kinberg\"}, {\"credit_id\": \"52fe44779251416c75035cad\", \"department\": \"Production\", \"gender\": 2, \"id\": 11812, \"job\": \"Executive Producer\", \"name\": \"Derek Dauchy\"}, {\"credit_id\": \"52fe44779251416c75035cb3\", \"department\": \"Production\", \"gender\": 2, \"id\": 11814, \"job\": \"Executive Producer\", \"name\": \"Todd Garner\"}, {\"credit_id\": \"52fe44779251416c75035cb9\", \"department\": \"Production\", \"gender\": 2, \"id\": 11874, \"job\": \"Producer\", \"name\": \"Neal H. Moritz\"}, {\"credit_id\": \"591601e7c3a36840aa01f78c\", \"department\": \"Editing\", \"gender\": 0, \"id\": 13223, \"job\": \"Color Timer\", \"name\": \"Jim Passon\"}, {\"credit_id\": \"59160036c3a36842d6022c5d\", \"department\": \"Crew\", \"gender\": 0, \"id\": 14771, \"job\": \"Stunt Coordinator\", \"name\": \"R.A. Rondell\"}, {\"credit_id\": \"52fe44779251416c75035ca7\", \"department\": \"Production\", \"gender\": 2, \"id\": 18878, \"job\": \"Executive Producer\", \"name\": \"Rob Cohen\"}, {\"credit_id\": \"587905e492514144ac0009af\", \"department\": \"Art\", \"gender\": 2, \"id\": 23651, \"job\": \"Production Design\", \"name\": \"Gavin Bocquet\"}, {\"credit_id\": \"5915ff8c92514156f5022afa\", \"department\": \"Crew\", \"gender\": 2, \"id\": 32277, \"job\": \"Second Unit Cinematographer\", \"name\": \"Geoff Murphy\"}, {\"credit_id\": \"5578b62b9251416ca2000276\", \"department\": \"Writing\", \"gender\": 0, \"id\": 53345, \"job\": \"Characters\", \"name\": \"Rich Wilkes\"}, {\"credit_id\": \"5578b674c3a3682a78000402\", \"department\": \"Editing\", \"gender\": 2, \"id\": 67560, \"job\": \"Editor\", \"name\": \"Todd E. Miller\"}, {\"credit_id\": \"5915f50c925141580d0215d9\", \"department\": \"Art\", \"gender\": 0, \"id\": 76054, \"job\": \"Assistant Art Director\", \"name\": \"Luke Freeborn\"}, {\"credit_id\": \"59160c6892514105da01a425\", \"department\": \"Sound\", \"gender\": 0, \"id\": 86198, \"job\": \"Music Supervisor\", \"name\": \"Darren Higman\"}, {\"credit_id\": \"5879064bc3a36808ea000038\", \"department\": \"Sound\", \"gender\": 1, \"id\": 86199, \"job\": \"Music Supervisor\", \"name\": \"Laura Ziffren\"}, {\"credit_id\": \"5915fccf925141583c021945\", \"department\": \"Costume & Make-Up\", \"gender\": 0, \"id\": 102343, \"job\": \"Makeup Artist\", \"name\": \"Allan A. Apone\"}, {\"credit_id\": \"59160051c3a36840aa01f64a\", \"department\": \"Crew\", \"gender\": 1, \"id\": 13443, \"job\": \"Stunts\", \"name\": \"Laura Albert\"}, {\"credit_id\": \"59160c33c3a368371b013912\", \"department\": \"Sound\", \"gender\": 0, \"id\": 548435, \"job\": \"Foley Editor\", \"name\": \"Nerses Gezalyan\"}, {\"credit_id\": \"59160d0c925141061e01b06c\", \"department\": \"Sound\", \"gender\": 2, \"id\": 572622, \"job\": \"Supervising Sound Editor\", \"name\": \"Tom Bellfort\"}, {\"credit_id\": \"5915f4d2c3a368371b0122df\", \"department\": \"Art\", \"gender\": 0, \"id\": 983595, \"job\": \"Art Department Coordinator\", \"name\": \"Charlie Campbell\"}, {\"credit_id\": \"5916010692514158520225b4\", \"department\": \"Crew\", \"gender\": 0, \"id\": 1122560, \"job\": \"Utility Stunts\", \"name\": \"Mickey Giacomazzi\"}, {\"credit_id\": \"59160d2a925141061e01b091\", \"department\": \"Visual Effects\", \"gender\": 0, \"id\": 1182907, \"job\": \"3D Artist\", \"name\": \"Aaron Haye\"}, {\"credit_id\": \"5916014b92514157230228b3\", \"department\": \"Crew\", \"gender\": 0, \"id\": 1202352, \"job\": \"Visual Effects Editor\", \"name\": \"Steve Ansell\"}, {\"credit_id\": \"591601c9c3a368423c022681\", \"department\": \"Directing\", \"gender\": 1, \"id\": 1262129, \"job\": \"Script Supervisor\", \"name\": \"Luca Kouimelis\"}, {\"credit_id\": \"5915fcea925141583c021960\", \"department\": \"Costume & Make-Up\", \"gender\": 0, \"id\": 1327149, \"job\": \"Makeup Department Head\", \"name\": \"Hallie D'Amore\"}, {\"credit_id\": \"5915f4b592514105da018e75\", \"department\": \"Art\", \"gender\": 0, \"id\": 1339439, \"job\": \"Art Department Assistant\", \"name\": \"Lindsay Good\"}, {\"credit_id\": \"59160dba925141583c022924\", \"department\": \"Visual Effects\", \"gender\": 0, \"id\": 1339449, \"job\": \"Visual Effects Producer\", \"name\": \"Stephanie Hornish\"}, {\"credit_id\": \"59160c0292514156f502379c\", \"department\": \"Sound\", \"gender\": 0, \"id\": 1378229, \"job\": \"Boom Operator\", \"name\": \"Marvin E. Lewis\"}, {\"credit_id\": \"59160b8ec3a3684269024457\", \"department\": \"Production\", \"gender\": 0, \"id\": 1378833, \"job\": \"Location Manager\", \"name\": \"James Lin\"}, {\"credit_id\": \"59160a8a92514157230231c1\", \"department\": \"Editing\", \"gender\": 0, \"id\": 1392085, \"job\": \"Dialogue Editor\", \"name\": \"Daniel S. Irwin\"}, {\"credit_id\": \"5915f52592514105da018eeb\", \"department\": \"Art\", \"gender\": 0, \"id\": 1392236, \"job\": \"Construction Coordinator\", \"name\": \"Sebastian Milito\"}, {\"credit_id\": \"5915ff5d92514105da0197a0\", \"department\": \"Art\", \"gender\": 0, \"id\": 1392237, \"job\": \"Property Master\", \"name\": \"C.J. Maguire\"}, {\"credit_id\": \"5915f6a692514159c1020b7d\", \"department\": \"Camera\", \"gender\": 0, \"id\": 1400079, \"job\": \"Camera Operator\", \"name\": \"Patrick B. O'Brien\"}, {\"credit_id\": \"5915f717c3a36842690230f0\", \"department\": \"Camera\", \"gender\": 0, \"id\": 1400082, \"job\": \"Still Photographer\", \"name\": \"Zade Rosenthal\"}, {\"credit_id\": \"59160ab0c3a3683fb6020c79\", \"department\": \"Editing\", \"gender\": 0, \"id\": 1400354, \"job\": \"Digital Intermediate\", \"name\": \"Amy Pawlowski\"}, {\"credit_id\": \"591600f1c3a3684269023998\", \"department\": \"Crew\", \"gender\": 0, \"id\": 1401117, \"job\": \"Unit Publicist\", \"name\": \"David Linck\"}, {\"credit_id\": \"5915f6fdc3a368371b01256a\", \"department\": \"Camera\", \"gender\": 0, \"id\": 1401593, \"job\": \"Aerial Director of Photography\", \"name\": \"Phil Pastuhov\"}, {\"credit_id\": \"59160dd9925141580d022d38\", \"department\": \"Visual Effects\", \"gender\": 0, \"id\": 1403539, \"job\": \"Visual Effects Supervisor\", \"name\": \"David Dozoretz\"}, {\"credit_id\": \"59160b08c3a368371b0137cf\", \"department\": \"Lighting\", \"gender\": 0, \"id\": 1404545, \"job\": \"Gaffer\", \"name\": \"H. Mark Vuille\"}, {\"credit_id\": \"5915fd31925141583c021998\", \"department\": \"Costume & Make-Up\", \"gender\": 0, \"id\": 1407721, \"job\": \"Wigmaker\", \"name\": \"Victoria Wood\"}, {\"credit_id\": \"59160b1ec3a3683fb6020d17\", \"department\": \"Lighting\", \"gender\": 0, \"id\": 1408398, \"job\": \"Lighting Technician\", \"name\": \"Austin Cross\"}, {\"credit_id\": \"59160c1b925141583c02270d\", \"department\": \"Sound\", \"gender\": 0, \"id\": 1412985, \"job\": \"Assistant Sound Editor\", \"name\": \"Andre Fenley\"}, {\"credit_id\": \"59160cde925141061e01b03b\", \"department\": \"Sound\", \"gender\": 0, \"id\": 1414177, \"job\": \"Sound Effects Editor\", \"name\": \"J.R. Grubbs\"}, {\"credit_id\": \"59160b3dc3a36840aa02000a\", \"department\": \"Lighting\", \"gender\": 0, \"id\": 1415635, \"job\": \"Rigging Gaffer\", \"name\": \"Frank Dorowsky\"}, {\"credit_id\": \"5915ff74c3a3684269023822\", \"department\": \"Crew\", \"gender\": 0, \"id\": 1418364, \"job\": \"Scenic Artist\", \"name\": \"Billy 'Jilly Bones' Jones\"}, {\"credit_id\": \"5915fd7b92514158520222e4\", \"department\": \"Crew\", \"gender\": 0, \"id\": 1419800, \"job\": \"CG Supervisor\", \"name\": \"Didier Levy\"}, {\"credit_id\": \"5915f56092514105da018f24\", \"department\": \"Art\", \"gender\": 0, \"id\": 1435690, \"job\": \"Greensman\", \"name\": \"Bennett Andrews\"}, {\"credit_id\": \"5915f676c3a36842c10224b5\", \"department\": \"Art\", \"gender\": 0, \"id\": 1435691, \"job\": \"Set Designer\", \"name\": \"Kristen Davis\"}, {\"credit_id\": \"5916000492514156f5022b83\", \"department\": \"Crew\", \"gender\": 0, \"id\": 1437195, \"job\": \"Special Effects Coordinator\", \"name\": \"Jim Schwalm\"}, {\"credit_id\": \"5915f75e925141061e019c7b\", \"department\": \"Costume & Make-Up\", \"gender\": 0, \"id\": 1442097, \"job\": \"Hairstylist\", \"name\": \"Jeri Baker\"}, {\"credit_id\": \"5915fdb4c3a36842d6022a4b\", \"department\": \"Crew\", \"gender\": 2, \"id\": 1446678, \"job\": \"Mix Technician\", \"name\": \"Eddie Bydalek\"}, {\"credit_id\": \"5915f78292514156f5022459\", \"department\": \"Costume & Make-Up\", \"gender\": 0, \"id\": 1460739, \"job\": \"Key Hair Stylist\", \"name\": \"Catherine Childers\"}, {\"credit_id\": \"5915f7479251415723022035\", \"department\": \"Costume & Make-Up\", \"gender\": 0, \"id\": 1462925, \"job\": \"Hair Department Head\", \"name\": \"Beth Miller\"}, {\"credit_id\": \"5915f64c9251415852021c8d\", \"department\": \"Art\", \"gender\": 0, \"id\": 1463310, \"job\": \"Sculptor\", \"name\": \"Jeff Frost\"}, {\"credit_id\": \"5915f60e925141583c021370\", \"department\": \"Art\", \"gender\": 2, \"id\": 1463336, \"job\": \"Production Illustrator\", \"name\": \"Jim Martin\"}, {\"credit_id\": \"5915ff42c3a36842d6022b6b\", \"department\": \"Crew\", \"gender\": 0, \"id\": 1534971, \"job\": \"Propmaker\", \"name\": \"Steve Burnes\"}, {\"credit_id\": \"59160bcb925141061e01aee6\", \"department\": \"Production\", \"gender\": 0, \"id\": 1536032, \"job\": \"Production Coordinator\", \"name\": \"Robert Mazaraki\"}, {\"credit_id\": \"59160ca0925141583c0227b0\", \"department\": \"Sound\", \"gender\": 2, \"id\": 1546115, \"job\": \"Production Sound Mixer\", \"name\": \"Willie D. Burton\"}, {\"credit_id\": \"5915f542925141061e019a29\", \"department\": \"Art\", \"gender\": 0, \"id\": 1546156, \"job\": \"Construction Foreman\", \"name\": \"Ted Lubonovich II\"}, {\"credit_id\": \"59160c81925141572302341c\", \"department\": \"Sound\", \"gender\": 2, \"id\": 1548698, \"job\": \"Orchestrator\", \"name\": \"Pete Anthony\"}, {\"credit_id\": \"59160b54925141580d022a60\", \"department\": \"Lighting\", \"gender\": 0, \"id\": 1552200, \"job\": \"Rigging Grip\", \"name\": \"Gregory Collis\"}, {\"credit_id\": \"59160af1925141580d0229e5\", \"department\": \"Lighting\", \"gender\": 0, \"id\": 1553016, \"job\": \"Electrician\", \"name\": \"Shane Buttle\"}, {\"credit_id\": \"5915f68fc3a36842d60223f2\", \"department\": \"Art\", \"gender\": 0, \"id\": 1565942, \"job\": \"Standby Painter\", \"name\": \"James Diggs\"}, {\"credit_id\": \"5915fd5392514158520222bc\", \"department\": \"Crew\", \"gender\": 0, \"id\": 1565951, \"job\": \"Armorer\", \"name\": \"Vincent Joseph Flaherty\"}, {\"credit_id\": \"59160df2c3a36842d6023aa9\", \"department\": \"Writing\", \"gender\": 0, \"id\": 1585197, \"job\": \"Storyboard\", \"name\": \"Darrin Denlinger\"}, {\"credit_id\": \"5915ffa9925141583c021b52\", \"department\": \"Crew\", \"gender\": 0, \"id\": 1595474, \"job\": \"Sequence Supervisor\", \"name\": \"Tom Martinek\"}, {\"credit_id\": \"5915f59cc3a36842c10223c8\", \"department\": \"Art\", \"gender\": 0, \"id\": 1614189, \"job\": \"Location Scout\", \"name\": \"Liz Matthews\"}, {\"credit_id\": \"59160d4cc3a36842d60239f0\", \"department\": \"Visual Effects\", \"gender\": 0, \"id\": 1622456, \"job\": \"Digital Compositors\", \"name\": \"Corinne Bogdanowicz\"}, {\"credit_id\": \"59160ad7c3a3684269024376\", \"department\": \"Lighting\", \"gender\": 0, \"id\": 1627996, \"job\": \"Best Boy Electric\", \"name\": \"Jerry L. Marshall\"}, {\"credit_id\": \"5915ffc992514159c102132a\", \"department\": \"Crew\", \"gender\": 0, \"id\": 1646240, \"job\": \"Set Medic\", \"name\": \"Jason Inman\"}, {\"credit_id\": \"59160bad92514159c1021e75\", \"department\": \"Production\", \"gender\": 0, \"id\": 1677516, \"job\": \"Production Accountant\", \"name\": \"Alison Harstedt\"}, {\"credit_id\": \"591600c2c3a368423c0225b0\", \"department\": \"Crew\", \"gender\": 0, \"id\": 1688600, \"job\": \"Transportation Coordinator\", \"name\": \"John Armstrong\"}, {\"credit_id\": \"5915ff11c3a36842c1022c45\", \"department\": \"Crew\", \"gender\": 1, \"id\": 1697586, \"job\": \"Post Production Supervisor\", \"name\": \"Isabel Henderson\"}, {\"credit_id\": \"5915fee4c3a36842d6022b26\", \"department\": \"Crew\", \"gender\": 0, \"id\": 1701273, \"job\": \"Picture Car Coordinator\", \"name\": \"Steve Mann\"}, {\"credit_id\": \"591601b1925141061e01a4e4\", \"department\": \"Directing\", \"gender\": 0, \"id\": 1708358, \"job\": \"First Assistant Director\", \"name\": \"J. Michael Haynie\"}, {\"credit_id\": \"5915f5c6c3a36840aa01edc1\", \"department\": \"Art\", \"gender\": 0, \"id\": 1711191, \"job\": \"Painter\", \"name\": \"Peter Oktavec\"}, {\"credit_id\": \"5915fd6792514158520222d1\", \"department\": \"Crew\", \"gender\": 0, \"id\": 1711199, \"job\": \"Carpenter\", \"name\": \"Bryan Badman\"}, {\"credit_id\": \"59160b6c925141583c022646\", \"department\": \"Production\", \"gender\": 0, \"id\": 1717163, \"job\": \"Casting Associate\", \"name\": \"Justine Hempe\"}, {\"credit_id\": \"5915fd15925141061e01a154\", \"department\": \"Costume & Make-Up\", \"gender\": 0, \"id\": 1738148, \"job\": \"Set Dressing Artist\", \"name\": \"Bart Barbuscia\"}, {\"credit_id\": \"5915ff2b925141580d021e92\", \"department\": \"Crew\", \"gender\": 0, \"id\": 1739546, \"job\": \"Production Controller\", \"name\": \"Alison Cannon\"}, {\"credit_id\": \"5915f6dcc3a368423c021d15\", \"department\": \"Camera\", \"gender\": 0, \"id\": 1744658, \"job\": \"Key Grip\", \"name\": \"Richard Mall\"}, {\"credit_id\": \"59160beb92514159c1021ebd\", \"department\": \"Production\", \"gender\": 1, \"id\": 1783084, \"job\": \"Production Supervisor\", \"name\": \"Debbie Schwab\"}, {\"credit_id\": \"59160136c3a36842d6022d4a\", \"department\": \"Crew\", \"gender\": 0, \"id\": 1790026, \"job\": \"Video Assist Operator\", \"name\": \"Bradford Ralston\"}, {\"credit_id\": \"5915f584925141580d021665\", \"department\": \"Art\", \"gender\": 0, \"id\": 1815432, \"job\": \"Leadman\", \"name\": \"Daril Alder\"}, {\"credit_id\": \"5915f66592514159c1020b43\", \"department\": \"Art\", \"gender\": 0, \"id\": 1815433, \"job\": \"Set Decoration Buyer\", \"name\": \"Emily Crupper\"}, {\"credit_id\": \"5915f6c7c3a3683fb601fba0\", \"department\": \"Camera\", \"gender\": 0, \"id\": 1815435, \"job\": \"First Assistant Camera\", \"name\": \"Tony Olivieri\"}, {\"credit_id\": \"5915f6ef92514156f50223b9\", \"department\": \"Camera\", \"gender\": 0, \"id\": 1815438, \"job\": \"Grip\", \"name\": \"Matthew J. Barden\"}, {\"credit_id\": \"5915f734925141583c021496\", \"department\": \"Costume & Make-Up\", \"gender\": 0, \"id\": 1815439, \"job\": \"Costume Supervisor\", \"name\": \"Charmaine Nash Simmons\"}, {\"credit_id\": \"5915fd0392514105da0195cf\", \"department\": \"Costume & Make-Up\", \"gender\": 0, \"id\": 1815446, \"job\": \"Set Costumer\", \"name\": \"Yaa Boaa Aning\"}, {\"credit_id\": \"5915fda492514159c102116f\", \"department\": \"Crew\", \"gender\": 0, \"id\": 1815448, \"job\": \"Driver\", \"name\": \"Thomas Garris\"}, {\"credit_id\": \"5915ff0292514159c102128d\", \"department\": \"Crew\", \"gender\": 0, \"id\": 1815453, \"job\": \"Post Production Assistant\", \"name\": \"R. Ben Adams\"}, {\"credit_id\": \"5915ffdcc3a36842c1022d01\", \"department\": \"Crew\", \"gender\": 0, \"id\": 1815458, \"job\": \"Set Production Assistant\", \"name\": \"Kevin Berlandi\"}, {\"credit_id\": \"5916001ec3a3683a93020eb0\", \"department\": \"Crew\", \"gender\": 0, \"id\": 1815459, \"job\": \"Stand In\", \"name\": \"Nathan Bailey\"}, {\"credit_id\": \"59160071c3a36842d6022ca4\", \"department\": \"Crew\", \"gender\": 0, \"id\": 1815460, \"job\": \"Transportation Co-Captain\", \"name\": \"Duane Kelly\"}, {\"credit_id\": \"59160cf5c3a3683fb6020f4f\", \"department\": \"Sound\", \"gender\": 0, \"id\": 1815494, \"job\": \"Sound Engineer\", \"name\": \"Dave Lopez\"}, {\"credit_id\": \"59160d98925141061e01b11a\", \"department\": \"Visual Effects\", \"gender\": 0, \"id\": 1815499, \"job\": \"Visual Effects\", \"name\": \"George Stevens\"}, {\"credit_id\": \"59160daa92514156f50239a1\", \"department\": \"Visual Effects\", \"gender\": 0, \"id\": 1815501, \"job\": \"Visual Effects Coordinator\", \"name\": \"Christopher Cram\"}]     1\n",
      "[{\"credit_id\": \"555e51909251417e5f000b42\", \"department\": \"Art\", \"gender\": 0, \"id\": 1432957, \"job\": \"Art Department Manager\", \"name\": \"Ross Shuman\"}]                                                                                                                                                                                                                                                                                                                                                                                                                                                                                                                                                                                                                                                                                                                                                                                                                                                                                                                                                                                                                                                                                                                                                                                                                                                                                                                                                                                                                                                                                                                                                                                                                                                                                                                                                                                                                                                                                                                                                                                                                                                                                                                                                                                                                                                                                                                                                                                                                                                                                                                                                                                                                                                                                                                                                                                                                                                                                                                                                                                                                                                                                                                                                                                                                                                                                                                                                                                                                                                                                                                                                                                                                                                                                                                                                                                                                                                                                                                                                                                                                                                                                                                                                                                                                                                                                                                                                                                                                                                                                                                                                                                                                                                                                                                                                                                                                                                                                                                                                                                                                                                                                                                                                                                                                                                                                                                                                                                                                                                                                                                                                                                                                                                                                                                                                                                                                                                                                                                                                                                                                                                                                                                                                                                                                                                                                                                                                                                                                                                                                                                                                                                                                                                                                                                                                                                                                                                                                                                                                                                                                                                                                                                                                                                                                                                                                                                                                                                                                                                                                                                                                                                                                                                                                                                                                                                                                                                                                                                                                                                                                                                                                                                                                                                                                                                                                                                                                                                                                                                                                                                                                                                                                                                                                                                                                                                                                                                                                                                                                                                                                                                                                                                                                                                                                                                                                                                                                                                                                                                                                                                                                                                                                                                                                                                                                                                                                                                                                                                                                                                                                                                                                                                                                                                                                                                                                                                                                                                                                                                                                                                                                                                                                                                                                                                                                                                                                                                                                                                                                                                                                                                                                                                                                                                                                                                                                                                                                                                                                                                                                                                                                                                                                                                                                                                                                                                                                                                                                                                                                                                                                                                                                                                                                                                                                                                                                                                                                                                                                                                                                                                                                                                                                                                                                                                                                                                                                                                                                                                                                                                                                                                                                                                                                                                                                                                                                                                                                                                                                                                                                                                                                                                                                                                                                                                                                                                                                                                                                                                                                                                                                                                                                                                                                                                                                                                                                                                                                                                                                                                                                                                                                                                                                                                                                                                                                                                                                                                                                                                                                                                                                                                                                                                                                                                                                                                                                                                                                                                                                                                                                                                                                                                                                                                                                                                                                                                                                                                                                                                                                                                                                                                                                                                                                                                                                                                                                                                                                                                                                                                                                                                                                                                                                                                                                                                                                                                                                                                                                                                                                                        1\n",
      "[{\"credit_id\": \"541ddfe10e0a261235009866\", \"department\": \"Sound\", \"gender\": 2, \"id\": 2214, \"job\": \"Music\", \"name\": \"Paul Haslinger\"}, {\"credit_id\": \"5898ce009251417a8e00d323\", \"department\": \"Sound\", \"gender\": 0, \"id\": 9419, \"job\": \"Sound Effects Editor\", \"name\": \"Benjamin L. Cook\"}, {\"credit_id\": \"541ddfc9c3a36801a9008ecf\", \"department\": \"Production\", \"gender\": 2, \"id\": 17605, \"job\": \"Executive Producer\", \"name\": \"Idris Elba\"}, {\"credit_id\": \"5898cc549251417a7f00c755\", \"department\": \"Sound\", \"gender\": 2, \"id\": 42036, \"job\": \"Supervising Sound Editor\", \"name\": \"Kami Asgar\"}, {\"credit_id\": \"52fe4c1fc3a368484e1a84f5\", \"department\": \"Production\", \"gender\": 2, \"id\": 31121, \"job\": \"Producer\", \"name\": \"William Packer\"}, {\"credit_id\": \"5898a168c3a368770900a814\", \"department\": \"Production\", \"gender\": 2, \"id\": 31123, \"job\": \"Executive Producer\", \"name\": \"Rob Hardy\"}, {\"credit_id\": \"58989d599251417a7f00a72e\", \"department\": \"Costume & Make-Up\", \"gender\": 2, \"id\": 31131, \"job\": \"Costume Design\", \"name\": \"Keith G. Lewis\"}, {\"credit_id\": \"5898ce8b9251417a8500c2f7\", \"department\": \"Crew\", \"gender\": 2, \"id\": 33290, \"job\": \"Additional Music\", \"name\": \"Justin Caine Burnett\"}, {\"credit_id\": \"541ddfd7c3a36801ad008f15\", \"department\": \"Production\", \"gender\": 1, \"id\": 40036, \"job\": \"Executive Producer\", \"name\": \"Taraji P. Henson\"}, {\"credit_id\": \"5683360c9251414ecb007662\", \"department\": \"Camera\", \"gender\": 2, \"id\": 42632, \"job\": \"Director of Photography\", \"name\": \"Michael Barrett\"}, {\"credit_id\": \"58989eba9251417a8200a884\", \"department\": \"Editing\", \"gender\": 0, \"id\": 42633, \"job\": \"Editor\", \"name\": \"Jim Page\"}, {\"credit_id\": \"5898a2a7c3a368771500b125\", \"department\": \"Production\", \"gender\": 2, \"id\": 59922, \"job\": \"Executive Producer\", \"name\": \"Glenn S. Gainor\"}, {\"credit_id\": \"5898c26b9251417a8e00cc18\", \"department\": \"Production\", \"gender\": 2, \"id\": 59922, \"job\": \"Unit Production Manager\", \"name\": \"Glenn S. Gainor\"}, {\"credit_id\": \"58989f059251417a8a00a92f\", \"department\": \"Editing\", \"gender\": 2, \"id\": 55955, \"job\": \"Editor\", \"name\": \"Randy Bricker\"}, {\"credit_id\": \"5898c88cc3a368771500c856\", \"department\": \"Production\", \"gender\": 2, \"id\": 72111, \"job\": \"Location Manager\", \"name\": \"Brian M. O'Neill\"}, {\"credit_id\": \"5898c255c3a368771a00bc1c\", \"department\": \"Crew\", \"gender\": 0, \"id\": 84459, \"job\": \"Stunt Coordinator\", \"name\": \"Larnell Stovall\"}, {\"credit_id\": \"58989f929251417a8500a742\", \"department\": \"Art\", \"gender\": 2, \"id\": 112521, \"job\": \"Production Design\", \"name\": \"Chris Cornwell\"}, {\"credit_id\": \"52fe4c1fc3a368484e1a84e3\", \"department\": \"Directing\", \"gender\": 2, \"id\": 134156, \"job\": \"Director\", \"name\": \"Sam Miller\"}, {\"credit_id\": \"58989cf99251417a7c00ab26\", \"department\": \"Production\", \"gender\": 0, \"id\": 567238, \"job\": \"Casting\", \"name\": \"George Pierre\"}, {\"credit_id\": \"541ddfb10e0a260e98008d78\", \"department\": \"Writing\", \"gender\": 0, \"id\": 937024, \"job\": \"Writer\", \"name\": \"Aimee Lagos\"}, {\"credit_id\": \"5898a0a9c3a368771500affb\", \"department\": \"Production\", \"gender\": 0, \"id\": 937024, \"job\": \"Executive Producer\", \"name\": \"Aimee Lagos\"}, {\"credit_id\": \"5898c3fec3a368771200b651\", \"department\": \"Art\", \"gender\": 1, \"id\": 1094286, \"job\": \"Set Decoration\", \"name\": \"Melinda Sanders\"}, {\"credit_id\": \"5898c6a29251417a8a00c22b\", \"department\": \"Costume & Make-Up\", \"gender\": 2, \"id\": 1102803, \"job\": \"Hairstylist\", \"name\": \"Bret Mayo\"}, {\"credit_id\": \"5898ce5b9251417a8a00c637\", \"department\": \"Sound\", \"gender\": 0, \"id\": 1138332, \"job\": \"Scoring Mixer\", \"name\": \"Greg Hayes\"}, {\"credit_id\": \"5898a0c69251417a8500a828\", \"department\": \"Production\", \"gender\": 1, \"id\": 1231882, \"job\": \"Executive Producer\", \"name\": \"Lindsay Williams\"}, {\"credit_id\": \"5898a0b79251417a8200aa26\", \"department\": \"Production\", \"gender\": 0, \"id\": 1257754, \"job\": \"Executive Producer\", \"name\": \"Ellen Goldsmith-Vein\"}, {\"credit_id\": \"5898cae79251417a8200c400\", \"department\": \"Crew\", \"gender\": 0, \"id\": 1339961, \"job\": \"Transportation Captain\", \"name\": \"Terry Collis\"}, {\"credit_id\": \"5898c42c9251417a8500bd4b\", \"department\": \"Art\", \"gender\": 0, \"id\": 1355956, \"job\": \"Property Master\", \"name\": \"Dwight Benjamin-Creel\"}, {\"credit_id\": \"5898c7b69251417a7f00c49c\", \"department\": \"Sound\", \"gender\": 0, \"id\": 1355963, \"job\": \"Boom Operator\", \"name\": \"Drew Ponder\"}, {\"credit_id\": \"5898c4db9251417a7f00c306\", \"department\": \"Costume & Make-Up\", \"gender\": 0, \"id\": 1355966, \"job\": \"Costume Supervisor\", \"name\": \"K. Drew Fuller\"}, {\"credit_id\": \"5898cc6e9251417a8200c4d4\", \"department\": \"Sound\", \"gender\": 0, \"id\": 1357671, \"job\": \"Assistant Sound Editor\", \"name\": \"Tim Tuchrello\"}, {\"credit_id\": \"5898cc06c3a368771200baa3\", \"department\": \"Sound\", \"gender\": 2, \"id\": 1363349, \"job\": \"Sound Re-Recording Mixer\", \"name\": \"Will Riley\"}, {\"credit_id\": \"5898cc619251417a8e00d234\", \"department\": \"Sound\", \"gender\": 2, \"id\": 1363349, \"job\": \"Supervising Sound Editor\", \"name\": \"Will Riley\"}, {\"credit_id\": \"5898ce11c3a368772400be10\", \"department\": \"Sound\", \"gender\": 0, \"id\": 1363351, \"job\": \"Sound Effects Editor\", \"name\": \"Sebastian Sheehan Visconti\"}, {\"credit_id\": \"5898c276c3a368772400b7d4\", \"department\": \"Directing\", \"gender\": 0, \"id\": 1371001, \"job\": \"First Assistant Director\", \"name\": \"Mark Anthony Little\"}, {\"credit_id\": \"5898cb92c3a368770900c1b3\", \"department\": \"Sound\", \"gender\": 2, \"id\": 1378171, \"job\": \"Sound Re-Recording Mixer\", \"name\": \"Kevin O'Connell\"}, {\"credit_id\": \"5898c4a19251417a8a00c0f7\", \"department\": \"Camera\", \"gender\": 2, \"id\": 1378241, \"job\": \"Camera Operator\", \"name\": \"Maurice K. McGuire\"}, {\"credit_id\": \"5898cdb19251417a9100ccc0\", \"department\": \"Sound\", \"gender\": 2, \"id\": 1399632, \"job\": \"Sound Effects Editor\", \"name\": \"Mark Larry\"}, {\"credit_id\": \"5898ce1a9251417a8200c5f5\", \"department\": \"Sound\", \"gender\": 0, \"id\": 1400071, \"job\": \"ADR Editor\", \"name\": \"Erin Oakley\"}, {\"credit_id\": \"5898ce3fc3a368772400be3a\", \"department\": \"Sound\", \"gender\": 2, \"id\": 1404546, \"job\": \"Music Editor\", \"name\": \"Brian Richards\"}, {\"credit_id\": \"5898c4589251414582005f96\", \"department\": \"Camera\", \"gender\": 2, \"id\": 1409831, \"job\": \"Camera Operator\", \"name\": \"Gary Jay\"}, {\"credit_id\": \"5898c7e9c3a368771d00cb35\", \"department\": \"Visual Effects\", \"gender\": 2, \"id\": 1412112, \"job\": \"Special Effects Supervisor\", \"name\": \"Robert Vazquez\"}, {\"credit_id\": \"5898c5619251417a7c00c516\", \"department\": \"Costume & Make-Up\", \"gender\": 1, \"id\": 1452233, \"job\": \"Makeup Department Head\", \"name\": \"Denise Tunnell\"}, {\"credit_id\": \"5898c3ef9251417a7f00c261\", \"department\": \"Art\", \"gender\": 2, \"id\": 1493865, \"job\": \"Art Direction\", \"name\": \"Michael H. Ward\"}, {\"credit_id\": \"5898c71ec3a368771200b819\", \"department\": \"Sound\", \"gender\": 0, \"id\": 1550166, \"job\": \"Production Sound Mixer\", \"name\": \"Mary H. Ellis\"}, {\"credit_id\": \"5898c61d9251417a9100c88b\", \"department\": \"Costume & Make-Up\", \"gender\": 1, \"id\": 1554754, \"job\": \"Hair Department Head\", \"name\": \"Cynthia L. Chapman\"}, {\"credit_id\": \"5898ca919251417a8200c3da\", \"department\": \"Camera\", \"gender\": 0, \"id\": 1560972, \"job\": \"Still Photographer\", \"name\": \"Quantrell D. Colbert\"}, {\"credit_id\": \"5898c435c3a368770e00c75f\", \"department\": \"Directing\", \"gender\": 1, \"id\": 1567766, \"job\": \"Script Supervisor\", \"name\": \"Megan Graham\"}, {\"credit_id\": \"5898c9cec3a368771d00cc75\", \"department\": \"Production\", \"gender\": 2, \"id\": 1733525, \"job\": \"Production Accountant\", \"name\": \"Chris Romberg\"}, {\"credit_id\": \"5898c5039251417a8e00cddf\", \"department\": \"Costume & Make-Up\", \"gender\": 0, \"id\": 1740519, \"job\": \"Key Costumer\", \"name\": \"Dustin Angus\"}, {\"credit_id\": \"5898c2abc3a368770400b93f\", \"department\": \"Directing\", \"gender\": 2, \"id\": 1752243, \"job\": \"Second Assistant Director\", \"name\": \"Jason Roberts\"}, {\"credit_id\": \"5898c3b09251414582005f3f\", \"department\": \"Production\", \"gender\": 1, \"id\": 1752250, \"job\": \"Production Supervisor\", \"name\": \"Dianne Ashford\"}, {\"credit_id\": \"5898c5269251417a8a00c13f\", \"department\": \"Costume & Make-Up\", \"gender\": 1, \"id\": 1752251, \"job\": \"Set Costumer\", \"name\": \"Mauricia Grant\"}, {\"credit_id\": \"5898c56fc3a368770e00c82a\", \"department\": \"Costume & Make-Up\", \"gender\": 1, \"id\": 1752254, \"job\": \"Key Makeup Artist\", \"name\": \"Janice Tunnell\"}, {\"credit_id\": \"5898c6689251417a8a00c20c\", \"department\": \"Costume & Make-Up\", \"gender\": 2, \"id\": 1752257, \"job\": \"Hairstylist\", \"name\": \"Dante Blandshaw\"}, {\"credit_id\": \"5898c6bf9251417a8e00cf0b\", \"department\": \"Lighting\", \"gender\": 2, \"id\": 1752259, \"job\": \"Chief Lighting Technician\", \"name\": \"Russell Caldwell\"}, {\"credit_id\": \"5898c74b9251417a8200c21e\", \"department\": \"Camera\", \"gender\": 2, \"id\": 1752262, \"job\": \"Key Grip\", \"name\": \"Anthony Marra\"}, {\"credit_id\": \"5898c94ec3a368771500c8dc\", \"department\": \"Production\", \"gender\": 1, \"id\": 1752269, \"job\": \"Production Coordinator\", \"name\": \"Sue Smith\"}, {\"credit_id\": \"5898ca25c3a368770900c101\", \"department\": \"Crew\", \"gender\": 1, \"id\": 1752270, \"job\": \"Unit Publicist\", \"name\": \"Arian Simone Reed\"}, {\"credit_id\": \"5898cb0fc3a368771a00c16c\", \"department\": \"Crew\", \"gender\": 2, \"id\": 1752273, \"job\": \"Transportation Co-Captain\", \"name\": \"Bobbie Collis\"}, {\"credit_id\": \"5898cb3ec3a368770900c187\", \"department\": \"Editing\", \"gender\": 2, \"id\": 1752275, \"job\": \"Assistant Editor\", \"name\": \"Bart Rachmil\"}, {\"credit_id\": \"5898ccdbc3a368770400bf35\", \"department\": \"Sound\", \"gender\": 2, \"id\": 1752279, \"job\": \"Assistant Sound Editor\", \"name\": \"David Scott Ferrara\"}]                                                                                                                                                                                                                                                                                                                                                                                                                                                                                                                                                                                                                                                                                                                                                                                                                                                                                                                                                                                                                                                                                                                                                                                                                                                                                                                                                                                                                                                                                                                                                                                                                                                                                                                                                                                                                                                                                                                                                                                                                                                                                                                                                                                                                                                                                                                                                                                                                                                                                                                                                                                                                                                                                                                                                                                                                                                                                                                                                                                                                                                                                                                                                                                                                                                                                                                                                                                                                                                                                                                                                                                                                                                                                                                                                                                                                                                                                                                                                                                                                                                                                                                                                                                                                                                                                                                                                                                                                                                                                                                                                                                                                                                                                                                                                                                                                                                                                                                                                                                                                                                                                                                                                                                                                                                                                                                                                                                                                                                                                                                                                                                                                                                                                                                                                                                                                                                                                                                                                                                                                                                                                                                                                                                                                                                                                                                                                                                                                                                                                                                                                                                                                                                                                                                                                                                                                                                                                                                                                                                                                                                                                                                                                                                                                                                                                                                                                                                                           1\n",
      "Name: crew, Length: 4776, dtype: int64\n"
     ]
    }
   ],
   "source": [
    "for features in df.columns:\n",
    "    print(df[features].value_counts())"
   ]
  },
  {
   "cell_type": "code",
   "execution_count": 18,
   "id": "aba2b28f",
   "metadata": {},
   "outputs": [
    {
     "name": "stdout",
     "output_type": "stream",
     "text": [
      "<class 'pandas.core.frame.DataFrame'>\n",
      "Int64Index: 4809 entries, 0 to 4808\n",
      "Data columns (total 23 columns):\n",
      " #   Column                Non-Null Count  Dtype  \n",
      "---  ------                --------------  -----  \n",
      " 0   budget                4809 non-null   int64  \n",
      " 1   genres                4809 non-null   object \n",
      " 2   homepage              1713 non-null   object \n",
      " 3   id                    4809 non-null   int64  \n",
      " 4   keywords              4809 non-null   object \n",
      " 5   original_language     4809 non-null   object \n",
      " 6   original_title        4809 non-null   object \n",
      " 7   overview              4806 non-null   object \n",
      " 8   popularity            4809 non-null   float64\n",
      " 9   production_companies  4809 non-null   object \n",
      " 10  production_countries  4809 non-null   object \n",
      " 11  release_date          4808 non-null   object \n",
      " 12  revenue               4809 non-null   int64  \n",
      " 13  runtime               4807 non-null   float64\n",
      " 14  spoken_languages      4809 non-null   object \n",
      " 15  status                4809 non-null   object \n",
      " 16  tagline               3965 non-null   object \n",
      " 17  title                 4809 non-null   object \n",
      " 18  vote_average          4809 non-null   float64\n",
      " 19  vote_count            4809 non-null   int64  \n",
      " 20  movie_id              4809 non-null   int64  \n",
      " 21  cast                  4809 non-null   object \n",
      " 22  crew                  4809 non-null   object \n",
      "dtypes: float64(3), int64(5), object(15)\n",
      "memory usage: 901.7+ KB\n"
     ]
    }
   ],
   "source": [
    "df.info()"
   ]
  },
  {
   "cell_type": "code",
   "execution_count": 19,
   "id": "7ae023ca",
   "metadata": {},
   "outputs": [
    {
     "data": {
      "text/html": [
       "<div>\n",
       "<style scoped>\n",
       "    .dataframe tbody tr th:only-of-type {\n",
       "        vertical-align: middle;\n",
       "    }\n",
       "\n",
       "    .dataframe tbody tr th {\n",
       "        vertical-align: top;\n",
       "    }\n",
       "\n",
       "    .dataframe thead th {\n",
       "        text-align: right;\n",
       "    }\n",
       "</style>\n",
       "<table border=\"1\" class=\"dataframe\">\n",
       "  <thead>\n",
       "    <tr style=\"text-align: right;\">\n",
       "      <th></th>\n",
       "      <th>budget</th>\n",
       "      <th>id</th>\n",
       "      <th>popularity</th>\n",
       "      <th>revenue</th>\n",
       "      <th>runtime</th>\n",
       "      <th>vote_average</th>\n",
       "      <th>vote_count</th>\n",
       "      <th>movie_id</th>\n",
       "    </tr>\n",
       "  </thead>\n",
       "  <tbody>\n",
       "    <tr>\n",
       "      <th>count</th>\n",
       "      <td>4.809000e+03</td>\n",
       "      <td>4809.000000</td>\n",
       "      <td>4809.000000</td>\n",
       "      <td>4.809000e+03</td>\n",
       "      <td>4807.000000</td>\n",
       "      <td>4809.000000</td>\n",
       "      <td>4809.000000</td>\n",
       "      <td>4809.000000</td>\n",
       "    </tr>\n",
       "    <tr>\n",
       "      <th>mean</th>\n",
       "      <td>2.902780e+07</td>\n",
       "      <td>57120.571429</td>\n",
       "      <td>21.491664</td>\n",
       "      <td>8.227511e+07</td>\n",
       "      <td>106.882255</td>\n",
       "      <td>6.092514</td>\n",
       "      <td>690.331670</td>\n",
       "      <td>57120.571429</td>\n",
       "    </tr>\n",
       "    <tr>\n",
       "      <th>std</th>\n",
       "      <td>4.070473e+07</td>\n",
       "      <td>88653.369849</td>\n",
       "      <td>31.803366</td>\n",
       "      <td>1.628379e+08</td>\n",
       "      <td>22.602535</td>\n",
       "      <td>1.193989</td>\n",
       "      <td>1234.187111</td>\n",
       "      <td>88653.369849</td>\n",
       "    </tr>\n",
       "    <tr>\n",
       "      <th>min</th>\n",
       "      <td>0.000000e+00</td>\n",
       "      <td>5.000000</td>\n",
       "      <td>0.000000</td>\n",
       "      <td>0.000000e+00</td>\n",
       "      <td>0.000000</td>\n",
       "      <td>0.000000</td>\n",
       "      <td>0.000000</td>\n",
       "      <td>5.000000</td>\n",
       "    </tr>\n",
       "    <tr>\n",
       "      <th>25%</th>\n",
       "      <td>7.800000e+05</td>\n",
       "      <td>9012.000000</td>\n",
       "      <td>4.667230</td>\n",
       "      <td>0.000000e+00</td>\n",
       "      <td>94.000000</td>\n",
       "      <td>5.600000</td>\n",
       "      <td>54.000000</td>\n",
       "      <td>9012.000000</td>\n",
       "    </tr>\n",
       "    <tr>\n",
       "      <th>50%</th>\n",
       "      <td>1.500000e+07</td>\n",
       "      <td>14624.000000</td>\n",
       "      <td>12.921594</td>\n",
       "      <td>1.917000e+07</td>\n",
       "      <td>103.000000</td>\n",
       "      <td>6.200000</td>\n",
       "      <td>235.000000</td>\n",
       "      <td>14624.000000</td>\n",
       "    </tr>\n",
       "    <tr>\n",
       "      <th>75%</th>\n",
       "      <td>4.000000e+07</td>\n",
       "      <td>58595.000000</td>\n",
       "      <td>28.350529</td>\n",
       "      <td>9.291317e+07</td>\n",
       "      <td>118.000000</td>\n",
       "      <td>6.800000</td>\n",
       "      <td>737.000000</td>\n",
       "      <td>58595.000000</td>\n",
       "    </tr>\n",
       "    <tr>\n",
       "      <th>max</th>\n",
       "      <td>3.800000e+08</td>\n",
       "      <td>459488.000000</td>\n",
       "      <td>875.581305</td>\n",
       "      <td>2.787965e+09</td>\n",
       "      <td>338.000000</td>\n",
       "      <td>10.000000</td>\n",
       "      <td>13752.000000</td>\n",
       "      <td>459488.000000</td>\n",
       "    </tr>\n",
       "  </tbody>\n",
       "</table>\n",
       "</div>"
      ],
      "text/plain": [
       "             budget             id   popularity       revenue      runtime  \\\n",
       "count  4.809000e+03    4809.000000  4809.000000  4.809000e+03  4807.000000   \n",
       "mean   2.902780e+07   57120.571429    21.491664  8.227511e+07   106.882255   \n",
       "std    4.070473e+07   88653.369849    31.803366  1.628379e+08    22.602535   \n",
       "min    0.000000e+00       5.000000     0.000000  0.000000e+00     0.000000   \n",
       "25%    7.800000e+05    9012.000000     4.667230  0.000000e+00    94.000000   \n",
       "50%    1.500000e+07   14624.000000    12.921594  1.917000e+07   103.000000   \n",
       "75%    4.000000e+07   58595.000000    28.350529  9.291317e+07   118.000000   \n",
       "max    3.800000e+08  459488.000000   875.581305  2.787965e+09   338.000000   \n",
       "\n",
       "       vote_average    vote_count       movie_id  \n",
       "count   4809.000000   4809.000000    4809.000000  \n",
       "mean       6.092514    690.331670   57120.571429  \n",
       "std        1.193989   1234.187111   88653.369849  \n",
       "min        0.000000      0.000000       5.000000  \n",
       "25%        5.600000     54.000000    9012.000000  \n",
       "50%        6.200000    235.000000   14624.000000  \n",
       "75%        6.800000    737.000000   58595.000000  \n",
       "max       10.000000  13752.000000  459488.000000  "
      ]
     },
     "execution_count": 19,
     "metadata": {},
     "output_type": "execute_result"
    }
   ],
   "source": [
    "# Displaying the statistical measures of the numerical features of the dataset\n",
    "df.describe(include=np.number)"
   ]
  },
  {
   "cell_type": "markdown",
   "id": "0c141010",
   "metadata": {},
   "source": [
    "###### Correlation Matrix"
   ]
  },
  {
   "cell_type": "code",
   "execution_count": 20,
   "id": "a982ca5d",
   "metadata": {},
   "outputs": [
    {
     "data": {
      "text/plain": [
       "<AxesSubplot:>"
      ]
     },
     "execution_count": 20,
     "metadata": {},
     "output_type": "execute_result"
    },
    {
     "data": {
      "image/png": "[encoded data removed]",
      "text/plain": [
       "<Figure size 1440x1440 with 2 Axes>"
      ]
     },
     "metadata": {
      "needs_background": "light"
     },
     "output_type": "display_data"
    }
   ],
   "source": [
    "plt.figure(figsize=(20,20))\n",
    "sns.heatmap(df.corr(), annot=True, cmap=\"Blues\")"
   ]
  },
  {
   "cell_type": "markdown",
   "id": "dffb46b7",
   "metadata": {},
   "source": [
    "Inference: Id and movie_id are highly correlated (as they denote the same information), so one of them has to be dropped"
   ]
  },
  {
   "cell_type": "code",
   "execution_count": 21,
   "id": "b30a3c41",
   "metadata": {},
   "outputs": [
    {
     "data": {
      "text/html": [
       "<div>\n",
       "<style scoped>\n",
       "    .dataframe tbody tr th:only-of-type {\n",
       "        vertical-align: middle;\n",
       "    }\n",
       "\n",
       "    .dataframe tbody tr th {\n",
       "        vertical-align: top;\n",
       "    }\n",
       "\n",
       "    .dataframe thead th {\n",
       "        text-align: right;\n",
       "    }\n",
       "</style>\n",
       "<table border=\"1\" class=\"dataframe\">\n",
       "  <thead>\n",
       "    <tr style=\"text-align: right;\">\n",
       "      <th></th>\n",
       "      <th>genres</th>\n",
       "      <th>homepage</th>\n",
       "      <th>keywords</th>\n",
       "      <th>original_language</th>\n",
       "      <th>original_title</th>\n",
       "      <th>overview</th>\n",
       "      <th>production_companies</th>\n",
       "      <th>production_countries</th>\n",
       "      <th>release_date</th>\n",
       "      <th>spoken_languages</th>\n",
       "      <th>status</th>\n",
       "      <th>tagline</th>\n",
       "      <th>title</th>\n",
       "      <th>cast</th>\n",
       "      <th>crew</th>\n",
       "    </tr>\n",
       "  </thead>\n",
       "  <tbody>\n",
       "    <tr>\n",
       "      <th>count</th>\n",
       "      <td>4809</td>\n",
       "      <td>1713</td>\n",
       "      <td>4809</td>\n",
       "      <td>4809</td>\n",
       "      <td>4809</td>\n",
       "      <td>4806</td>\n",
       "      <td>4809</td>\n",
       "      <td>4809</td>\n",
       "      <td>4808</td>\n",
       "      <td>4809</td>\n",
       "      <td>4809</td>\n",
       "      <td>3965</td>\n",
       "      <td>4809</td>\n",
       "      <td>4809</td>\n",
       "      <td>4809</td>\n",
       "    </tr>\n",
       "    <tr>\n",
       "      <th>unique</th>\n",
       "      <td>1175</td>\n",
       "      <td>1691</td>\n",
       "      <td>4222</td>\n",
       "      <td>37</td>\n",
       "      <td>4801</td>\n",
       "      <td>4800</td>\n",
       "      <td>3697</td>\n",
       "      <td>469</td>\n",
       "      <td>3280</td>\n",
       "      <td>544</td>\n",
       "      <td>3</td>\n",
       "      <td>3944</td>\n",
       "      <td>4800</td>\n",
       "      <td>4761</td>\n",
       "      <td>4776</td>\n",
       "    </tr>\n",
       "    <tr>\n",
       "      <th>top</th>\n",
       "      <td>[{\"id\": 18, \"name\": \"Drama\"}]</td>\n",
       "      <td>http://www.missionimpossible.com/</td>\n",
       "      <td>[]</td>\n",
       "      <td>en</td>\n",
       "      <td>Out of the Blue</td>\n",
       "      <td>Ordinary people find extraordinary courage in ...</td>\n",
       "      <td>[]</td>\n",
       "      <td>[{\"iso_3166_1\": \"US\", \"name\": \"United States o...</td>\n",
       "      <td>2006-01-01</td>\n",
       "      <td>[{\"iso_639_1\": \"en\", \"name\": \"English\"}]</td>\n",
       "      <td>Released</td>\n",
       "      <td>Based on a true story.</td>\n",
       "      <td>Batman</td>\n",
       "      <td>[]</td>\n",
       "      <td>[]</td>\n",
       "    </tr>\n",
       "    <tr>\n",
       "      <th>freq</th>\n",
       "      <td>372</td>\n",
       "      <td>4</td>\n",
       "      <td>412</td>\n",
       "      <td>4510</td>\n",
       "      <td>4</td>\n",
       "      <td>2</td>\n",
       "      <td>352</td>\n",
       "      <td>2979</td>\n",
       "      <td>10</td>\n",
       "      <td>3175</td>\n",
       "      <td>4801</td>\n",
       "      <td>3</td>\n",
       "      <td>4</td>\n",
       "      <td>43</td>\n",
       "      <td>28</td>\n",
       "    </tr>\n",
       "  </tbody>\n",
       "</table>\n",
       "</div>"
      ],
      "text/plain": [
       "                               genres                           homepage  \\\n",
       "count                            4809                               1713   \n",
       "unique                           1175                               1691   \n",
       "top     [{\"id\": 18, \"name\": \"Drama\"}]  http://www.missionimpossible.com/   \n",
       "freq                              372                                  4   \n",
       "\n",
       "       keywords original_language   original_title  \\\n",
       "count      4809              4809             4809   \n",
       "unique     4222                37             4801   \n",
       "top          []                en  Out of the Blue   \n",
       "freq        412              4510                4   \n",
       "\n",
       "                                                 overview  \\\n",
       "count                                                4806   \n",
       "unique                                               4800   \n",
       "top     Ordinary people find extraordinary courage in ...   \n",
       "freq                                                    2   \n",
       "\n",
       "       production_companies  \\\n",
       "count                  4809   \n",
       "unique                 3697   \n",
       "top                      []   \n",
       "freq                    352   \n",
       "\n",
       "                                     production_countries release_date  \\\n",
       "count                                                4809         4808   \n",
       "unique                                                469         3280   \n",
       "top     [{\"iso_3166_1\": \"US\", \"name\": \"United States o...   2006-01-01   \n",
       "freq                                                 2979           10   \n",
       "\n",
       "                                spoken_languages    status  \\\n",
       "count                                       4809      4809   \n",
       "unique                                       544         3   \n",
       "top     [{\"iso_639_1\": \"en\", \"name\": \"English\"}]  Released   \n",
       "freq                                        3175      4801   \n",
       "\n",
       "                       tagline   title  cast  crew  \n",
       "count                     3965    4809  4809  4809  \n",
       "unique                    3944    4800  4761  4776  \n",
       "top     Based on a true story.  Batman    []    []  \n",
       "freq                         3       4    43    28  "
      ]
     },
     "execution_count": 21,
     "metadata": {},
     "output_type": "execute_result"
    }
   ],
   "source": [
    "# Displaying the statistical measures of the categorical features of the dataset\n",
    "df.describe(include='O')"
   ]
  },
  {
   "cell_type": "markdown",
   "id": "f54e417a",
   "metadata": {},
   "source": [
    "###### Checking for NaN values"
   ]
  },
  {
   "cell_type": "code",
   "execution_count": 22,
   "id": "c250345f",
   "metadata": {},
   "outputs": [
    {
     "data": {
      "text/plain": [
       "budget                     0\n",
       "genres                     0\n",
       "homepage                3096\n",
       "id                         0\n",
       "keywords                   0\n",
       "original_language          0\n",
       "original_title             0\n",
       "overview                   3\n",
       "popularity                 0\n",
       "production_companies       0\n",
       "production_countries       0\n",
       "release_date               1\n",
       "revenue                    0\n",
       "runtime                    2\n",
       "spoken_languages           0\n",
       "status                     0\n",
       "tagline                  844\n",
       "title                      0\n",
       "vote_average               0\n",
       "vote_count                 0\n",
       "movie_id                   0\n",
       "cast                       0\n",
       "crew                       0\n",
       "dtype: int64"
      ]
     },
     "execution_count": 22,
     "metadata": {},
     "output_type": "execute_result"
    }
   ],
   "source": [
    "df.isnull().sum()"
   ]
  },
  {
   "cell_type": "code",
   "execution_count": 23,
   "id": "4a98eedd",
   "metadata": {},
   "outputs": [
    {
     "data": {
      "text/plain": [
       "<AxesSubplot:>"
      ]
     },
     "execution_count": 23,
     "metadata": {},
     "output_type": "execute_result"
    },
    {
     "data": {
      "image/png": "[encoded data removed]",
      "text/plain": [
       "<Figure size 1800x720 with 2 Axes>"
      ]
     },
     "metadata": {
      "needs_background": "light"
     },
     "output_type": "display_data"
    }
   ],
   "source": [
    "# Visualize missing values as a matrix\n",
    "import missingno as msno\n",
    "msno.matrix(df)"
   ]
  },
  {
   "cell_type": "markdown",
   "id": "0aecfcc4",
   "metadata": {},
   "source": [
    "Inference: There are NaN values in the 'homepage' and 'tagline' features which needs to be handled"
   ]
  },
  {
   "cell_type": "markdown",
   "id": "ff61b7fc",
   "metadata": {},
   "source": [
    "###### DataFrame with numerical features for EDA"
   ]
  },
  {
   "cell_type": "code",
   "execution_count": 24,
   "id": "11abf5b5",
   "metadata": {},
   "outputs": [],
   "source": [
    "df_num = df.select_dtypes(include=np.number)"
   ]
  },
  {
   "cell_type": "code",
   "execution_count": 25,
   "id": "0b082e53",
   "metadata": {},
   "outputs": [
    {
     "data": {
      "text/html": [
       "<div>\n",
       "<style scoped>\n",
       "    .dataframe tbody tr th:only-of-type {\n",
       "        vertical-align: middle;\n",
       "    }\n",
       "\n",
       "    .dataframe tbody tr th {\n",
       "        vertical-align: top;\n",
       "    }\n",
       "\n",
       "    .dataframe thead th {\n",
       "        text-align: right;\n",
       "    }\n",
       "</style>\n",
       "<table border=\"1\" class=\"dataframe\">\n",
       "  <thead>\n",
       "    <tr style=\"text-align: right;\">\n",
       "      <th></th>\n",
       "      <th>budget</th>\n",
       "      <th>id</th>\n",
       "      <th>popularity</th>\n",
       "      <th>revenue</th>\n",
       "      <th>runtime</th>\n",
       "      <th>vote_average</th>\n",
       "      <th>vote_count</th>\n",
       "      <th>movie_id</th>\n",
       "    </tr>\n",
       "  </thead>\n",
       "  <tbody>\n",
       "    <tr>\n",
       "      <th>0</th>\n",
       "      <td>237000000</td>\n",
       "      <td>19995</td>\n",
       "      <td>150.437577</td>\n",
       "      <td>2787965087</td>\n",
       "      <td>162.0</td>\n",
       "      <td>7.2</td>\n",
       "      <td>11800</td>\n",
       "      <td>19995</td>\n",
       "    </tr>\n",
       "    <tr>\n",
       "      <th>1</th>\n",
       "      <td>300000000</td>\n",
       "      <td>285</td>\n",
       "      <td>139.082615</td>\n",
       "      <td>961000000</td>\n",
       "      <td>169.0</td>\n",
       "      <td>6.9</td>\n",
       "      <td>4500</td>\n",
       "      <td>285</td>\n",
       "    </tr>\n",
       "    <tr>\n",
       "      <th>2</th>\n",
       "      <td>245000000</td>\n",
       "      <td>206647</td>\n",
       "      <td>107.376788</td>\n",
       "      <td>880674609</td>\n",
       "      <td>148.0</td>\n",
       "      <td>6.3</td>\n",
       "      <td>4466</td>\n",
       "      <td>206647</td>\n",
       "    </tr>\n",
       "    <tr>\n",
       "      <th>3</th>\n",
       "      <td>250000000</td>\n",
       "      <td>49026</td>\n",
       "      <td>112.312950</td>\n",
       "      <td>1084939099</td>\n",
       "      <td>165.0</td>\n",
       "      <td>7.6</td>\n",
       "      <td>9106</td>\n",
       "      <td>49026</td>\n",
       "    </tr>\n",
       "    <tr>\n",
       "      <th>4</th>\n",
       "      <td>260000000</td>\n",
       "      <td>49529</td>\n",
       "      <td>43.926995</td>\n",
       "      <td>284139100</td>\n",
       "      <td>132.0</td>\n",
       "      <td>6.1</td>\n",
       "      <td>2124</td>\n",
       "      <td>49529</td>\n",
       "    </tr>\n",
       "  </tbody>\n",
       "</table>\n",
       "</div>"
      ],
      "text/plain": [
       "      budget      id  popularity     revenue  runtime  vote_average  \\\n",
       "0  237000000   19995  150.437577  2787965087    162.0           7.2   \n",
       "1  300000000     285  139.082615   961000000    169.0           6.9   \n",
       "2  245000000  206647  107.376788   880674609    148.0           6.3   \n",
       "3  250000000   49026  112.312950  1084939099    165.0           7.6   \n",
       "4  260000000   49529   43.926995   284139100    132.0           6.1   \n",
       "\n",
       "   vote_count  movie_id  \n",
       "0       11800     19995  \n",
       "1        4500       285  \n",
       "2        4466    206647  \n",
       "3        9106     49026  \n",
       "4        2124     49529  "
      ]
     },
     "execution_count": 25,
     "metadata": {},
     "output_type": "execute_result"
    }
   ],
   "source": [
    "df_num.head()"
   ]
  },
  {
   "cell_type": "markdown",
   "id": "63f6dd98",
   "metadata": {},
   "source": [
    "###### Visualization of the numerical features of the dataset using Distribution Plots"
   ]
  },
  {
   "cell_type": "code",
   "execution_count": 26,
   "id": "4ae85897",
   "metadata": {},
   "outputs": [
    {
     "data": {
      "image/png": "[encoded data removed]",
      "text/plain": [
       "<Figure size 432x288 with 1 Axes>"
      ]
     },
     "metadata": {
      "needs_background": "light"
     },
     "output_type": "display_data"
    },
    {
     "data": {
      "image/png": "[encoded data removed]",
      "text/plain": [
       "<Figure size 432x288 with 1 Axes>"
      ]
     },
     "metadata": {
      "needs_background": "light"
     },
     "output_type": "display_data"
    },
    {
     "data": {
      "image/png": "[encoded data removed]",
      "text/plain": [
       "<Figure size 432x288 with 1 Axes>"
      ]
     },
     "metadata": {
      "needs_background": "light"
     },
     "output_type": "display_data"
    },
    {
     "data": {
      "image/png": "[encoded data removed]",
      "text/plain": [
       "<Figure size 432x288 with 1 Axes>"
      ]
     },
     "metadata": {
      "needs_background": "light"
     },
     "output_type": "display_data"
    },
    {
     "data": {
      "image/png": "[encoded data removed]",
      "text/plain": [
       "<Figure size 432x288 with 1 Axes>"
      ]
     },
     "metadata": {
      "needs_background": "light"
     },
     "output_type": "display_data"
    },
    {
     "data": {
      "image/png": "[encoded data removed]",
      "text/plain": [
       "<Figure size 432x288 with 1 Axes>"
      ]
     },
     "metadata": {
      "needs_background": "light"
     },
     "output_type": "display_data"
    },
    {
     "data": {
      "image/png": "[encoded data removed]",
      "text/plain": [
       "<Figure size 432x288 with 1 Axes>"
      ]
     },
     "metadata": {
      "needs_background": "light"
     },
     "output_type": "display_data"
    },
    {
     "data": {
      "image/png": "[encoded data removed]",
      "text/plain": [
       "<Figure size 432x288 with 1 Axes>"
      ]
     },
     "metadata": {
      "needs_background": "light"
     },
     "output_type": "display_data"
    }
   ],
   "source": [
    "for cols in df_num.columns:\n",
    "    distributionplot = sns.distplot(a=df_num[cols], bins=10, hist=True, kde=True)\n",
    "    plt.xlabel(cols)\n",
    "    plt.ylabel('Frequency')\n",
    "    plt.title('Distribution plot for ' + cols)\n",
    "    plt.show()"
   ]
  },
  {
   "cell_type": "markdown",
   "id": "a50997a5",
   "metadata": {},
   "source": [
    "Inference: The data is highly skewed for some features"
   ]
  },
  {
   "cell_type": "code",
   "execution_count": 27,
   "id": "48eacd9a",
   "metadata": {},
   "outputs": [],
   "source": [
    "df_num[[\"year\", \"month\", \"day\"]] = df[\"release_date\"].str.split(\"-\", expand = True)"
   ]
  },
  {
   "cell_type": "code",
   "execution_count": 28,
   "id": "f325d82b",
   "metadata": {},
   "outputs": [
    {
     "data": {
      "text/html": [
       "<div>\n",
       "<style scoped>\n",
       "    .dataframe tbody tr th:only-of-type {\n",
       "        vertical-align: middle;\n",
       "    }\n",
       "\n",
       "    .dataframe tbody tr th {\n",
       "        vertical-align: top;\n",
       "    }\n",
       "\n",
       "    .dataframe thead th {\n",
       "        text-align: right;\n",
       "    }\n",
       "</style>\n",
       "<table border=\"1\" class=\"dataframe\">\n",
       "  <thead>\n",
       "    <tr style=\"text-align: right;\">\n",
       "      <th></th>\n",
       "      <th>budget</th>\n",
       "      <th>id</th>\n",
       "      <th>popularity</th>\n",
       "      <th>revenue</th>\n",
       "      <th>runtime</th>\n",
       "      <th>vote_average</th>\n",
       "      <th>vote_count</th>\n",
       "      <th>movie_id</th>\n",
       "      <th>year</th>\n",
       "      <th>month</th>\n",
       "      <th>day</th>\n",
       "    </tr>\n",
       "  </thead>\n",
       "  <tbody>\n",
       "    <tr>\n",
       "      <th>0</th>\n",
       "      <td>237000000</td>\n",
       "      <td>19995</td>\n",
       "      <td>150.437577</td>\n",
       "      <td>2787965087</td>\n",
       "      <td>162.0</td>\n",
       "      <td>7.2</td>\n",
       "      <td>11800</td>\n",
       "      <td>19995</td>\n",
       "      <td>2009</td>\n",
       "      <td>12</td>\n",
       "      <td>10</td>\n",
       "    </tr>\n",
       "    <tr>\n",
       "      <th>1</th>\n",
       "      <td>300000000</td>\n",
       "      <td>285</td>\n",
       "      <td>139.082615</td>\n",
       "      <td>961000000</td>\n",
       "      <td>169.0</td>\n",
       "      <td>6.9</td>\n",
       "      <td>4500</td>\n",
       "      <td>285</td>\n",
       "      <td>2007</td>\n",
       "      <td>05</td>\n",
       "      <td>19</td>\n",
       "    </tr>\n",
       "  </tbody>\n",
       "</table>\n",
       "</div>"
      ],
      "text/plain": [
       "      budget     id  popularity     revenue  runtime  vote_average  \\\n",
       "0  237000000  19995  150.437577  2787965087    162.0           7.2   \n",
       "1  300000000    285  139.082615   961000000    169.0           6.9   \n",
       "\n",
       "   vote_count  movie_id  year month day  \n",
       "0       11800     19995  2009    12  10  \n",
       "1        4500       285  2007    05  19  "
      ]
     },
     "execution_count": 28,
     "metadata": {},
     "output_type": "execute_result"
    }
   ],
   "source": [
    "df_num.head(2)"
   ]
  },
  {
   "cell_type": "code",
   "execution_count": 29,
   "id": "30750200",
   "metadata": {},
   "outputs": [
    {
     "data": {
      "text/html": [
       "<div>\n",
       "<style scoped>\n",
       "    .dataframe tbody tr th:only-of-type {\n",
       "        vertical-align: middle;\n",
       "    }\n",
       "\n",
       "    .dataframe tbody tr th {\n",
       "        vertical-align: top;\n",
       "    }\n",
       "\n",
       "    .dataframe thead th {\n",
       "        text-align: right;\n",
       "    }\n",
       "</style>\n",
       "<table border=\"1\" class=\"dataframe\">\n",
       "  <thead>\n",
       "    <tr style=\"text-align: right;\">\n",
       "      <th></th>\n",
       "      <th>budget</th>\n",
       "      <th>id</th>\n",
       "      <th>popularity</th>\n",
       "      <th>revenue</th>\n",
       "      <th>runtime</th>\n",
       "      <th>vote_average</th>\n",
       "      <th>vote_count</th>\n",
       "      <th>movie_id</th>\n",
       "      <th>year</th>\n",
       "    </tr>\n",
       "  </thead>\n",
       "  <tbody>\n",
       "    <tr>\n",
       "      <th>0</th>\n",
       "      <td>237000000</td>\n",
       "      <td>19995</td>\n",
       "      <td>150.437577</td>\n",
       "      <td>2787965087</td>\n",
       "      <td>162.0</td>\n",
       "      <td>7.2</td>\n",
       "      <td>11800</td>\n",
       "      <td>19995</td>\n",
       "      <td>2009</td>\n",
       "    </tr>\n",
       "    <tr>\n",
       "      <th>1</th>\n",
       "      <td>300000000</td>\n",
       "      <td>285</td>\n",
       "      <td>139.082615</td>\n",
       "      <td>961000000</td>\n",
       "      <td>169.0</td>\n",
       "      <td>6.9</td>\n",
       "      <td>4500</td>\n",
       "      <td>285</td>\n",
       "      <td>2007</td>\n",
       "    </tr>\n",
       "  </tbody>\n",
       "</table>\n",
       "</div>"
      ],
      "text/plain": [
       "      budget     id  popularity     revenue  runtime  vote_average  \\\n",
       "0  237000000  19995  150.437577  2787965087    162.0           7.2   \n",
       "1  300000000    285  139.082615   961000000    169.0           6.9   \n",
       "\n",
       "   vote_count  movie_id  year  \n",
       "0       11800     19995  2009  \n",
       "1        4500       285  2007  "
      ]
     },
     "execution_count": 29,
     "metadata": {},
     "output_type": "execute_result"
    }
   ],
   "source": [
    "df_num.drop(['month','day'],axis=1).head(2)"
   ]
  },
  {
   "cell_type": "code",
   "execution_count": 30,
   "id": "83357a2e",
   "metadata": {},
   "outputs": [],
   "source": [
    "df_num['year']=df_num['year'].dropna().astype(int)"
   ]
  },
  {
   "cell_type": "code",
   "execution_count": 31,
   "id": "a82c7ae2",
   "metadata": {},
   "outputs": [
    {
     "data": {
      "image/png": "[encoded data removed]",
      "text/plain": [
       "<Figure size 432x288 with 1 Axes>"
      ]
     },
     "metadata": {
      "needs_background": "light"
     },
     "output_type": "display_data"
    }
   ],
   "source": [
    "histplots = plt.hist(x=df_num['year'],edgecolor='w',bins=10)\n",
    "plt.xlabel('Years')\n",
    "plt.ylabel('Count')\n",
    "plt.title('Histogram for year')\n",
    "plt.show()"
   ]
  },
  {
   "cell_type": "code",
   "execution_count": 32,
   "id": "c79f3f6a",
   "metadata": {},
   "outputs": [],
   "source": [
    "df['year']=df_num['year']"
   ]
  },
  {
   "cell_type": "markdown",
   "id": "3c204f08",
   "metadata": {},
   "source": [
    "###### DataFrame with categorical features for EDA"
   ]
  },
  {
   "cell_type": "code",
   "execution_count": 33,
   "id": "8747481d",
   "metadata": {},
   "outputs": [],
   "source": [
    "df_cat = df.select_dtypes(include= 'O')"
   ]
  },
  {
   "cell_type": "code",
   "execution_count": 34,
   "id": "ff14a88b",
   "metadata": {},
   "outputs": [
    {
     "data": {
      "text/html": [
       "<div>\n",
       "<style scoped>\n",
       "    .dataframe tbody tr th:only-of-type {\n",
       "        vertical-align: middle;\n",
       "    }\n",
       "\n",
       "    .dataframe tbody tr th {\n",
       "        vertical-align: top;\n",
       "    }\n",
       "\n",
       "    .dataframe thead th {\n",
       "        text-align: right;\n",
       "    }\n",
       "</style>\n",
       "<table border=\"1\" class=\"dataframe\">\n",
       "  <thead>\n",
       "    <tr style=\"text-align: right;\">\n",
       "      <th></th>\n",
       "      <th>genres</th>\n",
       "      <th>homepage</th>\n",
       "      <th>keywords</th>\n",
       "      <th>original_language</th>\n",
       "      <th>original_title</th>\n",
       "      <th>overview</th>\n",
       "      <th>production_companies</th>\n",
       "      <th>production_countries</th>\n",
       "      <th>release_date</th>\n",
       "      <th>spoken_languages</th>\n",
       "      <th>status</th>\n",
       "      <th>tagline</th>\n",
       "      <th>title</th>\n",
       "      <th>cast</th>\n",
       "      <th>crew</th>\n",
       "    </tr>\n",
       "  </thead>\n",
       "  <tbody>\n",
       "    <tr>\n",
       "      <th>0</th>\n",
       "      <td>[{\"id\": 28, \"name\": \"Action\"}, {\"id\": 12, \"nam...</td>\n",
       "      <td>http://www.avatarmovie.com/</td>\n",
       "      <td>[{\"id\": 1463, \"name\": \"culture clash\"}, {\"id\":...</td>\n",
       "      <td>en</td>\n",
       "      <td>Avatar</td>\n",
       "      <td>In the 22nd century, a paraplegic Marine is di...</td>\n",
       "      <td>[{\"name\": \"Ingenious Film Partners\", \"id\": 289...</td>\n",
       "      <td>[{\"iso_3166_1\": \"US\", \"name\": \"United States o...</td>\n",
       "      <td>2009-12-10</td>\n",
       "      <td>[{\"iso_639_1\": \"en\", \"name\": \"English\"}, {\"iso...</td>\n",
       "      <td>Released</td>\n",
       "      <td>Enter the World of Pandora.</td>\n",
       "      <td>Avatar</td>\n",
       "      <td>[{\"cast_id\": 242, \"character\": \"Jake Sully\", \"...</td>\n",
       "      <td>[{\"credit_id\": \"52fe48009251416c750aca23\", \"de...</td>\n",
       "    </tr>\n",
       "    <tr>\n",
       "      <th>1</th>\n",
       "      <td>[{\"id\": 12, \"name\": \"Adventure\"}, {\"id\": 14, \"...</td>\n",
       "      <td>http://disney.go.com/disneypictures/pirates/</td>\n",
       "      <td>[{\"id\": 270, \"name\": \"ocean\"}, {\"id\": 726, \"na...</td>\n",
       "      <td>en</td>\n",
       "      <td>Pirates of the Caribbean: At World's End</td>\n",
       "      <td>Captain Barbossa, long believed to be dead, ha...</td>\n",
       "      <td>[{\"name\": \"Walt Disney Pictures\", \"id\": 2}, {\"...</td>\n",
       "      <td>[{\"iso_3166_1\": \"US\", \"name\": \"United States o...</td>\n",
       "      <td>2007-05-19</td>\n",
       "      <td>[{\"iso_639_1\": \"en\", \"name\": \"English\"}]</td>\n",
       "      <td>Released</td>\n",
       "      <td>At the end of the world, the adventure begins.</td>\n",
       "      <td>Pirates of the Caribbean: At World's End</td>\n",
       "      <td>[{\"cast_id\": 4, \"character\": \"Captain Jack Spa...</td>\n",
       "      <td>[{\"credit_id\": \"52fe4232c3a36847f800b579\", \"de...</td>\n",
       "    </tr>\n",
       "    <tr>\n",
       "      <th>2</th>\n",
       "      <td>[{\"id\": 28, \"name\": \"Action\"}, {\"id\": 12, \"nam...</td>\n",
       "      <td>http://www.sonypictures.com/movies/spectre/</td>\n",
       "      <td>[{\"id\": 470, \"name\": \"spy\"}, {\"id\": 818, \"name...</td>\n",
       "      <td>en</td>\n",
       "      <td>Spectre</td>\n",
       "      <td>A cryptic message from Bond’s past sends him o...</td>\n",
       "      <td>[{\"name\": \"Columbia Pictures\", \"id\": 5}, {\"nam...</td>\n",
       "      <td>[{\"iso_3166_1\": \"GB\", \"name\": \"United Kingdom\"...</td>\n",
       "      <td>2015-10-26</td>\n",
       "      <td>[{\"iso_639_1\": \"fr\", \"name\": \"Fran\\u00e7ais\"},...</td>\n",
       "      <td>Released</td>\n",
       "      <td>A Plan No One Escapes</td>\n",
       "      <td>Spectre</td>\n",
       "      <td>[{\"cast_id\": 1, \"character\": \"James Bond\", \"cr...</td>\n",
       "      <td>[{\"credit_id\": \"54805967c3a36829b5002c41\", \"de...</td>\n",
       "    </tr>\n",
       "    <tr>\n",
       "      <th>3</th>\n",
       "      <td>[{\"id\": 28, \"name\": \"Action\"}, {\"id\": 80, \"nam...</td>\n",
       "      <td>http://www.thedarkknightrises.com/</td>\n",
       "      <td>[{\"id\": 849, \"name\": \"dc comics\"}, {\"id\": 853,...</td>\n",
       "      <td>en</td>\n",
       "      <td>The Dark Knight Rises</td>\n",
       "      <td>Following the death of District Attorney Harve...</td>\n",
       "      <td>[{\"name\": \"Legendary Pictures\", \"id\": 923}, {\"...</td>\n",
       "      <td>[{\"iso_3166_1\": \"US\", \"name\": \"United States o...</td>\n",
       "      <td>2012-07-16</td>\n",
       "      <td>[{\"iso_639_1\": \"en\", \"name\": \"English\"}]</td>\n",
       "      <td>Released</td>\n",
       "      <td>The Legend Ends</td>\n",
       "      <td>The Dark Knight Rises</td>\n",
       "      <td>[{\"cast_id\": 2, \"character\": \"Bruce Wayne / Ba...</td>\n",
       "      <td>[{\"credit_id\": \"52fe4781c3a36847f81398c3\", \"de...</td>\n",
       "    </tr>\n",
       "    <tr>\n",
       "      <th>4</th>\n",
       "      <td>[{\"id\": 28, \"name\": \"Action\"}, {\"id\": 12, \"nam...</td>\n",
       "      <td>http://movies.disney.com/john-carter</td>\n",
       "      <td>[{\"id\": 818, \"name\": \"based on novel\"}, {\"id\":...</td>\n",
       "      <td>en</td>\n",
       "      <td>John Carter</td>\n",
       "      <td>John Carter is a war-weary, former military ca...</td>\n",
       "      <td>[{\"name\": \"Walt Disney Pictures\", \"id\": 2}]</td>\n",
       "      <td>[{\"iso_3166_1\": \"US\", \"name\": \"United States o...</td>\n",
       "      <td>2012-03-07</td>\n",
       "      <td>[{\"iso_639_1\": \"en\", \"name\": \"English\"}]</td>\n",
       "      <td>Released</td>\n",
       "      <td>Lost in our world, found in another.</td>\n",
       "      <td>John Carter</td>\n",
       "      <td>[{\"cast_id\": 5, \"character\": \"John Carter\", \"c...</td>\n",
       "      <td>[{\"credit_id\": \"52fe479ac3a36847f813eaa3\", \"de...</td>\n",
       "    </tr>\n",
       "  </tbody>\n",
       "</table>\n",
       "</div>"
      ],
      "text/plain": [
       "                                              genres  \\\n",
       "0  [{\"id\": 28, \"name\": \"Action\"}, {\"id\": 12, \"nam...   \n",
       "1  [{\"id\": 12, \"name\": \"Adventure\"}, {\"id\": 14, \"...   \n",
       "2  [{\"id\": 28, \"name\": \"Action\"}, {\"id\": 12, \"nam...   \n",
       "3  [{\"id\": 28, \"name\": \"Action\"}, {\"id\": 80, \"nam...   \n",
       "4  [{\"id\": 28, \"name\": \"Action\"}, {\"id\": 12, \"nam...   \n",
       "\n",
       "                                       homepage  \\\n",
       "0                   http://www.avatarmovie.com/   \n",
       "1  http://disney.go.com/disneypictures/pirates/   \n",
       "2   http://www.sonypictures.com/movies/spectre/   \n",
       "3            http://www.thedarkknightrises.com/   \n",
       "4          http://movies.disney.com/john-carter   \n",
       "\n",
       "                                            keywords original_language  \\\n",
       "0  [{\"id\": 1463, \"name\": \"culture clash\"}, {\"id\":...                en   \n",
       "1  [{\"id\": 270, \"name\": \"ocean\"}, {\"id\": 726, \"na...                en   \n",
       "2  [{\"id\": 470, \"name\": \"spy\"}, {\"id\": 818, \"name...                en   \n",
       "3  [{\"id\": 849, \"name\": \"dc comics\"}, {\"id\": 853,...                en   \n",
       "4  [{\"id\": 818, \"name\": \"based on novel\"}, {\"id\":...                en   \n",
       "\n",
       "                             original_title  \\\n",
       "0                                    Avatar   \n",
       "1  Pirates of the Caribbean: At World's End   \n",
       "2                                   Spectre   \n",
       "3                     The Dark Knight Rises   \n",
       "4                               John Carter   \n",
       "\n",
       "                                            overview  \\\n",
       "0  In the 22nd century, a paraplegic Marine is di...   \n",
       "1  Captain Barbossa, long believed to be dead, ha...   \n",
       "2  A cryptic message from Bond’s past sends him o...   \n",
       "3  Following the death of District Attorney Harve...   \n",
       "4  John Carter is a war-weary, former military ca...   \n",
       "\n",
       "                                production_companies  \\\n",
       "0  [{\"name\": \"Ingenious Film Partners\", \"id\": 289...   \n",
       "1  [{\"name\": \"Walt Disney Pictures\", \"id\": 2}, {\"...   \n",
       "2  [{\"name\": \"Columbia Pictures\", \"id\": 5}, {\"nam...   \n",
       "3  [{\"name\": \"Legendary Pictures\", \"id\": 923}, {\"...   \n",
       "4        [{\"name\": \"Walt Disney Pictures\", \"id\": 2}]   \n",
       "\n",
       "                                production_countries release_date  \\\n",
       "0  [{\"iso_3166_1\": \"US\", \"name\": \"United States o...   2009-12-10   \n",
       "1  [{\"iso_3166_1\": \"US\", \"name\": \"United States o...   2007-05-19   \n",
       "2  [{\"iso_3166_1\": \"GB\", \"name\": \"United Kingdom\"...   2015-10-26   \n",
       "3  [{\"iso_3166_1\": \"US\", \"name\": \"United States o...   2012-07-16   \n",
       "4  [{\"iso_3166_1\": \"US\", \"name\": \"United States o...   2012-03-07   \n",
       "\n",
       "                                    spoken_languages    status  \\\n",
       "0  [{\"iso_639_1\": \"en\", \"name\": \"English\"}, {\"iso...  Released   \n",
       "1           [{\"iso_639_1\": \"en\", \"name\": \"English\"}]  Released   \n",
       "2  [{\"iso_639_1\": \"fr\", \"name\": \"Fran\\u00e7ais\"},...  Released   \n",
       "3           [{\"iso_639_1\": \"en\", \"name\": \"English\"}]  Released   \n",
       "4           [{\"iso_639_1\": \"en\", \"name\": \"English\"}]  Released   \n",
       "\n",
       "                                          tagline  \\\n",
       "0                     Enter the World of Pandora.   \n",
       "1  At the end of the world, the adventure begins.   \n",
       "2                           A Plan No One Escapes   \n",
       "3                                 The Legend Ends   \n",
       "4            Lost in our world, found in another.   \n",
       "\n",
       "                                      title  \\\n",
       "0                                    Avatar   \n",
       "1  Pirates of the Caribbean: At World's End   \n",
       "2                                   Spectre   \n",
       "3                     The Dark Knight Rises   \n",
       "4                               John Carter   \n",
       "\n",
       "                                                cast  \\\n",
       "0  [{\"cast_id\": 242, \"character\": \"Jake Sully\", \"...   \n",
       "1  [{\"cast_id\": 4, \"character\": \"Captain Jack Spa...   \n",
       "2  [{\"cast_id\": 1, \"character\": \"James Bond\", \"cr...   \n",
       "3  [{\"cast_id\": 2, \"character\": \"Bruce Wayne / Ba...   \n",
       "4  [{\"cast_id\": 5, \"character\": \"John Carter\", \"c...   \n",
       "\n",
       "                                                crew  \n",
       "0  [{\"credit_id\": \"52fe48009251416c750aca23\", \"de...  \n",
       "1  [{\"credit_id\": \"52fe4232c3a36847f800b579\", \"de...  \n",
       "2  [{\"credit_id\": \"54805967c3a36829b5002c41\", \"de...  \n",
       "3  [{\"credit_id\": \"52fe4781c3a36847f81398c3\", \"de...  \n",
       "4  [{\"credit_id\": \"52fe479ac3a36847f813eaa3\", \"de...  "
      ]
     },
     "execution_count": 34,
     "metadata": {},
     "output_type": "execute_result"
    }
   ],
   "source": [
    "df_cat.head()"
   ]
  },
  {
   "cell_type": "markdown",
   "id": "d3f8567c",
   "metadata": {},
   "source": [
    "###### Visualization of the categorical features of the dataset using Count Plots"
   ]
  },
  {
   "cell_type": "code",
   "execution_count": 35,
   "id": "15e5abda",
   "metadata": {},
   "outputs": [
    {
     "data": {
      "image/png": "[encoded data removed]",
      "text/plain": [
       "<Figure size 432x288 with 1 Axes>"
      ]
     },
     "metadata": {
      "needs_background": "light"
     },
     "output_type": "display_data"
    },
    {
     "data": {
      "image/png": "[encoded data removed]",
      "text/plain": [
       "<Figure size 432x288 with 1 Axes>"
      ]
     },
     "metadata": {
      "needs_background": "light"
     },
     "output_type": "display_data"
    }
   ],
   "source": [
    "for cols in ['original_language','status']:\n",
    "    countplots = sns.countplot(x=df_cat[cols], data=df_cat, palette='Set1')\n",
    "    plt.xlabel(cols)\n",
    "    plt.ylabel('Count')\n",
    "    plt.title('Count Plot for ' + cols)\n",
    "    plt.show()"
   ]
  },
  {
   "cell_type": "markdown",
   "id": "3fe0132d",
   "metadata": {},
   "source": [
    "###### Displaying the cardinality and unique categories of each categroical feature"
   ]
  },
  {
   "cell_type": "code",
   "execution_count": 36,
   "id": "3d48dee4",
   "metadata": {},
   "outputs": [
    {
     "name": "stdout",
     "output_type": "stream",
     "text": [
      "Number of unique categories in df[genres] are 1175\n",
      "\n",
      "\n",
      "Number of unique categories in df[homepage] are 1691\n",
      "\n",
      "\n",
      "Number of unique categories in df[keywords] are 4222\n",
      "\n",
      "\n",
      "Number of unique categories in df[original_language] are 37\n",
      "\n",
      "\n",
      "Number of unique categories in df[original_title] are 4801\n",
      "\n",
      "\n",
      "Number of unique categories in df[overview] are 4800\n",
      "\n",
      "\n",
      "Number of unique categories in df[production_companies] are 3697\n",
      "\n",
      "\n",
      "Number of unique categories in df[production_countries] are 469\n",
      "\n",
      "\n",
      "Number of unique categories in df[release_date] are 3280\n",
      "\n",
      "\n",
      "Number of unique categories in df[spoken_languages] are 544\n",
      "\n",
      "\n",
      "Number of unique categories in df[status] are 3\n",
      "\n",
      "\n",
      "Number of unique categories in df[tagline] are 3944\n",
      "\n",
      "\n",
      "Number of unique categories in df[title] are 4800\n",
      "\n",
      "\n",
      "Number of unique categories in df[cast] are 4761\n",
      "\n",
      "\n",
      "Number of unique categories in df[crew] are 4776\n",
      "\n",
      "\n"
     ]
    }
   ],
   "source": [
    "for cols in df_cat.columns:\n",
    "    print(\"Number of unique categories in df[{}] are {}\".format(cols,  df[cols].nunique()))\n",
    "#     print(\"Unique categories in df[{}] are {}\".format(cols, df[cols].unique()))\n",
    "    print(\"\\n\")"
   ]
  },
  {
   "cell_type": "markdown",
   "id": "52588f7a",
   "metadata": {},
   "source": [
    "#### Step 4: Feature Selection\n",
    "This step involves the selection of critical features while dropping the unnecessary features."
   ]
  },
  {
   "cell_type": "code",
   "execution_count": 37,
   "id": "5e58e95c",
   "metadata": {},
   "outputs": [
    {
     "data": {
      "text/plain": [
       "<AxesSubplot:>"
      ]
     },
     "execution_count": 37,
     "metadata": {},
     "output_type": "execute_result"
    },
    {
     "data": {
      "image/png": "[encoded data removed]",
      "text/plain": [
       "<Figure size 1080x864 with 2 Axes>"
      ]
     },
     "metadata": {
      "needs_background": "light"
     },
     "output_type": "display_data"
    }
   ],
   "source": [
    "plt.figure(figsize=(15,12))\n",
    "sns.heatmap(df.corr(), annot=True, cmap=\"inferno\")"
   ]
  },
  {
   "cell_type": "code",
   "execution_count": 38,
   "id": "9ff63033",
   "metadata": {},
   "outputs": [],
   "source": [
    "def correlation(dataset, threshold):\n",
    "    col_corr = set()\n",
    "    corr_matrix = dataset.corr()\n",
    "    for i in range(len(corr_matrix.columns)):\n",
    "        for j in range(i):\n",
    "            if (corr_matrix.iloc[i,j])>threshold:\n",
    "                colname = corr_matrix.columns[i]\n",
    "                col_corr.add(colname)\n",
    "    return col_corr        "
   ]
  },
  {
   "cell_type": "code",
   "execution_count": 39,
   "id": "02dbc2fe",
   "metadata": {},
   "outputs": [],
   "source": [
    "corr_features = correlation(df, 0.85)"
   ]
  },
  {
   "cell_type": "code",
   "execution_count": 40,
   "id": "93836420",
   "metadata": {},
   "outputs": [
    {
     "data": {
      "text/plain": [
       "{'movie_id'}"
      ]
     },
     "execution_count": 40,
     "metadata": {},
     "output_type": "execute_result"
    }
   ],
   "source": [
    "corr_features"
   ]
  },
  {
   "cell_type": "code",
   "execution_count": 41,
   "id": "304955fe",
   "metadata": {},
   "outputs": [
    {
     "data": {
      "text/plain": [
       "Index(['budget', 'genres', 'homepage', 'id', 'keywords', 'original_language',\n",
       "       'original_title', 'overview', 'popularity', 'production_companies',\n",
       "       'production_countries', 'release_date', 'revenue', 'runtime',\n",
       "       'spoken_languages', 'status', 'tagline', 'title', 'vote_average',\n",
       "       'vote_count', 'movie_id', 'cast', 'crew', 'year'],\n",
       "      dtype='object')"
      ]
     },
     "execution_count": 41,
     "metadata": {},
     "output_type": "execute_result"
    }
   ],
   "source": [
    "df.columns"
   ]
  },
  {
   "cell_type": "markdown",
   "id": "044cf6a7",
   "metadata": {},
   "source": [
    "Inference: movie_id should be dropped"
   ]
  },
  {
   "cell_type": "markdown",
   "id": "1e0e7c98",
   "metadata": {},
   "source": [
    "###### As per the problem statement and domain knowledge, the following features should be dropped\n",
    "\n",
    "-> budget\n",
    "\n",
    "-> homepage\n",
    "\n",
    "-> keywords\n",
    "\n",
    "-> original_title\n",
    "\n",
    "-> overview\n",
    "\n",
    "-> production_companies\n",
    "\n",
    "-> production_countries\n",
    "\n",
    "-> release_date \n",
    "\n",
    "-> spoken_languages\n",
    "\n",
    "-> status\n",
    "\n",
    "-> tagline\n",
    "\n",
    "-> movie_id"
   ]
  },
  {
   "cell_type": "code",
   "execution_count": 42,
   "id": "fd3ba354",
   "metadata": {},
   "outputs": [],
   "source": [
    "df = df.drop(['movie_id', 'homepage', 'original_title', 'production_companies', 'production_countries', 'release_date', 'spoken_languages', 'status', 'tagline', 'movie_id'], axis=1).head(2)"
   ]
  },
  {
   "cell_type": "code",
   "execution_count": 43,
   "id": "f1ef06c7",
   "metadata": {},
   "outputs": [
    {
     "data": {
      "text/html": [
       "<div>\n",
       "<style scoped>\n",
       "    .dataframe tbody tr th:only-of-type {\n",
       "        vertical-align: middle;\n",
       "    }\n",
       "\n",
       "    .dataframe tbody tr th {\n",
       "        vertical-align: top;\n",
       "    }\n",
       "\n",
       "    .dataframe thead th {\n",
       "        text-align: right;\n",
       "    }\n",
       "</style>\n",
       "<table border=\"1\" class=\"dataframe\">\n",
       "  <thead>\n",
       "    <tr style=\"text-align: right;\">\n",
       "      <th></th>\n",
       "      <th>budget</th>\n",
       "      <th>genres</th>\n",
       "      <th>id</th>\n",
       "      <th>keywords</th>\n",
       "      <th>original_language</th>\n",
       "      <th>overview</th>\n",
       "      <th>popularity</th>\n",
       "      <th>revenue</th>\n",
       "      <th>runtime</th>\n",
       "      <th>title</th>\n",
       "      <th>vote_average</th>\n",
       "      <th>vote_count</th>\n",
       "      <th>cast</th>\n",
       "      <th>crew</th>\n",
       "      <th>year</th>\n",
       "    </tr>\n",
       "  </thead>\n",
       "  <tbody>\n",
       "    <tr>\n",
       "      <th>0</th>\n",
       "      <td>237000000</td>\n",
       "      <td>[{\"id\": 28, \"name\": \"Action\"}, {\"id\": 12, \"nam...</td>\n",
       "      <td>19995</td>\n",
       "      <td>[{\"id\": 1463, \"name\": \"culture clash\"}, {\"id\":...</td>\n",
       "      <td>en</td>\n",
       "      <td>In the 22nd century, a paraplegic Marine is di...</td>\n",
       "      <td>150.437577</td>\n",
       "      <td>2787965087</td>\n",
       "      <td>162.0</td>\n",
       "      <td>Avatar</td>\n",
       "      <td>7.2</td>\n",
       "      <td>11800</td>\n",
       "      <td>[{\"cast_id\": 242, \"character\": \"Jake Sully\", \"...</td>\n",
       "      <td>[{\"credit_id\": \"52fe48009251416c750aca23\", \"de...</td>\n",
       "      <td>2009.0</td>\n",
       "    </tr>\n",
       "    <tr>\n",
       "      <th>1</th>\n",
       "      <td>300000000</td>\n",
       "      <td>[{\"id\": 12, \"name\": \"Adventure\"}, {\"id\": 14, \"...</td>\n",
       "      <td>285</td>\n",
       "      <td>[{\"id\": 270, \"name\": \"ocean\"}, {\"id\": 726, \"na...</td>\n",
       "      <td>en</td>\n",
       "      <td>Captain Barbossa, long believed to be dead, ha...</td>\n",
       "      <td>139.082615</td>\n",
       "      <td>961000000</td>\n",
       "      <td>169.0</td>\n",
       "      <td>Pirates of the Caribbean: At World's End</td>\n",
       "      <td>6.9</td>\n",
       "      <td>4500</td>\n",
       "      <td>[{\"cast_id\": 4, \"character\": \"Captain Jack Spa...</td>\n",
       "      <td>[{\"credit_id\": \"52fe4232c3a36847f800b579\", \"de...</td>\n",
       "      <td>2007.0</td>\n",
       "    </tr>\n",
       "  </tbody>\n",
       "</table>\n",
       "</div>"
      ],
      "text/plain": [
       "      budget                                             genres     id  \\\n",
       "0  237000000  [{\"id\": 28, \"name\": \"Action\"}, {\"id\": 12, \"nam...  19995   \n",
       "1  300000000  [{\"id\": 12, \"name\": \"Adventure\"}, {\"id\": 14, \"...    285   \n",
       "\n",
       "                                            keywords original_language  \\\n",
       "0  [{\"id\": 1463, \"name\": \"culture clash\"}, {\"id\":...                en   \n",
       "1  [{\"id\": 270, \"name\": \"ocean\"}, {\"id\": 726, \"na...                en   \n",
       "\n",
       "                                            overview  popularity     revenue  \\\n",
       "0  In the 22nd century, a paraplegic Marine is di...  150.437577  2787965087   \n",
       "1  Captain Barbossa, long believed to be dead, ha...  139.082615   961000000   \n",
       "\n",
       "   runtime                                     title  vote_average  \\\n",
       "0    162.0                                    Avatar           7.2   \n",
       "1    169.0  Pirates of the Caribbean: At World's End           6.9   \n",
       "\n",
       "   vote_count                                               cast  \\\n",
       "0       11800  [{\"cast_id\": 242, \"character\": \"Jake Sully\", \"...   \n",
       "1        4500  [{\"cast_id\": 4, \"character\": \"Captain Jack Spa...   \n",
       "\n",
       "                                                crew    year  \n",
       "0  [{\"credit_id\": \"52fe48009251416c750aca23\", \"de...  2009.0  \n",
       "1  [{\"credit_id\": \"52fe4232c3a36847f800b579\", \"de...  2007.0  "
      ]
     },
     "execution_count": 43,
     "metadata": {},
     "output_type": "execute_result"
    }
   ],
   "source": [
    "df.head(2)"
   ]
  },
  {
   "cell_type": "code",
   "execution_count": 44,
   "id": "ad8dae6f",
   "metadata": {
    "scrolled": true
   },
   "outputs": [
    {
     "data": {
      "text/plain": [
       "budget                 int64\n",
       "genres                object\n",
       "id                     int64\n",
       "keywords              object\n",
       "original_language     object\n",
       "overview              object\n",
       "popularity           float64\n",
       "revenue                int64\n",
       "runtime              float64\n",
       "title                 object\n",
       "vote_average         float64\n",
       "vote_count             int64\n",
       "cast                  object\n",
       "crew                  object\n",
       "year                 float64\n",
       "dtype: object"
      ]
     },
     "execution_count": 44,
     "metadata": {},
     "output_type": "execute_result"
    }
   ],
   "source": [
    "df.dtypes"
   ]
  },
  {
   "cell_type": "markdown",
   "id": "16ecb7e7",
   "metadata": {},
   "source": [
    "#### Step 5: Feature Engineering\n"
   ]
  },
  {
   "cell_type": "code",
   "execution_count": 45,
   "id": "1e143d56",
   "metadata": {},
   "outputs": [
    {
     "data": {
      "text/plain": [
       "budget               0\n",
       "genres               0\n",
       "id                   0\n",
       "keywords             0\n",
       "original_language    0\n",
       "overview             0\n",
       "popularity           0\n",
       "revenue              0\n",
       "runtime              0\n",
       "title                0\n",
       "vote_average         0\n",
       "vote_count           0\n",
       "cast                 0\n",
       "crew                 0\n",
       "year                 0\n",
       "dtype: int64"
      ]
     },
     "execution_count": 45,
     "metadata": {},
     "output_type": "execute_result"
    }
   ],
   "source": [
    "df.isnull().sum()"
   ]
  },
  {
   "cell_type": "code",
   "execution_count": 46,
   "id": "54e51ef1",
   "metadata": {},
   "outputs": [
    {
     "data": {
      "text/html": [
       "<div>\n",
       "<style scoped>\n",
       "    .dataframe tbody tr th:only-of-type {\n",
       "        vertical-align: middle;\n",
       "    }\n",
       "\n",
       "    .dataframe tbody tr th {\n",
       "        vertical-align: top;\n",
       "    }\n",
       "\n",
       "    .dataframe thead th {\n",
       "        text-align: right;\n",
       "    }\n",
       "</style>\n",
       "<table border=\"1\" class=\"dataframe\">\n",
       "  <thead>\n",
       "    <tr style=\"text-align: right;\">\n",
       "      <th></th>\n",
       "      <th>budget</th>\n",
       "      <th>id</th>\n",
       "      <th>popularity</th>\n",
       "      <th>revenue</th>\n",
       "      <th>runtime</th>\n",
       "      <th>vote_average</th>\n",
       "      <th>vote_count</th>\n",
       "      <th>year</th>\n",
       "    </tr>\n",
       "  </thead>\n",
       "  <tbody>\n",
       "    <tr>\n",
       "      <th>0</th>\n",
       "      <td>237000000</td>\n",
       "      <td>19995</td>\n",
       "      <td>150.437577</td>\n",
       "      <td>2787965087</td>\n",
       "      <td>162.0</td>\n",
       "      <td>7.2</td>\n",
       "      <td>11800</td>\n",
       "      <td>2009.0</td>\n",
       "    </tr>\n",
       "    <tr>\n",
       "      <th>1</th>\n",
       "      <td>300000000</td>\n",
       "      <td>285</td>\n",
       "      <td>139.082615</td>\n",
       "      <td>961000000</td>\n",
       "      <td>169.0</td>\n",
       "      <td>6.9</td>\n",
       "      <td>4500</td>\n",
       "      <td>2007.0</td>\n",
       "    </tr>\n",
       "  </tbody>\n",
       "</table>\n",
       "</div>"
      ],
      "text/plain": [
       "      budget     id  popularity     revenue  runtime  vote_average  \\\n",
       "0  237000000  19995  150.437577  2787965087    162.0           7.2   \n",
       "1  300000000    285  139.082615   961000000    169.0           6.9   \n",
       "\n",
       "   vote_count    year  \n",
       "0       11800  2009.0  \n",
       "1        4500  2007.0  "
      ]
     },
     "execution_count": 46,
     "metadata": {},
     "output_type": "execute_result"
    }
   ],
   "source": [
    "cols = df.select_dtypes(include=np.number)\n",
    "cols"
   ]
  },
  {
   "cell_type": "code",
   "execution_count": 47,
   "id": "324f0919",
   "metadata": {},
   "outputs": [
    {
     "data": {
      "image/png": "[encoded data removed]",
      "text/plain": [
       "<Figure size 432x288 with 1 Axes>"
      ]
     },
     "metadata": {
      "needs_background": "light"
     },
     "output_type": "display_data"
    },
    {
     "data": {
      "image/png": "[encoded data removed]",
      "text/plain": [
       "<Figure size 432x288 with 1 Axes>"
      ]
     },
     "metadata": {
      "needs_background": "light"
     },
     "output_type": "display_data"
    },
    {
     "data": {
      "image/png": "[encoded data removed]",
      "text/plain": [
       "<Figure size 432x288 with 1 Axes>"
      ]
     },
     "metadata": {
      "needs_background": "light"
     },
     "output_type": "display_data"
    },
    {
     "data": {
      "image/png": "[encoded data removed]",
      "text/plain": [
       "<Figure size 432x288 with 1 Axes>"
      ]
     },
     "metadata": {
      "needs_background": "light"
     },
     "output_type": "display_data"
    },
    {
     "data": {
      "image/png": "[encoded data removed]",
      "text/plain": [
       "<Figure size 432x288 with 1 Axes>"
      ]
     },
     "metadata": {
      "needs_background": "light"
     },
     "output_type": "display_data"
    },
    {
     "data": {
      "image/png": "[encoded data removed]",
      "text/plain": [
       "<Figure size 432x288 with 1 Axes>"
      ]
     },
     "metadata": {
      "needs_background": "light"
     },
     "output_type": "display_data"
    },
    {
     "data": {
      "image/png": "[encoded data removed]",
      "text/plain": [
       "<Figure size 432x288 with 1 Axes>"
      ]
     },
     "metadata": {
      "needs_background": "light"
     },
     "output_type": "display_data"
    },
    {
     "data": {
      "image/png": "[encoded data removed]",
      "text/plain": [
       "<Figure size 432x288 with 1 Axes>"
      ]
     },
     "metadata": {
      "needs_background": "light"
     },
     "output_type": "display_data"
    }
   ],
   "source": [
    "for col in cols:\n",
    "    bp = sns.boxplot(df[col])\n",
    "    plt.xlabel(col)\n",
    "    plt.title('Boxplot for ' + col)\n",
    "    plt.show()"
   ]
  },
  {
   "cell_type": "markdown",
   "id": "006802a7",
   "metadata": {},
   "source": [
    "Inference: There are no NaN values and outliers in the dataset"
   ]
  },
  {
   "cell_type": "code",
   "execution_count": 48,
   "id": "b31dcaaf",
   "metadata": {},
   "outputs": [],
   "source": [
    "import ast"
   ]
  },
  {
   "cell_type": "code",
   "execution_count": 49,
   "id": "da362384",
   "metadata": {},
   "outputs": [],
   "source": [
    "def convert(text):\n",
    "    L = []\n",
    "    for i in ast.literal_eval(text):\n",
    "        L.append(i['name']) \n",
    "    return L "
   ]
  },
  {
   "cell_type": "code",
   "execution_count": 50,
   "id": "8c27f1e6",
   "metadata": {},
   "outputs": [
    {
     "data": {
      "text/html": [
       "<div>\n",
       "<style scoped>\n",
       "    .dataframe tbody tr th:only-of-type {\n",
       "        vertical-align: middle;\n",
       "    }\n",
       "\n",
       "    .dataframe tbody tr th {\n",
       "        vertical-align: top;\n",
       "    }\n",
       "\n",
       "    .dataframe thead th {\n",
       "        text-align: right;\n",
       "    }\n",
       "</style>\n",
       "<table border=\"1\" class=\"dataframe\">\n",
       "  <thead>\n",
       "    <tr style=\"text-align: right;\">\n",
       "      <th></th>\n",
       "      <th>budget</th>\n",
       "      <th>genres</th>\n",
       "      <th>id</th>\n",
       "      <th>keywords</th>\n",
       "      <th>original_language</th>\n",
       "      <th>overview</th>\n",
       "      <th>popularity</th>\n",
       "      <th>revenue</th>\n",
       "      <th>runtime</th>\n",
       "      <th>title</th>\n",
       "      <th>vote_average</th>\n",
       "      <th>vote_count</th>\n",
       "      <th>cast</th>\n",
       "      <th>crew</th>\n",
       "      <th>year</th>\n",
       "    </tr>\n",
       "  </thead>\n",
       "  <tbody>\n",
       "    <tr>\n",
       "      <th>0</th>\n",
       "      <td>237000000</td>\n",
       "      <td>[Action, Adventure, Fantasy, Science Fiction]</td>\n",
       "      <td>19995</td>\n",
       "      <td>[culture clash, future, space war, space colon...</td>\n",
       "      <td>en</td>\n",
       "      <td>In the 22nd century, a paraplegic Marine is di...</td>\n",
       "      <td>150.437577</td>\n",
       "      <td>2787965087</td>\n",
       "      <td>162.0</td>\n",
       "      <td>Avatar</td>\n",
       "      <td>7.2</td>\n",
       "      <td>11800</td>\n",
       "      <td>[{\"cast_id\": 242, \"character\": \"Jake Sully\", \"...</td>\n",
       "      <td>[{\"credit_id\": \"52fe48009251416c750aca23\", \"de...</td>\n",
       "      <td>2009.0</td>\n",
       "    </tr>\n",
       "    <tr>\n",
       "      <th>1</th>\n",
       "      <td>300000000</td>\n",
       "      <td>[Adventure, Fantasy, Action]</td>\n",
       "      <td>285</td>\n",
       "      <td>[ocean, drug abuse, exotic island, east india ...</td>\n",
       "      <td>en</td>\n",
       "      <td>Captain Barbossa, long believed to be dead, ha...</td>\n",
       "      <td>139.082615</td>\n",
       "      <td>961000000</td>\n",
       "      <td>169.0</td>\n",
       "      <td>Pirates of the Caribbean: At World's End</td>\n",
       "      <td>6.9</td>\n",
       "      <td>4500</td>\n",
       "      <td>[{\"cast_id\": 4, \"character\": \"Captain Jack Spa...</td>\n",
       "      <td>[{\"credit_id\": \"52fe4232c3a36847f800b579\", \"de...</td>\n",
       "      <td>2007.0</td>\n",
       "    </tr>\n",
       "  </tbody>\n",
       "</table>\n",
       "</div>"
      ],
      "text/plain": [
       "      budget                                         genres     id  \\\n",
       "0  237000000  [Action, Adventure, Fantasy, Science Fiction]  19995   \n",
       "1  300000000                   [Adventure, Fantasy, Action]    285   \n",
       "\n",
       "                                            keywords original_language  \\\n",
       "0  [culture clash, future, space war, space colon...                en   \n",
       "1  [ocean, drug abuse, exotic island, east india ...                en   \n",
       "\n",
       "                                            overview  popularity     revenue  \\\n",
       "0  In the 22nd century, a paraplegic Marine is di...  150.437577  2787965087   \n",
       "1  Captain Barbossa, long believed to be dead, ha...  139.082615   961000000   \n",
       "\n",
       "   runtime                                     title  vote_average  \\\n",
       "0    162.0                                    Avatar           7.2   \n",
       "1    169.0  Pirates of the Caribbean: At World's End           6.9   \n",
       "\n",
       "   vote_count                                               cast  \\\n",
       "0       11800  [{\"cast_id\": 242, \"character\": \"Jake Sully\", \"...   \n",
       "1        4500  [{\"cast_id\": 4, \"character\": \"Captain Jack Spa...   \n",
       "\n",
       "                                                crew    year  \n",
       "0  [{\"credit_id\": \"52fe48009251416c750aca23\", \"de...  2009.0  \n",
       "1  [{\"credit_id\": \"52fe4232c3a36847f800b579\", \"de...  2007.0  "
      ]
     },
     "execution_count": 50,
     "metadata": {},
     "output_type": "execute_result"
    }
   ],
   "source": [
    "df['genres'] = df['genres'].apply(convert)\n",
    "df['keywords'] = df['keywords'].apply(convert)\n",
    "df.head()"
   ]
  },
  {
   "cell_type": "code",
   "execution_count": 51,
   "id": "8f10dcc1",
   "metadata": {},
   "outputs": [],
   "source": [
    "def convert3(text):\n",
    "    L = []\n",
    "    counter = 0\n",
    "    for i in ast.literal_eval(text):\n",
    "        if counter < 3:\n",
    "            L.append(i['name'])\n",
    "        counter+=1\n",
    "    return L "
   ]
  },
  {
   "cell_type": "code",
   "execution_count": 52,
   "id": "8f9126d9",
   "metadata": {},
   "outputs": [],
   "source": [
    "df['cast'] = df['cast'].apply(convert3)"
   ]
  },
  {
   "cell_type": "code",
   "execution_count": 53,
   "id": "aa731822",
   "metadata": {},
   "outputs": [
    {
     "data": {
      "text/html": [
       "<div>\n",
       "<style scoped>\n",
       "    .dataframe tbody tr th:only-of-type {\n",
       "        vertical-align: middle;\n",
       "    }\n",
       "\n",
       "    .dataframe tbody tr th {\n",
       "        vertical-align: top;\n",
       "    }\n",
       "\n",
       "    .dataframe thead th {\n",
       "        text-align: right;\n",
       "    }\n",
       "</style>\n",
       "<table border=\"1\" class=\"dataframe\">\n",
       "  <thead>\n",
       "    <tr style=\"text-align: right;\">\n",
       "      <th></th>\n",
       "      <th>budget</th>\n",
       "      <th>genres</th>\n",
       "      <th>id</th>\n",
       "      <th>keywords</th>\n",
       "      <th>original_language</th>\n",
       "      <th>overview</th>\n",
       "      <th>popularity</th>\n",
       "      <th>revenue</th>\n",
       "      <th>runtime</th>\n",
       "      <th>title</th>\n",
       "      <th>vote_average</th>\n",
       "      <th>vote_count</th>\n",
       "      <th>cast</th>\n",
       "      <th>crew</th>\n",
       "      <th>year</th>\n",
       "    </tr>\n",
       "  </thead>\n",
       "  <tbody>\n",
       "    <tr>\n",
       "      <th>0</th>\n",
       "      <td>237000000</td>\n",
       "      <td>[Action, Adventure, Fantasy, Science Fiction]</td>\n",
       "      <td>19995</td>\n",
       "      <td>[culture clash, future, space war, space colon...</td>\n",
       "      <td>en</td>\n",
       "      <td>In the 22nd century, a paraplegic Marine is di...</td>\n",
       "      <td>150.437577</td>\n",
       "      <td>2787965087</td>\n",
       "      <td>162.0</td>\n",
       "      <td>Avatar</td>\n",
       "      <td>7.2</td>\n",
       "      <td>11800</td>\n",
       "      <td>[Sam Worthington, Zoe Saldana, Sigourney Weaver]</td>\n",
       "      <td>[{\"credit_id\": \"52fe48009251416c750aca23\", \"de...</td>\n",
       "      <td>2009.0</td>\n",
       "    </tr>\n",
       "    <tr>\n",
       "      <th>1</th>\n",
       "      <td>300000000</td>\n",
       "      <td>[Adventure, Fantasy, Action]</td>\n",
       "      <td>285</td>\n",
       "      <td>[ocean, drug abuse, exotic island, east india ...</td>\n",
       "      <td>en</td>\n",
       "      <td>Captain Barbossa, long believed to be dead, ha...</td>\n",
       "      <td>139.082615</td>\n",
       "      <td>961000000</td>\n",
       "      <td>169.0</td>\n",
       "      <td>Pirates of the Caribbean: At World's End</td>\n",
       "      <td>6.9</td>\n",
       "      <td>4500</td>\n",
       "      <td>[Johnny Depp, Orlando Bloom, Keira Knightley]</td>\n",
       "      <td>[{\"credit_id\": \"52fe4232c3a36847f800b579\", \"de...</td>\n",
       "      <td>2007.0</td>\n",
       "    </tr>\n",
       "  </tbody>\n",
       "</table>\n",
       "</div>"
      ],
      "text/plain": [
       "      budget                                         genres     id  \\\n",
       "0  237000000  [Action, Adventure, Fantasy, Science Fiction]  19995   \n",
       "1  300000000                   [Adventure, Fantasy, Action]    285   \n",
       "\n",
       "                                            keywords original_language  \\\n",
       "0  [culture clash, future, space war, space colon...                en   \n",
       "1  [ocean, drug abuse, exotic island, east india ...                en   \n",
       "\n",
       "                                            overview  popularity     revenue  \\\n",
       "0  In the 22nd century, a paraplegic Marine is di...  150.437577  2787965087   \n",
       "1  Captain Barbossa, long believed to be dead, ha...  139.082615   961000000   \n",
       "\n",
       "   runtime                                     title  vote_average  \\\n",
       "0    162.0                                    Avatar           7.2   \n",
       "1    169.0  Pirates of the Caribbean: At World's End           6.9   \n",
       "\n",
       "   vote_count                                              cast  \\\n",
       "0       11800  [Sam Worthington, Zoe Saldana, Sigourney Weaver]   \n",
       "1        4500     [Johnny Depp, Orlando Bloom, Keira Knightley]   \n",
       "\n",
       "                                                crew    year  \n",
       "0  [{\"credit_id\": \"52fe48009251416c750aca23\", \"de...  2009.0  \n",
       "1  [{\"credit_id\": \"52fe4232c3a36847f800b579\", \"de...  2007.0  "
      ]
     },
     "execution_count": 53,
     "metadata": {},
     "output_type": "execute_result"
    }
   ],
   "source": [
    "df.head()"
   ]
  },
  {
   "cell_type": "code",
   "execution_count": 54,
   "id": "2fa39983",
   "metadata": {},
   "outputs": [],
   "source": [
    "df['cast'] = df['cast'].apply(lambda x:x[0:3])"
   ]
  },
  {
   "cell_type": "code",
   "execution_count": 55,
   "id": "28bb6ffa",
   "metadata": {},
   "outputs": [
    {
     "data": {
      "text/html": [
       "<div>\n",
       "<style scoped>\n",
       "    .dataframe tbody tr th:only-of-type {\n",
       "        vertical-align: middle;\n",
       "    }\n",
       "\n",
       "    .dataframe tbody tr th {\n",
       "        vertical-align: top;\n",
       "    }\n",
       "\n",
       "    .dataframe thead th {\n",
       "        text-align: right;\n",
       "    }\n",
       "</style>\n",
       "<table border=\"1\" class=\"dataframe\">\n",
       "  <thead>\n",
       "    <tr style=\"text-align: right;\">\n",
       "      <th></th>\n",
       "      <th>budget</th>\n",
       "      <th>genres</th>\n",
       "      <th>id</th>\n",
       "      <th>keywords</th>\n",
       "      <th>original_language</th>\n",
       "      <th>overview</th>\n",
       "      <th>popularity</th>\n",
       "      <th>revenue</th>\n",
       "      <th>runtime</th>\n",
       "      <th>title</th>\n",
       "      <th>vote_average</th>\n",
       "      <th>vote_count</th>\n",
       "      <th>cast</th>\n",
       "      <th>crew</th>\n",
       "      <th>year</th>\n",
       "    </tr>\n",
       "  </thead>\n",
       "  <tbody>\n",
       "    <tr>\n",
       "      <th>0</th>\n",
       "      <td>237000000</td>\n",
       "      <td>[Action, Adventure, Fantasy, Science Fiction]</td>\n",
       "      <td>19995</td>\n",
       "      <td>[culture clash, future, space war, space colon...</td>\n",
       "      <td>en</td>\n",
       "      <td>In the 22nd century, a paraplegic Marine is di...</td>\n",
       "      <td>150.437577</td>\n",
       "      <td>2787965087</td>\n",
       "      <td>162.0</td>\n",
       "      <td>Avatar</td>\n",
       "      <td>7.2</td>\n",
       "      <td>11800</td>\n",
       "      <td>[Sam Worthington, Zoe Saldana, Sigourney Weaver]</td>\n",
       "      <td>[{\"credit_id\": \"52fe48009251416c750aca23\", \"de...</td>\n",
       "      <td>2009.0</td>\n",
       "    </tr>\n",
       "    <tr>\n",
       "      <th>1</th>\n",
       "      <td>300000000</td>\n",
       "      <td>[Adventure, Fantasy, Action]</td>\n",
       "      <td>285</td>\n",
       "      <td>[ocean, drug abuse, exotic island, east india ...</td>\n",
       "      <td>en</td>\n",
       "      <td>Captain Barbossa, long believed to be dead, ha...</td>\n",
       "      <td>139.082615</td>\n",
       "      <td>961000000</td>\n",
       "      <td>169.0</td>\n",
       "      <td>Pirates of the Caribbean: At World's End</td>\n",
       "      <td>6.9</td>\n",
       "      <td>4500</td>\n",
       "      <td>[Johnny Depp, Orlando Bloom, Keira Knightley]</td>\n",
       "      <td>[{\"credit_id\": \"52fe4232c3a36847f800b579\", \"de...</td>\n",
       "      <td>2007.0</td>\n",
       "    </tr>\n",
       "  </tbody>\n",
       "</table>\n",
       "</div>"
      ],
      "text/plain": [
       "      budget                                         genres     id  \\\n",
       "0  237000000  [Action, Adventure, Fantasy, Science Fiction]  19995   \n",
       "1  300000000                   [Adventure, Fantasy, Action]    285   \n",
       "\n",
       "                                            keywords original_language  \\\n",
       "0  [culture clash, future, space war, space colon...                en   \n",
       "1  [ocean, drug abuse, exotic island, east india ...                en   \n",
       "\n",
       "                                            overview  popularity     revenue  \\\n",
       "0  In the 22nd century, a paraplegic Marine is di...  150.437577  2787965087   \n",
       "1  Captain Barbossa, long believed to be dead, ha...  139.082615   961000000   \n",
       "\n",
       "   runtime                                     title  vote_average  \\\n",
       "0    162.0                                    Avatar           7.2   \n",
       "1    169.0  Pirates of the Caribbean: At World's End           6.9   \n",
       "\n",
       "   vote_count                                              cast  \\\n",
       "0       11800  [Sam Worthington, Zoe Saldana, Sigourney Weaver]   \n",
       "1        4500     [Johnny Depp, Orlando Bloom, Keira Knightley]   \n",
       "\n",
       "                                                crew    year  \n",
       "0  [{\"credit_id\": \"52fe48009251416c750aca23\", \"de...  2009.0  \n",
       "1  [{\"credit_id\": \"52fe4232c3a36847f800b579\", \"de...  2007.0  "
      ]
     },
     "execution_count": 55,
     "metadata": {},
     "output_type": "execute_result"
    }
   ],
   "source": [
    "df.head()"
   ]
  },
  {
   "cell_type": "code",
   "execution_count": 56,
   "id": "0c4da32c",
   "metadata": {},
   "outputs": [],
   "source": [
    "def fetch_director(text):\n",
    "    L = []\n",
    "    for i in ast.literal_eval(text):\n",
    "        if i['job'] == 'Director':\n",
    "            L.append(i['name'])\n",
    "    return L "
   ]
  },
  {
   "cell_type": "code",
   "execution_count": 57,
   "id": "248312fe",
   "metadata": {},
   "outputs": [],
   "source": [
    "df['crew'] = df['crew'].apply(fetch_director)"
   ]
  },
  {
   "cell_type": "code",
   "execution_count": 58,
   "id": "9bfb1945",
   "metadata": {},
   "outputs": [
    {
     "data": {
      "text/html": [
       "<div>\n",
       "<style scoped>\n",
       "    .dataframe tbody tr th:only-of-type {\n",
       "        vertical-align: middle;\n",
       "    }\n",
       "\n",
       "    .dataframe tbody tr th {\n",
       "        vertical-align: top;\n",
       "    }\n",
       "\n",
       "    .dataframe thead th {\n",
       "        text-align: right;\n",
       "    }\n",
       "</style>\n",
       "<table border=\"1\" class=\"dataframe\">\n",
       "  <thead>\n",
       "    <tr style=\"text-align: right;\">\n",
       "      <th></th>\n",
       "      <th>budget</th>\n",
       "      <th>genres</th>\n",
       "      <th>id</th>\n",
       "      <th>keywords</th>\n",
       "      <th>original_language</th>\n",
       "      <th>overview</th>\n",
       "      <th>popularity</th>\n",
       "      <th>revenue</th>\n",
       "      <th>runtime</th>\n",
       "      <th>title</th>\n",
       "      <th>vote_average</th>\n",
       "      <th>vote_count</th>\n",
       "      <th>cast</th>\n",
       "      <th>crew</th>\n",
       "      <th>year</th>\n",
       "    </tr>\n",
       "  </thead>\n",
       "  <tbody>\n",
       "    <tr>\n",
       "      <th>0</th>\n",
       "      <td>237000000</td>\n",
       "      <td>[Action, Adventure, Fantasy, Science Fiction]</td>\n",
       "      <td>19995</td>\n",
       "      <td>[culture clash, future, space war, space colon...</td>\n",
       "      <td>en</td>\n",
       "      <td>In the 22nd century, a paraplegic Marine is di...</td>\n",
       "      <td>150.437577</td>\n",
       "      <td>2787965087</td>\n",
       "      <td>162.0</td>\n",
       "      <td>Avatar</td>\n",
       "      <td>7.2</td>\n",
       "      <td>11800</td>\n",
       "      <td>[Sam Worthington, Zoe Saldana, Sigourney Weaver]</td>\n",
       "      <td>[James Cameron]</td>\n",
       "      <td>2009.0</td>\n",
       "    </tr>\n",
       "    <tr>\n",
       "      <th>1</th>\n",
       "      <td>300000000</td>\n",
       "      <td>[Adventure, Fantasy, Action]</td>\n",
       "      <td>285</td>\n",
       "      <td>[ocean, drug abuse, exotic island, east india ...</td>\n",
       "      <td>en</td>\n",
       "      <td>Captain Barbossa, long believed to be dead, ha...</td>\n",
       "      <td>139.082615</td>\n",
       "      <td>961000000</td>\n",
       "      <td>169.0</td>\n",
       "      <td>Pirates of the Caribbean: At World's End</td>\n",
       "      <td>6.9</td>\n",
       "      <td>4500</td>\n",
       "      <td>[Johnny Depp, Orlando Bloom, Keira Knightley]</td>\n",
       "      <td>[Gore Verbinski]</td>\n",
       "      <td>2007.0</td>\n",
       "    </tr>\n",
       "  </tbody>\n",
       "</table>\n",
       "</div>"
      ],
      "text/plain": [
       "      budget                                         genres     id  \\\n",
       "0  237000000  [Action, Adventure, Fantasy, Science Fiction]  19995   \n",
       "1  300000000                   [Adventure, Fantasy, Action]    285   \n",
       "\n",
       "                                            keywords original_language  \\\n",
       "0  [culture clash, future, space war, space colon...                en   \n",
       "1  [ocean, drug abuse, exotic island, east india ...                en   \n",
       "\n",
       "                                            overview  popularity     revenue  \\\n",
       "0  In the 22nd century, a paraplegic Marine is di...  150.437577  2787965087   \n",
       "1  Captain Barbossa, long believed to be dead, ha...  139.082615   961000000   \n",
       "\n",
       "   runtime                                     title  vote_average  \\\n",
       "0    162.0                                    Avatar           7.2   \n",
       "1    169.0  Pirates of the Caribbean: At World's End           6.9   \n",
       "\n",
       "   vote_count                                              cast  \\\n",
       "0       11800  [Sam Worthington, Zoe Saldana, Sigourney Weaver]   \n",
       "1        4500     [Johnny Depp, Orlando Bloom, Keira Knightley]   \n",
       "\n",
       "               crew    year  \n",
       "0   [James Cameron]  2009.0  \n",
       "1  [Gore Verbinski]  2007.0  "
      ]
     },
     "execution_count": 58,
     "metadata": {},
     "output_type": "execute_result"
    }
   ],
   "source": [
    "df.head()"
   ]
  },
  {
   "cell_type": "code",
   "execution_count": 59,
   "id": "fdb539cd",
   "metadata": {},
   "outputs": [],
   "source": [
    "def removespaces(L):\n",
    "    L1 = []\n",
    "    for i in L:\n",
    "        L1.append(i.replace(\" \",\"\"))\n",
    "    return L1"
   ]
  },
  {
   "cell_type": "code",
   "execution_count": 60,
   "id": "fe234207",
   "metadata": {},
   "outputs": [],
   "source": [
    "df['cast'] = df['cast'].apply(removespaces)\n",
    "df['crew'] = df['crew'].apply(removespaces)\n",
    "df['genres'] = df['genres'].apply(removespaces)\n",
    "df['keywords'] = df['keywords'].apply(removespaces)"
   ]
  },
  {
   "cell_type": "code",
   "execution_count": 61,
   "id": "8cbb7eed",
   "metadata": {},
   "outputs": [
    {
     "data": {
      "text/html": [
       "<div>\n",
       "<style scoped>\n",
       "    .dataframe tbody tr th:only-of-type {\n",
       "        vertical-align: middle;\n",
       "    }\n",
       "\n",
       "    .dataframe tbody tr th {\n",
       "        vertical-align: top;\n",
       "    }\n",
       "\n",
       "    .dataframe thead th {\n",
       "        text-align: right;\n",
       "    }\n",
       "</style>\n",
       "<table border=\"1\" class=\"dataframe\">\n",
       "  <thead>\n",
       "    <tr style=\"text-align: right;\">\n",
       "      <th></th>\n",
       "      <th>budget</th>\n",
       "      <th>genres</th>\n",
       "      <th>id</th>\n",
       "      <th>keywords</th>\n",
       "      <th>original_language</th>\n",
       "      <th>overview</th>\n",
       "      <th>popularity</th>\n",
       "      <th>revenue</th>\n",
       "      <th>runtime</th>\n",
       "      <th>title</th>\n",
       "      <th>vote_average</th>\n",
       "      <th>vote_count</th>\n",
       "      <th>cast</th>\n",
       "      <th>crew</th>\n",
       "      <th>year</th>\n",
       "    </tr>\n",
       "  </thead>\n",
       "  <tbody>\n",
       "    <tr>\n",
       "      <th>0</th>\n",
       "      <td>237000000</td>\n",
       "      <td>[Action, Adventure, Fantasy, ScienceFiction]</td>\n",
       "      <td>19995</td>\n",
       "      <td>[cultureclash, future, spacewar, spacecolony, ...</td>\n",
       "      <td>en</td>\n",
       "      <td>In the 22nd century, a paraplegic Marine is di...</td>\n",
       "      <td>150.437577</td>\n",
       "      <td>2787965087</td>\n",
       "      <td>162.0</td>\n",
       "      <td>Avatar</td>\n",
       "      <td>7.2</td>\n",
       "      <td>11800</td>\n",
       "      <td>[SamWorthington, ZoeSaldana, SigourneyWeaver]</td>\n",
       "      <td>[JamesCameron]</td>\n",
       "      <td>2009.0</td>\n",
       "    </tr>\n",
       "    <tr>\n",
       "      <th>1</th>\n",
       "      <td>300000000</td>\n",
       "      <td>[Adventure, Fantasy, Action]</td>\n",
       "      <td>285</td>\n",
       "      <td>[ocean, drugabuse, exoticisland, eastindiatrad...</td>\n",
       "      <td>en</td>\n",
       "      <td>Captain Barbossa, long believed to be dead, ha...</td>\n",
       "      <td>139.082615</td>\n",
       "      <td>961000000</td>\n",
       "      <td>169.0</td>\n",
       "      <td>Pirates of the Caribbean: At World's End</td>\n",
       "      <td>6.9</td>\n",
       "      <td>4500</td>\n",
       "      <td>[JohnnyDepp, OrlandoBloom, KeiraKnightley]</td>\n",
       "      <td>[GoreVerbinski]</td>\n",
       "      <td>2007.0</td>\n",
       "    </tr>\n",
       "  </tbody>\n",
       "</table>\n",
       "</div>"
      ],
      "text/plain": [
       "      budget                                        genres     id  \\\n",
       "0  237000000  [Action, Adventure, Fantasy, ScienceFiction]  19995   \n",
       "1  300000000                  [Adventure, Fantasy, Action]    285   \n",
       "\n",
       "                                            keywords original_language  \\\n",
       "0  [cultureclash, future, spacewar, spacecolony, ...                en   \n",
       "1  [ocean, drugabuse, exoticisland, eastindiatrad...                en   \n",
       "\n",
       "                                            overview  popularity     revenue  \\\n",
       "0  In the 22nd century, a paraplegic Marine is di...  150.437577  2787965087   \n",
       "1  Captain Barbossa, long believed to be dead, ha...  139.082615   961000000   \n",
       "\n",
       "   runtime                                     title  vote_average  \\\n",
       "0    162.0                                    Avatar           7.2   \n",
       "1    169.0  Pirates of the Caribbean: At World's End           6.9   \n",
       "\n",
       "   vote_count                                           cast             crew  \\\n",
       "0       11800  [SamWorthington, ZoeSaldana, SigourneyWeaver]   [JamesCameron]   \n",
       "1        4500     [JohnnyDepp, OrlandoBloom, KeiraKnightley]  [GoreVerbinski]   \n",
       "\n",
       "     year  \n",
       "0  2009.0  \n",
       "1  2007.0  "
      ]
     },
     "execution_count": 61,
     "metadata": {},
     "output_type": "execute_result"
    }
   ],
   "source": [
    "df.head()"
   ]
  },
  {
   "cell_type": "code",
   "execution_count": 62,
   "id": "0e50ebae",
   "metadata": {},
   "outputs": [],
   "source": [
    "df['overview'] = df['overview'].apply(lambda x:x.split())"
   ]
  },
  {
   "cell_type": "code",
   "execution_count": 63,
   "id": "963743d5",
   "metadata": {},
   "outputs": [
    {
     "data": {
      "text/html": [
       "<div>\n",
       "<style scoped>\n",
       "    .dataframe tbody tr th:only-of-type {\n",
       "        vertical-align: middle;\n",
       "    }\n",
       "\n",
       "    .dataframe tbody tr th {\n",
       "        vertical-align: top;\n",
       "    }\n",
       "\n",
       "    .dataframe thead th {\n",
       "        text-align: right;\n",
       "    }\n",
       "</style>\n",
       "<table border=\"1\" class=\"dataframe\">\n",
       "  <thead>\n",
       "    <tr style=\"text-align: right;\">\n",
       "      <th></th>\n",
       "      <th>budget</th>\n",
       "      <th>genres</th>\n",
       "      <th>id</th>\n",
       "      <th>keywords</th>\n",
       "      <th>original_language</th>\n",
       "      <th>overview</th>\n",
       "      <th>popularity</th>\n",
       "      <th>revenue</th>\n",
       "      <th>runtime</th>\n",
       "      <th>title</th>\n",
       "      <th>vote_average</th>\n",
       "      <th>vote_count</th>\n",
       "      <th>cast</th>\n",
       "      <th>crew</th>\n",
       "      <th>year</th>\n",
       "    </tr>\n",
       "  </thead>\n",
       "  <tbody>\n",
       "    <tr>\n",
       "      <th>0</th>\n",
       "      <td>237000000</td>\n",
       "      <td>[Action, Adventure, Fantasy, ScienceFiction]</td>\n",
       "      <td>19995</td>\n",
       "      <td>[cultureclash, future, spacewar, spacecolony, ...</td>\n",
       "      <td>en</td>\n",
       "      <td>[In, the, 22nd, century,, a, paraplegic, Marin...</td>\n",
       "      <td>150.437577</td>\n",
       "      <td>2787965087</td>\n",
       "      <td>162.0</td>\n",
       "      <td>Avatar</td>\n",
       "      <td>7.2</td>\n",
       "      <td>11800</td>\n",
       "      <td>[SamWorthington, ZoeSaldana, SigourneyWeaver]</td>\n",
       "      <td>[JamesCameron]</td>\n",
       "      <td>2009.0</td>\n",
       "    </tr>\n",
       "    <tr>\n",
       "      <th>1</th>\n",
       "      <td>300000000</td>\n",
       "      <td>[Adventure, Fantasy, Action]</td>\n",
       "      <td>285</td>\n",
       "      <td>[ocean, drugabuse, exoticisland, eastindiatrad...</td>\n",
       "      <td>en</td>\n",
       "      <td>[Captain, Barbossa,, long, believed, to, be, d...</td>\n",
       "      <td>139.082615</td>\n",
       "      <td>961000000</td>\n",
       "      <td>169.0</td>\n",
       "      <td>Pirates of the Caribbean: At World's End</td>\n",
       "      <td>6.9</td>\n",
       "      <td>4500</td>\n",
       "      <td>[JohnnyDepp, OrlandoBloom, KeiraKnightley]</td>\n",
       "      <td>[GoreVerbinski]</td>\n",
       "      <td>2007.0</td>\n",
       "    </tr>\n",
       "  </tbody>\n",
       "</table>\n",
       "</div>"
      ],
      "text/plain": [
       "      budget                                        genres     id  \\\n",
       "0  237000000  [Action, Adventure, Fantasy, ScienceFiction]  19995   \n",
       "1  300000000                  [Adventure, Fantasy, Action]    285   \n",
       "\n",
       "                                            keywords original_language  \\\n",
       "0  [cultureclash, future, spacewar, spacecolony, ...                en   \n",
       "1  [ocean, drugabuse, exoticisland, eastindiatrad...                en   \n",
       "\n",
       "                                            overview  popularity     revenue  \\\n",
       "0  [In, the, 22nd, century,, a, paraplegic, Marin...  150.437577  2787965087   \n",
       "1  [Captain, Barbossa,, long, believed, to, be, d...  139.082615   961000000   \n",
       "\n",
       "   runtime                                     title  vote_average  \\\n",
       "0    162.0                                    Avatar           7.2   \n",
       "1    169.0  Pirates of the Caribbean: At World's End           6.9   \n",
       "\n",
       "   vote_count                                           cast             crew  \\\n",
       "0       11800  [SamWorthington, ZoeSaldana, SigourneyWeaver]   [JamesCameron]   \n",
       "1        4500     [JohnnyDepp, OrlandoBloom, KeiraKnightley]  [GoreVerbinski]   \n",
       "\n",
       "     year  \n",
       "0  2009.0  \n",
       "1  2007.0  "
      ]
     },
     "execution_count": 63,
     "metadata": {},
     "output_type": "execute_result"
    }
   ],
   "source": [
    "df.head()"
   ]
  },
  {
   "cell_type": "code",
   "execution_count": 64,
   "id": "c0356466",
   "metadata": {},
   "outputs": [],
   "source": [
    "df['tags'] = df['overview'] + df['genres'] + df['keywords'] + df['cast'] + df['crew']"
   ]
  },
  {
   "cell_type": "code",
   "execution_count": 65,
   "id": "ed370d4a",
   "metadata": {},
   "outputs": [
    {
     "data": {
      "text/html": [
       "<div>\n",
       "<style scoped>\n",
       "    .dataframe tbody tr th:only-of-type {\n",
       "        vertical-align: middle;\n",
       "    }\n",
       "\n",
       "    .dataframe tbody tr th {\n",
       "        vertical-align: top;\n",
       "    }\n",
       "\n",
       "    .dataframe thead th {\n",
       "        text-align: right;\n",
       "    }\n",
       "</style>\n",
       "<table border=\"1\" class=\"dataframe\">\n",
       "  <thead>\n",
       "    <tr style=\"text-align: right;\">\n",
       "      <th></th>\n",
       "      <th>budget</th>\n",
       "      <th>genres</th>\n",
       "      <th>id</th>\n",
       "      <th>keywords</th>\n",
       "      <th>original_language</th>\n",
       "      <th>overview</th>\n",
       "      <th>popularity</th>\n",
       "      <th>revenue</th>\n",
       "      <th>runtime</th>\n",
       "      <th>title</th>\n",
       "      <th>vote_average</th>\n",
       "      <th>vote_count</th>\n",
       "      <th>cast</th>\n",
       "      <th>crew</th>\n",
       "      <th>year</th>\n",
       "      <th>tags</th>\n",
       "    </tr>\n",
       "  </thead>\n",
       "  <tbody>\n",
       "    <tr>\n",
       "      <th>0</th>\n",
       "      <td>237000000</td>\n",
       "      <td>[Action, Adventure, Fantasy, ScienceFiction]</td>\n",
       "      <td>19995</td>\n",
       "      <td>[cultureclash, future, spacewar, spacecolony, ...</td>\n",
       "      <td>en</td>\n",
       "      <td>[In, the, 22nd, century,, a, paraplegic, Marin...</td>\n",
       "      <td>150.437577</td>\n",
       "      <td>2787965087</td>\n",
       "      <td>162.0</td>\n",
       "      <td>Avatar</td>\n",
       "      <td>7.2</td>\n",
       "      <td>11800</td>\n",
       "      <td>[SamWorthington, ZoeSaldana, SigourneyWeaver]</td>\n",
       "      <td>[JamesCameron]</td>\n",
       "      <td>2009.0</td>\n",
       "      <td>In the 22nd century, a paraplegic Marine is di...</td>\n",
       "    </tr>\n",
       "    <tr>\n",
       "      <th>1</th>\n",
       "      <td>300000000</td>\n",
       "      <td>[Adventure, Fantasy, Action]</td>\n",
       "      <td>285</td>\n",
       "      <td>[ocean, drugabuse, exoticisland, eastindiatrad...</td>\n",
       "      <td>en</td>\n",
       "      <td>[Captain, Barbossa,, long, believed, to, be, d...</td>\n",
       "      <td>139.082615</td>\n",
       "      <td>961000000</td>\n",
       "      <td>169.0</td>\n",
       "      <td>Pirates of the Caribbean: At World's End</td>\n",
       "      <td>6.9</td>\n",
       "      <td>4500</td>\n",
       "      <td>[JohnnyDepp, OrlandoBloom, KeiraKnightley]</td>\n",
       "      <td>[GoreVerbinski]</td>\n",
       "      <td>2007.0</td>\n",
       "      <td>Captain Barbossa, long believed to be dead, ha...</td>\n",
       "    </tr>\n",
       "  </tbody>\n",
       "</table>\n",
       "</div>"
      ],
      "text/plain": [
       "      budget                                        genres     id  \\\n",
       "0  237000000  [Action, Adventure, Fantasy, ScienceFiction]  19995   \n",
       "1  300000000                  [Adventure, Fantasy, Action]    285   \n",
       "\n",
       "                                            keywords original_language  \\\n",
       "0  [cultureclash, future, spacewar, spacecolony, ...                en   \n",
       "1  [ocean, drugabuse, exoticisland, eastindiatrad...                en   \n",
       "\n",
       "                                            overview  popularity     revenue  \\\n",
       "0  [In, the, 22nd, century,, a, paraplegic, Marin...  150.437577  2787965087   \n",
       "1  [Captain, Barbossa,, long, believed, to, be, d...  139.082615   961000000   \n",
       "\n",
       "   runtime                                     title  vote_average  \\\n",
       "0    162.0                                    Avatar           7.2   \n",
       "1    169.0  Pirates of the Caribbean: At World's End           6.9   \n",
       "\n",
       "   vote_count                                           cast             crew  \\\n",
       "0       11800  [SamWorthington, ZoeSaldana, SigourneyWeaver]   [JamesCameron]   \n",
       "1        4500     [JohnnyDepp, OrlandoBloom, KeiraKnightley]  [GoreVerbinski]   \n",
       "\n",
       "     year                                               tags  \n",
       "0  2009.0  In the 22nd century, a paraplegic Marine is di...  \n",
       "1  2007.0  Captain Barbossa, long believed to be dead, ha...  "
      ]
     },
     "execution_count": 65,
     "metadata": {},
     "output_type": "execute_result"
    }
   ],
   "source": [
    "df['tags'] = df['tags'].apply(lambda x: \" \".join(x))\n",
    "df.head()"
   ]
  },
  {
   "cell_type": "code",
   "execution_count": 66,
   "id": "458eb8e9",
   "metadata": {},
   "outputs": [
    {
     "data": {
      "text/plain": [
       "<bound method DataFrame.drop of       budget                                        genres     id  \\\n",
       "0  237000000  [Action, Adventure, Fantasy, ScienceFiction]  19995   \n",
       "1  300000000                  [Adventure, Fantasy, Action]    285   \n",
       "\n",
       "                                            keywords original_language  \\\n",
       "0  [cultureclash, future, spacewar, spacecolony, ...                en   \n",
       "1  [ocean, drugabuse, exoticisland, eastindiatrad...                en   \n",
       "\n",
       "                                            overview  popularity     revenue  \\\n",
       "0  [In, the, 22nd, century,, a, paraplegic, Marin...  150.437577  2787965087   \n",
       "1  [Captain, Barbossa,, long, believed, to, be, d...  139.082615   961000000   \n",
       "\n",
       "   runtime                                     title  vote_average  \\\n",
       "0    162.0                                    Avatar           7.2   \n",
       "1    169.0  Pirates of the Caribbean: At World's End           6.9   \n",
       "\n",
       "   vote_count                                           cast             crew  \\\n",
       "0       11800  [SamWorthington, ZoeSaldana, SigourneyWeaver]   [JamesCameron]   \n",
       "1        4500     [JohnnyDepp, OrlandoBloom, KeiraKnightley]  [GoreVerbinski]   \n",
       "\n",
       "     year                                               tags  \n",
       "0  2009.0  In the 22nd century, a paraplegic Marine is di...  \n",
       "1  2007.0  Captain Barbossa, long believed to be dead, ha...  >"
      ]
     },
     "execution_count": 66,
     "metadata": {},
     "output_type": "execute_result"
    }
   ],
   "source": [
    "df.drop"
   ]
  },
  {
   "cell_type": "code",
   "execution_count": 67,
   "id": "06d3a72c",
   "metadata": {},
   "outputs": [],
   "source": [
    "from sklearn.feature_extraction.text import CountVectorizer\n",
    "cv = CountVectorizer(max_features=5000,stop_words='english')"
   ]
  },
  {
   "cell_type": "code",
   "execution_count": 68,
   "id": "2cad4cf8",
   "metadata": {},
   "outputs": [],
   "source": [
    "vector = cv.fit_transform(df['tags']).toarray()"
   ]
  },
  {
   "cell_type": "code",
   "execution_count": 69,
   "id": "1789d264",
   "metadata": {},
   "outputs": [
    {
     "data": {
      "text/plain": [
       "(2, 77)"
      ]
     },
     "execution_count": 69,
     "metadata": {},
     "output_type": "execute_result"
    }
   ],
   "source": [
    "vector.shape"
   ]
  },
  {
   "cell_type": "code",
   "execution_count": 70,
   "id": "68f046db",
   "metadata": {},
   "outputs": [],
   "source": [
    "from sklearn.metrics.pairwise import cosine_similarity"
   ]
  },
  {
   "cell_type": "code",
   "execution_count": 71,
   "id": "cf5f8ef5",
   "metadata": {},
   "outputs": [
    {
     "data": {
      "text/plain": [
       "array([[1.        , 0.07024394],\n",
       "       [0.07024394, 1.        ]])"
      ]
     },
     "execution_count": 71,
     "metadata": {},
     "output_type": "execute_result"
    }
   ],
   "source": [
    "similarity = cosine_similarity(vector)\n",
    "similarity"
   ]
  },
  {
   "cell_type": "code",
   "execution_count": 72,
   "id": "e0da8a03",
   "metadata": {},
   "outputs": [
    {
     "data": {
      "text/html": [
       "<div>\n",
       "<style scoped>\n",
       "    .dataframe tbody tr th:only-of-type {\n",
       "        vertical-align: middle;\n",
       "    }\n",
       "\n",
       "    .dataframe tbody tr th {\n",
       "        vertical-align: top;\n",
       "    }\n",
       "\n",
       "    .dataframe thead th {\n",
       "        text-align: right;\n",
       "    }\n",
       "</style>\n",
       "<table border=\"1\" class=\"dataframe\">\n",
       "  <thead>\n",
       "    <tr style=\"text-align: right;\">\n",
       "      <th></th>\n",
       "      <th>budget</th>\n",
       "      <th>genres</th>\n",
       "      <th>id</th>\n",
       "      <th>keywords</th>\n",
       "      <th>original_language</th>\n",
       "      <th>overview</th>\n",
       "      <th>popularity</th>\n",
       "      <th>revenue</th>\n",
       "      <th>runtime</th>\n",
       "      <th>title</th>\n",
       "      <th>vote_average</th>\n",
       "      <th>vote_count</th>\n",
       "      <th>cast</th>\n",
       "      <th>crew</th>\n",
       "      <th>year</th>\n",
       "      <th>tags</th>\n",
       "    </tr>\n",
       "  </thead>\n",
       "  <tbody>\n",
       "    <tr>\n",
       "      <th>0</th>\n",
       "      <td>237000000</td>\n",
       "      <td>[Action, Adventure, Fantasy, ScienceFiction]</td>\n",
       "      <td>19995</td>\n",
       "      <td>[cultureclash, future, spacewar, spacecolony, ...</td>\n",
       "      <td>en</td>\n",
       "      <td>[In, the, 22nd, century,, a, paraplegic, Marin...</td>\n",
       "      <td>150.437577</td>\n",
       "      <td>2787965087</td>\n",
       "      <td>162.0</td>\n",
       "      <td>Avatar</td>\n",
       "      <td>7.2</td>\n",
       "      <td>11800</td>\n",
       "      <td>[SamWorthington, ZoeSaldana, SigourneyWeaver]</td>\n",
       "      <td>[JamesCameron]</td>\n",
       "      <td>2009.0</td>\n",
       "      <td>In the 22nd century, a paraplegic Marine is di...</td>\n",
       "    </tr>\n",
       "    <tr>\n",
       "      <th>1</th>\n",
       "      <td>300000000</td>\n",
       "      <td>[Adventure, Fantasy, Action]</td>\n",
       "      <td>285</td>\n",
       "      <td>[ocean, drugabuse, exoticisland, eastindiatrad...</td>\n",
       "      <td>en</td>\n",
       "      <td>[Captain, Barbossa,, long, believed, to, be, d...</td>\n",
       "      <td>139.082615</td>\n",
       "      <td>961000000</td>\n",
       "      <td>169.0</td>\n",
       "      <td>Pirates of the Caribbean: At World's End</td>\n",
       "      <td>6.9</td>\n",
       "      <td>4500</td>\n",
       "      <td>[JohnnyDepp, OrlandoBloom, KeiraKnightley]</td>\n",
       "      <td>[GoreVerbinski]</td>\n",
       "      <td>2007.0</td>\n",
       "      <td>Captain Barbossa, long believed to be dead, ha...</td>\n",
       "    </tr>\n",
       "  </tbody>\n",
       "</table>\n",
       "</div>"
      ],
      "text/plain": [
       "      budget                                        genres     id  \\\n",
       "0  237000000  [Action, Adventure, Fantasy, ScienceFiction]  19995   \n",
       "1  300000000                  [Adventure, Fantasy, Action]    285   \n",
       "\n",
       "                                            keywords original_language  \\\n",
       "0  [cultureclash, future, spacewar, spacecolony, ...                en   \n",
       "1  [ocean, drugabuse, exoticisland, eastindiatrad...                en   \n",
       "\n",
       "                                            overview  popularity     revenue  \\\n",
       "0  [In, the, 22nd, century,, a, paraplegic, Marin...  150.437577  2787965087   \n",
       "1  [Captain, Barbossa,, long, believed, to, be, d...  139.082615   961000000   \n",
       "\n",
       "   runtime                                     title  vote_average  \\\n",
       "0    162.0                                    Avatar           7.2   \n",
       "1    169.0  Pirates of the Caribbean: At World's End           6.9   \n",
       "\n",
       "   vote_count                                           cast             crew  \\\n",
       "0       11800  [SamWorthington, ZoeSaldana, SigourneyWeaver]   [JamesCameron]   \n",
       "1        4500     [JohnnyDepp, OrlandoBloom, KeiraKnightley]  [GoreVerbinski]   \n",
       "\n",
       "     year                                               tags  \n",
       "0  2009.0  In the 22nd century, a paraplegic Marine is di...  \n",
       "1  2007.0  Captain Barbossa, long believed to be dead, ha...  "
      ]
     },
     "execution_count": 72,
     "metadata": {},
     "output_type": "execute_result"
    }
   ],
   "source": [
    "df.head()"
   ]
  },
  {
   "cell_type": "code",
   "execution_count": 73,
   "id": "d496848d",
   "metadata": {},
   "outputs": [
    {
     "data": {
      "text/plain": [
       "0"
      ]
     },
     "execution_count": 73,
     "metadata": {},
     "output_type": "execute_result"
    }
   ],
   "source": [
    "df[df['title'] == 'Avatar'].index[0]"
   ]
  },
  {
   "cell_type": "code",
   "execution_count": 74,
   "id": "d45f3f6d",
   "metadata": {},
   "outputs": [],
   "source": [
    "def recommend(movie):\n",
    "    index = df[df['title'] == movie].index[0]\n",
    "    distances = sorted(list(enumerate(similarity[index])),reverse=True,key = lambda x: x[1])\n",
    "    for i in distances[1:6]:\n",
    "        print(df.iloc[i[0]].title)"
   ]
  },
  {
   "cell_type": "code",
   "execution_count": 75,
   "id": "a4b18ec6",
   "metadata": {},
   "outputs": [
    {
     "name": "stdout",
     "output_type": "stream",
     "text": [
      "Pirates of the Caribbean: At World's End\n"
     ]
    }
   ],
   "source": [
    "recommend('Avatar')"
   ]
  },
  {
   "cell_type": "code",
   "execution_count": null,
   "id": "00fcf286",
   "metadata": {},
   "outputs": [],
   "source": []
  }
 ],
 "metadata": {
  "kernelspec": {
   "display_name": "Python 3",
   "language": "python",
   "name": "python3"
  },
  "language_info": {
   "codemirror_mode": {
    "name": "ipython",
    "version": 3
   },
   "file_extension": ".py",
   "mimetype": "text/x-python",
   "name": "python",
   "nbconvert_exporter": "python",
   "pygments_lexer": "ipython3",
   "version": "3.8.8"
  }
 },
 "nbformat": 4,
 "nbformat_minor": 5
}
